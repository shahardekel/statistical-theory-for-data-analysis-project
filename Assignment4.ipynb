{
 "cells": [
  {
   "cell_type": "markdown",
   "metadata": {
    "id": "V0x9NU_noYOq"
   },
   "source": [
    "<h1 style=\"color:violet; text-align:center;\">Assignment #4</h1>\n",
    "<h3 style=\"color:violet; text-align:center;\">Shahar Dekel 318864436</h3>\n",
    "<h3 style=\"color:violet; text-align:center;\">Amit Feiner 316552710</h3>"
   ]
  },
  {
   "cell_type": "markdown",
   "metadata": {
    "id": "6y4p_8fYoYOs"
   },
   "source": [
    "<h2>Loading the dataset</h2>"
   ]
  },
  {
   "cell_type": "code",
   "execution_count": 62,
   "metadata": {
    "colab": {
     "base_uri": "https://localhost:8080/",
     "height": 419
    },
    "id": "yMls4oCroYOt",
    "outputId": "c3845ea2-53f3-4b76-db5e-95a616fde2ec"
   },
   "outputs": [
    {
     "data": {
      "text/html": [
       "<div>\n",
       "<style scoped>\n",
       "    .dataframe tbody tr th:only-of-type {\n",
       "        vertical-align: middle;\n",
       "    }\n",
       "\n",
       "    .dataframe tbody tr th {\n",
       "        vertical-align: top;\n",
       "    }\n",
       "\n",
       "    .dataframe thead th {\n",
       "        text-align: right;\n",
       "    }\n",
       "</style>\n",
       "<table border=\"1\" class=\"dataframe\">\n",
       "  <thead>\n",
       "    <tr style=\"text-align: right;\">\n",
       "      <th></th>\n",
       "      <th>male</th>\n",
       "      <th>age</th>\n",
       "      <th>education</th>\n",
       "      <th>currentSmoker</th>\n",
       "      <th>cigsPerDay</th>\n",
       "      <th>BPMeds</th>\n",
       "      <th>diabetes</th>\n",
       "      <th>BMI</th>\n",
       "      <th>heartRate</th>\n",
       "      <th>glucose</th>\n",
       "    </tr>\n",
       "  </thead>\n",
       "  <tbody>\n",
       "    <tr>\n",
       "      <th>0</th>\n",
       "      <td>1</td>\n",
       "      <td>39</td>\n",
       "      <td>4.0</td>\n",
       "      <td>0</td>\n",
       "      <td>0.0</td>\n",
       "      <td>0.0</td>\n",
       "      <td>0</td>\n",
       "      <td>26.97</td>\n",
       "      <td>80.0</td>\n",
       "      <td>77.0</td>\n",
       "    </tr>\n",
       "    <tr>\n",
       "      <th>1</th>\n",
       "      <td>0</td>\n",
       "      <td>46</td>\n",
       "      <td>2.0</td>\n",
       "      <td>0</td>\n",
       "      <td>0.0</td>\n",
       "      <td>0.0</td>\n",
       "      <td>0</td>\n",
       "      <td>28.73</td>\n",
       "      <td>95.0</td>\n",
       "      <td>76.0</td>\n",
       "    </tr>\n",
       "    <tr>\n",
       "      <th>2</th>\n",
       "      <td>1</td>\n",
       "      <td>48</td>\n",
       "      <td>1.0</td>\n",
       "      <td>1</td>\n",
       "      <td>20.0</td>\n",
       "      <td>0.0</td>\n",
       "      <td>0</td>\n",
       "      <td>25.34</td>\n",
       "      <td>75.0</td>\n",
       "      <td>70.0</td>\n",
       "    </tr>\n",
       "    <tr>\n",
       "      <th>3</th>\n",
       "      <td>0</td>\n",
       "      <td>61</td>\n",
       "      <td>3.0</td>\n",
       "      <td>1</td>\n",
       "      <td>30.0</td>\n",
       "      <td>0.0</td>\n",
       "      <td>0</td>\n",
       "      <td>28.58</td>\n",
       "      <td>65.0</td>\n",
       "      <td>103.0</td>\n",
       "    </tr>\n",
       "    <tr>\n",
       "      <th>4</th>\n",
       "      <td>0</td>\n",
       "      <td>46</td>\n",
       "      <td>3.0</td>\n",
       "      <td>1</td>\n",
       "      <td>23.0</td>\n",
       "      <td>0.0</td>\n",
       "      <td>0</td>\n",
       "      <td>23.10</td>\n",
       "      <td>85.0</td>\n",
       "      <td>85.0</td>\n",
       "    </tr>\n",
       "    <tr>\n",
       "      <th>...</th>\n",
       "      <td>...</td>\n",
       "      <td>...</td>\n",
       "      <td>...</td>\n",
       "      <td>...</td>\n",
       "      <td>...</td>\n",
       "      <td>...</td>\n",
       "      <td>...</td>\n",
       "      <td>...</td>\n",
       "      <td>...</td>\n",
       "      <td>...</td>\n",
       "    </tr>\n",
       "    <tr>\n",
       "      <th>4233</th>\n",
       "      <td>1</td>\n",
       "      <td>50</td>\n",
       "      <td>1.0</td>\n",
       "      <td>1</td>\n",
       "      <td>1.0</td>\n",
       "      <td>0.0</td>\n",
       "      <td>0</td>\n",
       "      <td>25.97</td>\n",
       "      <td>66.0</td>\n",
       "      <td>86.0</td>\n",
       "    </tr>\n",
       "    <tr>\n",
       "      <th>4234</th>\n",
       "      <td>1</td>\n",
       "      <td>51</td>\n",
       "      <td>3.0</td>\n",
       "      <td>1</td>\n",
       "      <td>43.0</td>\n",
       "      <td>0.0</td>\n",
       "      <td>0</td>\n",
       "      <td>19.71</td>\n",
       "      <td>65.0</td>\n",
       "      <td>68.0</td>\n",
       "    </tr>\n",
       "    <tr>\n",
       "      <th>4235</th>\n",
       "      <td>0</td>\n",
       "      <td>48</td>\n",
       "      <td>2.0</td>\n",
       "      <td>1</td>\n",
       "      <td>20.0</td>\n",
       "      <td>NaN</td>\n",
       "      <td>0</td>\n",
       "      <td>22.00</td>\n",
       "      <td>84.0</td>\n",
       "      <td>86.0</td>\n",
       "    </tr>\n",
       "    <tr>\n",
       "      <th>4236</th>\n",
       "      <td>0</td>\n",
       "      <td>44</td>\n",
       "      <td>1.0</td>\n",
       "      <td>1</td>\n",
       "      <td>15.0</td>\n",
       "      <td>0.0</td>\n",
       "      <td>0</td>\n",
       "      <td>19.16</td>\n",
       "      <td>86.0</td>\n",
       "      <td>NaN</td>\n",
       "    </tr>\n",
       "    <tr>\n",
       "      <th>4237</th>\n",
       "      <td>0</td>\n",
       "      <td>52</td>\n",
       "      <td>2.0</td>\n",
       "      <td>0</td>\n",
       "      <td>0.0</td>\n",
       "      <td>0.0</td>\n",
       "      <td>0</td>\n",
       "      <td>21.47</td>\n",
       "      <td>80.0</td>\n",
       "      <td>107.0</td>\n",
       "    </tr>\n",
       "  </tbody>\n",
       "</table>\n",
       "<p>4238 rows × 10 columns</p>\n",
       "</div>"
      ],
      "text/plain": [
       "      male  age  education  currentSmoker  cigsPerDay  BPMeds  diabetes  \\\n",
       "0        1   39        4.0              0         0.0     0.0         0   \n",
       "1        0   46        2.0              0         0.0     0.0         0   \n",
       "2        1   48        1.0              1        20.0     0.0         0   \n",
       "3        0   61        3.0              1        30.0     0.0         0   \n",
       "4        0   46        3.0              1        23.0     0.0         0   \n",
       "...    ...  ...        ...            ...         ...     ...       ...   \n",
       "4233     1   50        1.0              1         1.0     0.0         0   \n",
       "4234     1   51        3.0              1        43.0     0.0         0   \n",
       "4235     0   48        2.0              1        20.0     NaN         0   \n",
       "4236     0   44        1.0              1        15.0     0.0         0   \n",
       "4237     0   52        2.0              0         0.0     0.0         0   \n",
       "\n",
       "        BMI  heartRate  glucose  \n",
       "0     26.97       80.0     77.0  \n",
       "1     28.73       95.0     76.0  \n",
       "2     25.34       75.0     70.0  \n",
       "3     28.58       65.0    103.0  \n",
       "4     23.10       85.0     85.0  \n",
       "...     ...        ...      ...  \n",
       "4233  25.97       66.0     86.0  \n",
       "4234  19.71       65.0     68.0  \n",
       "4235  22.00       84.0     86.0  \n",
       "4236  19.16       86.0      NaN  \n",
       "4237  21.47       80.0    107.0  \n",
       "\n",
       "[4238 rows x 10 columns]"
      ]
     },
     "execution_count": 62,
     "metadata": {},
     "output_type": "execute_result"
    }
   ],
   "source": [
    "# install packages at first run\n",
    "#!pip install pandas\n",
    "#!pip install seaborn\n",
    "#!pip install tabulate\n",
    "\n",
    "import pandas as pd\n",
    "import numpy as np\n",
    "import matplotlib.pyplot as plt\n",
    "import seaborn as sns \n",
    "import scipy\n",
    "import warnings\n",
    "warnings.filterwarnings('ignore')\n",
    "from statsmodels.regression.linear_model import OLS, RegressionResults\n",
    "from tabulate import tabulate\n",
    "import statsmodels.api as sm\n",
    "\n",
    "dataset='framingham_heart_disease.csv'\n",
    "df=pd.read_csv(dataset, sep=',')\n",
    "df.columns.values\n",
    "# removing unwanted columns\n",
    "df.drop(['prevalentStroke', 'prevalentHyp','totChol','sysBP','diaBP','TenYearCHD'], axis='columns', inplace=True)\n",
    "for val in ['age', 'heartRate']:\n",
    "    df[val].fillna(df[val].mean(), inplace=True)\n",
    "for val in ['currentSmoker', 'male']:\n",
    "    df[val].dropna()\n",
    "df"
   ]
  },
  {
   "cell_type": "markdown",
   "metadata": {
    "id": "39sn4uNfoYOw"
   },
   "source": [
    "<h2>Part 1- Linear Regression</h2>\n",
    "<h3>In this part, we chose to focus on 'male' (binary), 'age' (continuos) and 'currentSmoker' (binary) as explanatory variables (X$_1$, X$_2$, X$_3$) and 'heartRate' (continuos) as explained variable (Y)\n",
    "<br><br>\n",
    "Our research question is- How does the sex, age and the fact that the person is a smoker or not affects the heart rate of the same person?"
   ]
  },
  {
   "cell_type": "code",
   "execution_count": 63,
   "metadata": {
    "id": "Vlvqg7FQoYOx"
   },
   "outputs": [],
   "source": [
    "subset=df.sample(200)\n",
    "subset\n",
    "X = subset[['male','age','currentSmoker']]\n",
    "X = sm.add_constant(X)\n",
    "Y = subset['heartRate']\n",
    "model = OLS(Y,X).fit()"
   ]
  },
  {
   "cell_type": "markdown",
   "metadata": {
    "id": "PMqHuEoxoYOx"
   },
   "source": [
    "<h3>1.</h3>"
   ]
  },
  {
   "cell_type": "code",
   "execution_count": 64,
   "metadata": {
    "id": "qsshqLCHoYOy"
   },
   "outputs": [],
   "source": [
    "def calculate_ci(se, var):\n",
    "    print('estimator for s.e.:',se)\n",
    "    z=1.96 #the suitable precent for standard normal distribution\n",
    "    ci = [se - z*np.sqrt(var), se + z*np.sqrt(var)]\n",
    "    print(ci)\n",
    "    return ci"
   ]
  },
  {
   "cell_type": "code",
   "execution_count": 65,
   "metadata": {
    "colab": {
     "base_uri": "https://localhost:8080/"
    },
    "id": "aSdfPCWwoYOy",
    "outputId": "10c156cd-b45d-4e90-e44e-5385e64cbeba"
   },
   "outputs": [
    {
     "name": "stdout",
     "output_type": "stream",
     "text": [
      "A\n",
      "For the feature const\n",
      "estimator for s.e.: 75.25725607995848\n",
      "[64.08467065882324, 86.42984150109372]\n",
      "For the feature male\n",
      "estimator for s.e.: -1.833153545750843\n",
      "[-5.30169648391872, 1.635389392417034]\n",
      "For the feature age\n",
      "estimator for s.e.: -0.01441900299081883\n",
      "[-0.2309737288613423, 0.20213572287970463]\n",
      "For the feature currentSmoker\n",
      "estimator for s.e.: 2.5702784844823663\n",
      "[-0.9402851651107276, 6.080842134075461]\n"
     ]
    }
   ],
   "source": [
    "print(\"A\")\n",
    "\n",
    "features = ['const','male','age','currentSmoker']\n",
    "C = np.linalg.inv(X.T.dot(X))\n",
    "Y_mean = Y.mean()\n",
    "predictions = model.predict(X)\n",
    "SS_Res = sum((predictions - Y)**2)\n",
    "n,p = len(Y),len(features) \n",
    "df_Res=n-p\n",
    "X = np.array(X)\n",
    "MS_Res = SS_Res/df_Res\n",
    "\n",
    "\n",
    "ci_normal = dict()\n",
    "\n",
    "for i, val in enumerate(features):\n",
    "    print(\"For the feature\",val)\n",
    "    se=model.params[val]\n",
    "    var=MS_Res*C[i,i]\n",
    "    ci_normal[val] = calculate_ci(se, var)"
   ]
  },
  {
   "cell_type": "code",
   "execution_count": 66,
   "metadata": {
    "colab": {
     "base_uri": "https://localhost:8080/"
    },
    "id": "QuR20iXWoYOz",
    "outputId": "02ded8f1-e5bd-4225-d48b-200d2fc7c43e"
   },
   "outputs": [
    {
     "name": "stdout",
     "output_type": "stream",
     "text": [
      "B\n",
      "For the feature const\n",
      "estimator for s.e.: 75.25725607995848\n",
      "[64.79033784973446, 85.7241743101825]\n",
      "For the feature male\n",
      "estimator for s.e.: -1.833153545750843\n",
      "[-5.426098138657259, 1.7597910471555727]\n",
      "For the feature age\n",
      "estimator for s.e.: -0.01441900299081883\n",
      "[-0.2168400152307169, 0.18800200924907923]\n",
      "For the feature currentSmoker\n",
      "estimator for s.e.: 2.5702784844823663\n",
      "[-0.7599529404215715, 5.9005099093863045]\n"
     ]
    }
   ],
   "source": [
    "print(\"B\")\n",
    "B = 400\n",
    "sum_index = 0\n",
    "cat_index = pd.DataFrame()\n",
    "\n",
    "for i in range(B): \n",
    "    tmp = subset.sample(n=200, replace=True)\n",
    "    X_new = tmp[['male','age','currentSmoker']]\n",
    "    X_new = sm.add_constant(X_new)\n",
    "    y_new = tmp['heartRate']\n",
    "    model_new = OLS(y_new,X_new).fit()\n",
    "    \n",
    "    sum_index += model_new.params\n",
    "    cat_index = pd.concat([cat_index,pd.DataFrame(model_new.params, columns=[f\"{i+1}\"])], axis = 1)\n",
    "    \n",
    "upper = cat_index.apply(lambda x: x**2).sum(axis=1)/B \n",
    "lower = cat_index.sum(axis=1).apply(lambda x: (x/B)**2)\n",
    "bootstrap = upper - lower\n",
    "\n",
    "ci_normal_bootstrap = dict()\n",
    "\n",
    "for index, variable in enumerate(features):\n",
    "    print(\"For the feature\",variable)\n",
    "    se=model.params[variable]\n",
    "    var=bootstrap[variable]\n",
    "    ci_normal_bootstrap[variable] = calculate_ci(se,var)"
   ]
  },
  {
   "cell_type": "code",
   "execution_count": 67,
   "metadata": {
    "colab": {
     "base_uri": "https://localhost:8080/"
    },
    "id": "LPrdGKLWoYO0",
    "outputId": "386ca253-0f1c-43ae-ee95-e4bf980a4ca7"
   },
   "outputs": [
    {
     "name": "stdout",
     "output_type": "stream",
     "text": [
      "C\n",
      "For the feature const\n",
      "[65.60576801385668, 85.51137823044756]\n",
      "For the feature male\n",
      "[-5.6426711243361805, 1.5325400019838291]\n",
      "For the feature age\n",
      "[-0.21406567687045353, 0.17230158535856382]\n",
      "For the feature currentSmoker\n",
      "[-1.2469360345032143, 5.4473430467853134]\n"
     ]
    }
   ],
   "source": [
    "print(\"C\")\n",
    "def ci_pivot(estimator, bootstrap):\n",
    "    alpha = 0.05\n",
    "    bootstrap.sort()\n",
    "    lower = bootstrap[int(B*(1-alpha/2))]\n",
    "    upper = bootstrap[int(B*(alpha/2))]\n",
    "    ci = [2* estimator - lower, 2* estimator - upper]\n",
    "    print(ci)\n",
    "    return ci\n",
    "\n",
    "ci_pivotal = dict()\n",
    "\n",
    "for i, val in enumerate(features):\n",
    "    print(\"For the feature\",val)\n",
    "    estimator=model.params[val]\n",
    "    boot=np.array(cat_index.T[val])\n",
    "    ci_pivotal[val] = ci_pivot(estimator,boot)"
   ]
  },
  {
   "cell_type": "code",
   "execution_count": 68,
   "metadata": {
    "colab": {
     "base_uri": "https://localhost:8080/"
    },
    "id": "Fqmuk-umoYO2",
    "outputId": "219b0149-7b08-4283-cf0d-e06b74ff89f2"
   },
   "outputs": [
    {
     "name": "stdout",
     "output_type": "stream",
     "text": [
      "D\n",
      "For the feature const\n",
      "[65.0031339294694, 84.90874414606029]\n",
      "For the feature male\n",
      "[-5.198847093485515, 1.9763640328344942]\n",
      "For the feature age\n",
      "[-0.20113959134020148, 0.18522767088881587]\n",
      "For the feature currentSmoker\n",
      "[-0.30678607782058087, 6.387493003467947]\n"
     ]
    }
   ],
   "source": [
    "print(\"D\")\n",
    "ci_precentile = dict()\n",
    "alpha = 0.05\n",
    "\n",
    "for i, val in enumerate(features):\n",
    "    tmp = np.array(cat_index.T[val])\n",
    "    tmp.sort()\n",
    "    print(\"For the feature\",val)\n",
    "    ci_precentile[val] = [tmp[int(B*(alpha/2))], tmp[int(B*(1-alpha/2))]]\n",
    "    print(ci_precentile[val])"
   ]
  },
  {
   "cell_type": "markdown",
   "metadata": {
    "id": "DWHuTmnvoYO3"
   },
   "source": [
    "<h3>2.</h3>"
   ]
  },
  {
   "cell_type": "code",
   "execution_count": 69,
   "metadata": {
    "colab": {
     "base_uri": "https://localhost:8080/",
     "height": 535
    },
    "id": "LTuEaliwoYO3",
    "outputId": "157d6cb4-b3db-446c-bcf8-1c359289b781"
   },
   "outputs": [
    {
     "data": {
      "image/png": "[encoded data removed]",
      "text/plain": [
       "<Figure size 720x360 with 1 Axes>"
      ]
     },
     "metadata": {
      "needs_background": "light"
     },
     "output_type": "display_data"
    },
    {
     "name": "stdout",
     "output_type": "stream",
     "text": [
      "All confidence intervals contains the betas from the full model\n"
     ]
    }
   ],
   "source": [
    "# coefficients based on all the data\n",
    "X = df[['male','age','currentSmoker']]\n",
    "X = sm.add_constant(X)\n",
    "Y = df['heartRate']\n",
    "full = OLS(Y,X).fit()\n",
    "\n",
    "n = 0\n",
    "estimates=dict()\n",
    "for i in features:\n",
    "    estimates[i] = n\n",
    "    n += 1\n",
    "errors_count = dict()\n",
    "y = [1, 4, 7, 10]\n",
    "\n",
    "plt.figure(figsize=(10,5))\n",
    "methods = ['S.E Estimation Varience Matrix Based', 'S.E Estimation Bootstrap Normal Based', 'Bootstrap Pivotal','Bootstrap Precentile']\n",
    "intervals_types = [ci_normal, ci_normal_bootstrap, ci_pivotal, ci_precentile]\n",
    "for method, intervals in zip(methods,intervals_types):\n",
    "    error, x, estimator = [0]*4, [0]*4, [0]*4\n",
    "    for key, val in intervals.items():\n",
    "        x[estimates[key]] = np.mean(val)\n",
    "        error[estimates[key]] = val[1]-val[0]\n",
    "        errors_count[key,method] = round(val[1]-val[0],4)\n",
    "        estimator[estimates[key]] = full.params[key]\n",
    "    \n",
    "    plt.errorbar(x, y, xerr=error, label=method, linestyle = 'None')\n",
    "    plt.scatter(estimator,y)\n",
    "    \n",
    "    y = [i+0.5 for i in y]\n",
    "\n",
    "    \n",
    "plt.title(\"Confidence Intervals Per Model\")    \n",
    "plt.legend(loc='upper right')\n",
    "plt.yticks((0, 1.75, 4.75, 7.75, 10.75, 13), ('', 'const', 'male','age','currentSmoker',''),fontsize=12)\n",
    "plt.show()\n",
    "\n",
    "\n",
    "real_beta=full.params\n",
    "cnt=0\n",
    "for i in (features):\n",
    "    for method, intervals in zip(methods,intervals_types):\n",
    "        if not (intervals[i][0] <= real_beta[i] <= intervals[i][1]):\n",
    "            print(f\"The CI calculated by {method} does not contains {i} coff.\\n the interval is {intervals[i]} and the real beta is {real_beta[i]}\")\n",
    "        else:\n",
    "            cnt+=1\n",
    "if cnt == len(intervals)*len(methods):\n",
    "    print(\"All confidence intervals contains the betas from the full model\")"
   ]
  },
  {
   "cell_type": "markdown",
   "metadata": {
    "id": "4_HHcSNeoYO4"
   },
   "source": [
    "<h3>3.</h3>"
   ]
  },
  {
   "cell_type": "code",
   "execution_count": 70,
   "metadata": {
    "id": "0vyy8_tloYO5"
   },
   "outputs": [
    {
     "data": {
      "text/html": [
       "<div>\n",
       "<style scoped>\n",
       "    .dataframe tbody tr th:only-of-type {\n",
       "        vertical-align: middle;\n",
       "    }\n",
       "\n",
       "    .dataframe tbody tr th {\n",
       "        vertical-align: top;\n",
       "    }\n",
       "\n",
       "    .dataframe thead th {\n",
       "        text-align: right;\n",
       "    }\n",
       "</style>\n",
       "<table border=\"1\" class=\"dataframe\">\n",
       "  <thead>\n",
       "    <tr style=\"text-align: right;\">\n",
       "      <th></th>\n",
       "      <th>male</th>\n",
       "      <th>age</th>\n",
       "      <th>currentSmoker</th>\n",
       "      <th>heartRate</th>\n",
       "    </tr>\n",
       "  </thead>\n",
       "  <tbody>\n",
       "    <tr>\n",
       "      <th>1150</th>\n",
       "      <td>0</td>\n",
       "      <td>46</td>\n",
       "      <td>1</td>\n",
       "      <td>70.0</td>\n",
       "    </tr>\n",
       "    <tr>\n",
       "      <th>3190</th>\n",
       "      <td>0</td>\n",
       "      <td>46</td>\n",
       "      <td>1</td>\n",
       "      <td>80.0</td>\n",
       "    </tr>\n",
       "    <tr>\n",
       "      <th>2245</th>\n",
       "      <td>0</td>\n",
       "      <td>53</td>\n",
       "      <td>0</td>\n",
       "      <td>100.0</td>\n",
       "    </tr>\n",
       "    <tr>\n",
       "      <th>3168</th>\n",
       "      <td>0</td>\n",
       "      <td>53</td>\n",
       "      <td>0</td>\n",
       "      <td>67.0</td>\n",
       "    </tr>\n",
       "    <tr>\n",
       "      <th>300</th>\n",
       "      <td>1</td>\n",
       "      <td>38</td>\n",
       "      <td>0</td>\n",
       "      <td>72.0</td>\n",
       "    </tr>\n",
       "    <tr>\n",
       "      <th>...</th>\n",
       "      <td>...</td>\n",
       "      <td>...</td>\n",
       "      <td>...</td>\n",
       "      <td>...</td>\n",
       "    </tr>\n",
       "    <tr>\n",
       "      <th>291</th>\n",
       "      <td>1</td>\n",
       "      <td>48</td>\n",
       "      <td>0</td>\n",
       "      <td>69.0</td>\n",
       "    </tr>\n",
       "    <tr>\n",
       "      <th>3404</th>\n",
       "      <td>0</td>\n",
       "      <td>62</td>\n",
       "      <td>0</td>\n",
       "      <td>76.0</td>\n",
       "    </tr>\n",
       "    <tr>\n",
       "      <th>2592</th>\n",
       "      <td>0</td>\n",
       "      <td>37</td>\n",
       "      <td>0</td>\n",
       "      <td>82.0</td>\n",
       "    </tr>\n",
       "    <tr>\n",
       "      <th>328</th>\n",
       "      <td>0</td>\n",
       "      <td>59</td>\n",
       "      <td>0</td>\n",
       "      <td>90.0</td>\n",
       "    </tr>\n",
       "    <tr>\n",
       "      <th>190</th>\n",
       "      <td>1</td>\n",
       "      <td>38</td>\n",
       "      <td>1</td>\n",
       "      <td>80.0</td>\n",
       "    </tr>\n",
       "  </tbody>\n",
       "</table>\n",
       "<p>100 rows × 4 columns</p>\n",
       "</div>"
      ],
      "text/plain": [
       "      male  age  currentSmoker  heartRate\n",
       "1150     0   46              1       70.0\n",
       "3190     0   46              1       80.0\n",
       "2245     0   53              0      100.0\n",
       "3168     0   53              0       67.0\n",
       "300      1   38              0       72.0\n",
       "...    ...  ...            ...        ...\n",
       "291      1   48              0       69.0\n",
       "3404     0   62              0       76.0\n",
       "2592     0   37              0       82.0\n",
       "328      0   59              0       90.0\n",
       "190      1   38              1       80.0\n",
       "\n",
       "[100 rows x 4 columns]"
      ]
     },
     "execution_count": 70,
     "metadata": {},
     "output_type": "execute_result"
    }
   ],
   "source": [
    "subset100 = df[~(df.index.isin(subset.index.values))].sample(n=100)\n",
    "subset100 = subset100[['male','age','currentSmoker','heartRate']]\n",
    "subset100"
   ]
  },
  {
   "cell_type": "code",
   "execution_count": 71,
   "metadata": {
    "id": "5vcIlfEQoYO5"
   },
   "outputs": [
    {
     "name": "stdout",
     "output_type": "stream",
     "text": [
      "A\n",
      "Predictions for the new subset containing 100 new points\n",
      " 1150    77.164260\n",
      "3190    77.164260\n",
      "2245    74.493049\n",
      "3168    74.493049\n",
      "300     72.876180\n",
      "          ...    \n",
      "291     72.731990\n",
      "3404    74.363278\n",
      "2592    74.723753\n",
      "328     74.406535\n",
      "190     75.446459\n",
      "Length: 100, dtype: float64\n"
     ]
    }
   ],
   "source": [
    "print(\"A\")\n",
    "X_new = subset100[['male','age','currentSmoker']]\n",
    "X_new = sm.add_constant(X_new)\n",
    "Y_new = subset100['heartRate']\n",
    "Y_pred = model.predict(X_new)\n",
    "print(\"Predictions for the new subset containing 100 new points\\n\",Y_pred)"
   ]
  },
  {
   "cell_type": "code",
   "execution_count": 72,
   "metadata": {
    "id": "WinmyphOoYO6"
   },
   "outputs": [
    {
     "name": "stdout",
     "output_type": "stream",
     "text": [
      "B\n",
      "          lower      upper\n",
      "1150  74.098081  80.230440\n",
      "3190  74.098081  80.230440\n",
      "2245  72.062916  76.923182\n",
      "3168  72.062916  76.923182\n",
      "300   68.602175  77.150186\n",
      "...         ...        ...\n",
      "291   69.266420  76.197561\n",
      "3404  71.009998  77.716558\n",
      "2592  71.348532  78.098974\n",
      "328   71.441602  77.371468\n",
      "190   71.671164  79.221754\n",
      "\n",
      "[100 rows x 2 columns]\n"
     ]
    }
   ],
   "source": [
    "print(\"B\")\n",
    "cat_pred = pd.DataFrame()\n",
    "\n",
    "for i in range(B):\n",
    "    tmp = subset.sample(n=200, replace=True) \n",
    "    X100 = tmp[['male','age','currentSmoker']]\n",
    "    X100 = sm.add_constant(X100)\n",
    "    Y100 = tmp['heartRate']\n",
    "    model_temp = OLS(Y100,X100).fit()\n",
    "    Y100_pred_temp = model_temp.predict(X_new)\n",
    "    cat_pred = pd.concat([cat_pred,pd.DataFrame(Y100_pred_temp, columns=[f\"{i+1}\"])], axis = 1)\n",
    "\n",
    "left = cat_pred.apply(lambda x: x**2).sum(axis=1)/B \n",
    "right = cat_pred.sum(axis=1).apply(lambda x: (x/B)**2)\n",
    "bootstrap_se = np.sqrt(left - right)\n",
    "\n",
    "subset100['Y100_pred'] = Y_pred\n",
    "subset100['s.e'] = bootstrap_se \n",
    "subset100['lower'] = subset100['Y100_pred'] - 1.96*subset100['s.e']\n",
    "subset100['upper'] = subset100['Y100_pred'] + 1.96*subset100['s.e']\n",
    "\n",
    "print(subset100[['lower','upper']])"
   ]
  },
  {
   "cell_type": "code",
   "execution_count": 73,
   "metadata": {
    "id": "FvplI-4joYO7"
   },
   "outputs": [
    {
     "name": "stdout",
     "output_type": "stream",
     "text": [
      "C\n",
      "The precent of the real Ys that are in the CI is 20%\n"
     ]
    }
   ],
   "source": [
    "print(\"C\")\n",
    "cnt=0\n",
    "for i in Y_new.index:\n",
    "    if subset100['lower'][i]<=Y_new[i]<=subset100['upper'][i]:\n",
    "        cnt+=1\n",
    "print(f\"The precent of the real Ys that are in the CI is {cnt}%\")\n",
    "    "
   ]
  },
  {
   "cell_type": "markdown",
   "metadata": {
    "id": "XeMc7FUlpcfE"
   },
   "source": [
    "<h3>Part 2- Tests</h3>"
   ]
  },
  {
   "cell_type": "markdown",
   "metadata": {
    "id": "LcJFSELZpd7m"
   },
   "source": [
    "<h3>Our Test Question</h3>\n",
    "<br>\n",
    "(the question from pare 2 was\n",
    "    Are the values of 'heartRate' different between different levels of 'currentSmoker'?)\n"
   ]
  },
  {
   "cell_type": "markdown",
   "metadata": {
    "id": "jMtljASGpfx4"
   },
   "source": [
    "## Q1.\n",
    "\n",
    "#### Test Question:\n",
    "\n",
    "#### Is the distribution of the HEART RATE of SMOKERS higher stochasticly than the distribution of the HEART RATE of NON SMOKERS?"
   ]
  },
  {
   "cell_type": "markdown",
   "metadata": {
    "id": "-e8h_ENjqsSv"
   },
   "source": [
    "## Q2.\n"
   ]
  },
  {
   "cell_type": "code",
   "execution_count": 74,
   "metadata": {
    "colab": {
     "base_uri": "https://localhost:8080/",
     "height": 453
    },
    "id": "xUfp8-tGqrma",
    "outputId": "fcd27f65-51f6-474f-9c04-895f9971b7e6"
   },
   "outputs": [
    {
     "name": "stdout",
     "output_type": "stream",
     "text": [
      "Number of records: 200\n",
      "106 smokers and 94 non smokers\n"
     ]
    },
    {
     "data": {
      "text/html": [
       "<div>\n",
       "<style scoped>\n",
       "    .dataframe tbody tr th:only-of-type {\n",
       "        vertical-align: middle;\n",
       "    }\n",
       "\n",
       "    .dataframe tbody tr th {\n",
       "        vertical-align: top;\n",
       "    }\n",
       "\n",
       "    .dataframe thead th {\n",
       "        text-align: right;\n",
       "    }\n",
       "</style>\n",
       "<table border=\"1\" class=\"dataframe\">\n",
       "  <thead>\n",
       "    <tr style=\"text-align: right;\">\n",
       "      <th></th>\n",
       "      <th>heartRate</th>\n",
       "      <th>currentSmoker</th>\n",
       "    </tr>\n",
       "  </thead>\n",
       "  <tbody>\n",
       "    <tr>\n",
       "      <th>3345</th>\n",
       "      <td>60.0</td>\n",
       "      <td>1</td>\n",
       "    </tr>\n",
       "    <tr>\n",
       "      <th>385</th>\n",
       "      <td>62.0</td>\n",
       "      <td>0</td>\n",
       "    </tr>\n",
       "    <tr>\n",
       "      <th>1566</th>\n",
       "      <td>75.0</td>\n",
       "      <td>1</td>\n",
       "    </tr>\n",
       "    <tr>\n",
       "      <th>3529</th>\n",
       "      <td>65.0</td>\n",
       "      <td>0</td>\n",
       "    </tr>\n",
       "    <tr>\n",
       "      <th>2496</th>\n",
       "      <td>84.0</td>\n",
       "      <td>0</td>\n",
       "    </tr>\n",
       "    <tr>\n",
       "      <th>...</th>\n",
       "      <td>...</td>\n",
       "      <td>...</td>\n",
       "    </tr>\n",
       "    <tr>\n",
       "      <th>3513</th>\n",
       "      <td>71.0</td>\n",
       "      <td>0</td>\n",
       "    </tr>\n",
       "    <tr>\n",
       "      <th>2454</th>\n",
       "      <td>67.0</td>\n",
       "      <td>0</td>\n",
       "    </tr>\n",
       "    <tr>\n",
       "      <th>2448</th>\n",
       "      <td>68.0</td>\n",
       "      <td>1</td>\n",
       "    </tr>\n",
       "    <tr>\n",
       "      <th>4144</th>\n",
       "      <td>90.0</td>\n",
       "      <td>0</td>\n",
       "    </tr>\n",
       "    <tr>\n",
       "      <th>593</th>\n",
       "      <td>94.0</td>\n",
       "      <td>1</td>\n",
       "    </tr>\n",
       "  </tbody>\n",
       "</table>\n",
       "<p>200 rows × 2 columns</p>\n",
       "</div>"
      ],
      "text/plain": [
       "      heartRate  currentSmoker\n",
       "3345       60.0              1\n",
       "385        62.0              0\n",
       "1566       75.0              1\n",
       "3529       65.0              0\n",
       "2496       84.0              0\n",
       "...         ...            ...\n",
       "3513       71.0              0\n",
       "2454       67.0              0\n",
       "2448       68.0              1\n",
       "4144       90.0              0\n",
       "593        94.0              1\n",
       "\n",
       "[200 rows x 2 columns]"
      ]
     },
     "execution_count": 74,
     "metadata": {},
     "output_type": "execute_result"
    }
   ],
   "source": [
    "\n",
    "samples2 = subset[['heartRate','currentSmoker']].sample(200, random_state=0)\n",
    "\n",
    "df2 = subset[['heartRate','currentSmoker']]\n",
    "df2.dropna(inplace=True)\n",
    "df2.loc[df2['currentSmoker'] == 0 , 'currentSmoker'] = 1\n",
    "df2.loc[df2['currentSmoker'] == 1 , 'currentSmoker'] = 0\n",
    "\n",
    "# drop records with missing values\n",
    "samples2.dropna(inplace=True)\n",
    "n = samples2.shape[0]\n",
    "print(\"Number of records:\", n)\n",
    "samples2.loc[samples2['currentSmoker'] == 1 , 'currentSmoker'] = 1\n",
    "samples2.loc[samples2['currentSmoker'] == 0 , 'currentSmoker'] = 0\n",
    "n_nonSmokers = samples2[samples2['currentSmoker'] == 0].shape[0]\n",
    "n_smokers = samples2[samples2['currentSmoker'] == 1].shape[0]\n",
    "print(f\"{n_smokers} smokers and {n_nonSmokers} non smokers\")\n",
    "samples2"
   ]
  },
  {
   "cell_type": "markdown",
   "metadata": {
    "id": "hV4r0eLbtTOV"
   },
   "source": [
    "## Q3.\n",
    "\n",
    "Define $\\mu_1 = \\mu_m$ the average heart rate of smokers and $\\mu_2 = \\mu_f$ the average heart rate of non smokers based on the full data.\n",
    "Where $\\delta=\\mu_1-\\mu_2$"
   ]
  },
  {
   "cell_type": "markdown",
   "metadata": {
    "id": "wuWWiKRdtrZM"
   },
   "source": [
    "A) Estimate $\\mu_1$ by $\\hat{\\mu_1}$ - the average heart rate of smokers from the 200 sampled people. Similarly for non smokers.\n",
    "And $\\hat{\\delta}=\\hat{\\mu_1}-\\hat{\\mu_2}$"
   ]
  },
  {
   "cell_type": "code",
   "execution_count": 75,
   "metadata": {
    "colab": {
     "base_uri": "https://localhost:8080/"
    },
    "id": "RrpHrfDPtAsM",
    "outputId": "abe5890b-dc1f-4d99-ee44-141a6c6a5438"
   },
   "outputs": [
    {
     "name": "stdout",
     "output_type": "stream",
     "text": [
      "mu_s estimator: 76.1038, mu_n estimator: 73.9468, delta estimator: -2.157\n"
     ]
    }
   ],
   "source": [
    "mu_s_hat = samples2[samples2['currentSmoker'] == 1].mean()[0]\n",
    "mu_n_hat = samples2[samples2['currentSmoker'] == 0].mean()[0]\n",
    "delta_hat = mu_n_hat - mu_s_hat\n",
    "print(f\"mu_s estimator: {round(mu_s_hat,4)}, mu_n estimator: {round(mu_n_hat,4)}, delta estimator: {round(delta_hat,4)}\")"
   ]
  },
  {
   "cell_type": "code",
   "execution_count": 76,
   "metadata": {
    "colab": {
     "base_uri": "https://localhost:8080/",
     "height": 475
    },
    "id": "UEj7ndajuYbg",
    "outputId": "389530d6-c9ca-4ea3-f424-e4ea846a9ff3"
   },
   "outputs": [
    {
     "data": {
      "text/plain": [
       "Text(0.5, 1.0, 'non smokers heart rate histogram')"
      ]
     },
     "execution_count": 76,
     "metadata": {},
     "output_type": "execute_result"
    },
    {
     "data": {
      "image/png": "[encoded data removed]",
      "text/plain": [
       "<Figure size 864x504 with 2 Axes>"
      ]
     },
     "metadata": {
      "needs_background": "light"
     },
     "output_type": "display_data"
    }
   ],
   "source": [
    "import matplotlib.pyplot as plt\n",
    "fig, axs = plt.subplots(1,2,figsize = (12,7))\n",
    "sns.distplot(df.loc[df['currentSmoker'] == 1]['heartRate'], ax=axs[0], axlabel='heart rate')\n",
    "sns.distplot(df.loc[df['currentSmoker'] == 0]['heartRate'], ax=axs[1], axlabel='heart rate')\n",
    "axs[0].set_title('smokers heart rate histogram')\n",
    "axs[1].set_title('non smokers heart rate histogram')"
   ]
  },
  {
   "cell_type": "markdown",
   "metadata": {
    "id": "cSVWa_gT-Cgc"
   },
   "source": [
    "\n",
    "Both distributions look like roughly normal ditribution, but with slightly longer right tail and tranceted left tail.\n",
    "\n",
    "so we assume normal dustribution model.\n"
   ]
  },
  {
   "cell_type": "markdown",
   "metadata": {
    "id": "OagMtW7cvZEf"
   },
   "source": [
    "##B."
   ]
  },
  {
   "cell_type": "code",
   "execution_count": 77,
   "metadata": {
    "colab": {
     "base_uri": "https://localhost:8080/"
    },
    "id": "RC1XeU10vb2a",
    "outputId": "0f335da6-3440-4624-e2aa-d495e862a6c9"
   },
   "outputs": [
    {
     "name": "stdout",
     "output_type": "stream",
     "text": [
      "CI for delta is [-5.523276376643453, 1.2093462281087017]\n"
     ]
    }
   ],
   "source": [
    "from math import sqrt\n",
    "var_smokers = samples2[samples2['currentSmoker'] == 1].var()[0]/n_smokers\n",
    "var_nonSmokers = samples2[samples2['currentSmoker'] == 0].var()[0]/n_nonSmokers\n",
    "\n",
    "se_delta = sqrt(var_smokers + var_nonSmokers)\n",
    "print(f\"CI for delta is [{delta_hat-2*se_delta}, {delta_hat+2*se_delta}]\")"
   ]
  },
  {
   "cell_type": "markdown",
   "metadata": {
    "id": "yYz7P-V_v5BJ"
   },
   "source": [
    "## C."
   ]
  },
  {
   "cell_type": "code",
   "execution_count": 78,
   "metadata": {
    "colab": {
     "base_uri": "https://localhost:8080/"
    },
    "id": "uOYQR1F0vYil",
    "outputId": "628ff569-2e05-40b4-d79b-788408cf8025"
   },
   "outputs": [
    {
     "name": "stdout",
     "output_type": "stream",
     "text": [
      "the real parameter delta is nan\n"
     ]
    }
   ],
   "source": [
    "mu_s = df2[df2['currentSmoker'] == 1].mean()[0]\n",
    "mu_n = df2[df2['currentSmoker'] == 0].mean()[0]\n",
    "delta = mu_n - mu_s\n",
    "print(f\"the real parameter delta is {round(delta,4)}\")"
   ]
  },
  {
   "cell_type": "markdown",
   "metadata": {
    "id": "RJ0dw0MUCwgO"
   },
   "source": [
    "As we can see, the CI from the previous section contains the $\\delta$ calculated on the whole data."
   ]
  },
  {
   "cell_type": "markdown",
   "metadata": {
    "id": "lm8SCOJEwu88"
   },
   "source": [
    "##D."
   ]
  },
  {
   "cell_type": "code",
   "execution_count": 79,
   "metadata": {
    "colab": {
     "base_uri": "https://localhost:8080/"
    },
    "id": "TwcUV-sdvf2r",
    "outputId": "a124615a-885f-4586-fe36-24d26f4ba1b7"
   },
   "outputs": [
    {
     "name": "stdout",
     "output_type": "stream",
     "text": [
      "Wald-test results : statistic: -0.12824563530427227\n"
     ]
    }
   ],
   "source": [
    "from scipy import stats\n",
    "\n",
    "var_smokers2 = samples2[samples2['currentSmoker'] == 1].var(ddof=0)[0]\n",
    "var_nonSmokers2 = samples2[samples2['currentSmoker'] == 0].var(ddof=0)[0]\n",
    "\n",
    "w_statistic = (delta_hat)/sqrt(var_nonSmokers2 + var_smokers2)\n",
    "print(f\"Wald-test results : statistic: {w_statistic}\")"
   ]
  },
  {
   "cell_type": "markdown",
   "metadata": {
    "id": "xPTB1WGKDAMj"
   },
   "source": [
    "Based on the Wald test we got $T < Z_{1-\\alpha}=0.027$ therefore we do not reject the null hypothesis, meaning that we do not have evidence to say that the heart rate of smokers is higher than that of non smokers."
   ]
  },
  {
   "cell_type": "code",
   "execution_count": 80,
   "metadata": {
    "colab": {
     "base_uri": "https://localhost:8080/"
    },
    "id": "bCAvyrLuxjbn",
    "outputId": "7b3681d7-0993-4438-ca80-91663a22d445"
   },
   "outputs": [
    {
     "name": "stdout",
     "output_type": "stream",
     "text": [
      "Pvalue for Premuttions Test: 1.0\n"
     ]
    }
   ],
   "source": [
    "T_obs = delta_hat\n",
    "n_nonSmokers = samples2[samples2['currentSmoker'] == 0].shape[0]\n",
    "np.random.seed(0)\n",
    "indicator_sums = 0\n",
    "for b in range(B):\n",
    "    curr_samples = samples2.sample(n=n_nonSmokers, replace=True ,random_state=b)\n",
    "    if curr_samples.mean()[0] >= T_obs:\n",
    "        indicator_sums += 1\n",
    "        \n",
    "pvalue = indicator_sums / B\n",
    "print(\"Pvalue for Premuttions Test:\", pvalue)"
   ]
  },
  {
   "cell_type": "markdown",
   "metadata": {
    "id": "iUcvAdR6DXu5"
   },
   "source": [
    "Based on the Premutations Test we got $pvalue>0.05$ therefore we do not reject the null hypothesis, meaning we do not have evidence that the distribution of the heart rate of smokers higher stochasticly than the heart rate of non smoker."
   ]
  },
  {
   "cell_type": "markdown",
   "metadata": {
    "id": "JfDqRLNu02ie"
   },
   "source": [
    "##Q4.\n",
    "Define $m_1 = m_nonSmokers$ the median heart rate of non smokers and $m_2 = m_smokers$ the median heart rate of smokers based on the full data.\n",
    "Where $\\delta=m_1-m_2$"
   ]
  },
  {
   "cell_type": "markdown",
   "metadata": {
    "id": "n3WbnjZ51pOS"
   },
   "source": [
    "###A"
   ]
  },
  {
   "cell_type": "code",
   "execution_count": 81,
   "metadata": {
    "colab": {
     "base_uri": "https://localhost:8080/"
    },
    "id": "SA4VrinU05ND",
    "outputId": "54ac5984-c845-4ac6-ed3d-121767b83644"
   },
   "outputs": [
    {
     "name": "stdout",
     "output_type": "stream",
     "text": [
      "m_n estimator: 75.0, m_s estimator: 73.0, delta estimator: -2.0\n"
     ]
    }
   ],
   "source": [
    "m_n_hat = samples2[samples2['currentSmoker'] == 1].median()[0]\n",
    "m_s_hat = samples2[samples2['currentSmoker'] == 0].median()[0]\n",
    "delta_hat_2 = m_s_hat - m_n_hat\n",
    "print(f\"m_n estimator: {round(m_n_hat,4)}, m_s estimator: {round(m_s_hat,4)}, delta estimator: {round(delta_hat_2,4)}\")"
   ]
  },
  {
   "cell_type": "markdown",
   "metadata": {
    "id": "9YhcE2PgD3vY"
   },
   "source": [
    "As we shown in Q3.A we assume Normal distribution model. In normal dustibution, the median is equal to the mean. therfore as we know the mle for the median (mean) is the average based on the n samples therfore the median is not mle."
   ]
  },
  {
   "cell_type": "markdown",
   "metadata": {
    "id": "Qy9BxUQ31rr7"
   },
   "source": [
    "###B"
   ]
  },
  {
   "cell_type": "code",
   "execution_count": 82,
   "metadata": {
    "colab": {
     "base_uri": "https://localhost:8080/",
     "height": 97
    },
    "id": "EllISvEw1tf1",
    "outputId": "a23d4437-1f93-449f-9315-67a0dbe52dd1"
   },
   "outputs": [
    {
     "name": "stdout",
     "output_type": "stream",
     "text": [
      "CI for each of the median:\n"
     ]
    },
    {
     "data": {
      "text/html": [
       "<div>\n",
       "<style scoped>\n",
       "    .dataframe tbody tr th:only-of-type {\n",
       "        vertical-align: middle;\n",
       "    }\n",
       "\n",
       "    .dataframe tbody tr th {\n",
       "        vertical-align: top;\n",
       "    }\n",
       "\n",
       "    .dataframe thead th {\n",
       "        text-align: right;\n",
       "    }\n",
       "</style>\n",
       "<table border=\"1\" class=\"dataframe\">\n",
       "  <thead>\n",
       "    <tr style=\"text-align: right;\">\n",
       "      <th></th>\n",
       "      <th>Lower</th>\n",
       "      <th>Upper</th>\n",
       "    </tr>\n",
       "  </thead>\n",
       "  <tbody>\n",
       "    <tr>\n",
       "      <th>0</th>\n",
       "      <td>-3.0</td>\n",
       "      <td>5.0</td>\n",
       "    </tr>\n",
       "  </tbody>\n",
       "</table>\n",
       "</div>"
      ],
      "text/plain": [
       "   Lower  Upper\n",
       "0   -3.0    5.0"
      ]
     },
     "execution_count": 82,
     "metadata": {},
     "output_type": "execute_result"
    }
   ],
   "source": [
    "betas_bootstrap_3 = np.zeros(B)\n",
    "for b in range(B):\n",
    "    curr_samples = samples2.sample(n=n, replace=True ,random_state=b)\n",
    "    betas_bootstrap_3[b] = curr_samples[curr_samples['currentSmoker'] == 1].median()[0] - curr_samples[curr_samples['currentSmoker'] == 0].median()[0]\n",
    "ci_6 = np.zeros((1,2))\n",
    "betas_bootstrap_sort_3 = np.sort(betas_bootstrap_3,axis=0)\n",
    "ci_6[0,0] = betas_bootstrap_sort_3[9]\n",
    "ci_6[0,1] = betas_bootstrap_sort_3[389]\n",
    "conf_int = pd.DataFrame(ci_6)\n",
    "conf_int.columns = ['Lower','Upper']\n",
    "print(\"CI for each of the median:\")\n",
    "conf_int"
   ]
  },
  {
   "cell_type": "markdown",
   "metadata": {
    "id": "5IBICBaH2Er8"
   },
   "source": [
    "###C"
   ]
  },
  {
   "cell_type": "code",
   "execution_count": 83,
   "metadata": {
    "colab": {
     "base_uri": "https://localhost:8080/"
    },
    "id": "Unhh5HZF2GLW",
    "outputId": "b3174274-23aa-46e1-99ef-5058a261c556"
   },
   "outputs": [
    {
     "name": "stdout",
     "output_type": "stream",
     "text": [
      "the real parameter delta is nan\n"
     ]
    }
   ],
   "source": [
    "m_s = df2[df2['currentSmoker'] == 1].median()[0]\n",
    "m_n = df2[df2['currentSmoker'] == 0].median()[0]\n",
    "delta2 = m_s - m_n\n",
    "print(f\"the real parameter delta is {round(delta2,4)}\")"
   ]
  },
  {
   "cell_type": "markdown",
   "metadata": {
    "id": "yIJOw3e5EjOc"
   },
   "source": [
    "As we can see, the CI from the previous section contains the $\\delta$ \n",
    "\n",
    "---\n",
    "\n",
    "calculated on the whole data."
   ]
  },
  {
   "cell_type": "markdown",
   "metadata": {
    "id": "yOcMIn8S2nXb"
   },
   "source": [
    "###D"
   ]
  },
  {
   "cell_type": "markdown",
   "metadata": {
    "id": "klffBDv_Eqtc"
   },
   "source": [
    "\n",
    "#### Permutation Test with resampling:\n",
    "\n",
    "\n",
    "$H_0 : F_X = F_Y$\n",
    "\n",
    "$H_1 : X \\prec Y$\n",
    "\n",
    "\n",
    "$T^{obs} = M(Y_{n_m})-M(X_{n_f})$\n",
    "\n",
    "Procedure:\n",
    "\n",
    "Sample B sample size n_m randomly and for each calculate $T^b$.\n",
    "\n",
    "Reject $H_0$ iff\n",
    "\n",
    "$\\frac{\\sum_{b=1}^B I\\{T^b \\geq T^{obs}\\}}{B} \\leq \\alpha$\n",
    "\n",
    "in oue case Y - heart rate of smokers, X - heart rate of non smokers."
   ]
  },
  {
   "cell_type": "code",
   "execution_count": 84,
   "metadata": {
    "colab": {
     "base_uri": "https://localhost:8080/"
    },
    "id": "q3uV7vFe2l6K",
    "outputId": "80a1196d-a463-4ca2-d80c-a3eba606d0ea"
   },
   "outputs": [
    {
     "name": "stdout",
     "output_type": "stream",
     "text": [
      "Pvalue for Premuttions Test: 1.0\n"
     ]
    }
   ],
   "source": [
    "T_obs = delta_hat_2\n",
    "n_n = samples2[samples2['currentSmoker'] == 0].shape[0]\n",
    "np.random.seed(0)\n",
    "indicator_sums = 0\n",
    "for b in range(B):\n",
    "    curr_samples = samples2.sample(n=n_n, replace=True ,random_state=b)\n",
    "    if curr_samples.median()[0] >= T_obs:\n",
    "        indicator_sums += 1\n",
    "        \n",
    "pvalue = indicator_sums / B\n",
    "print(\"Pvalue for Premuttions Test:\", pvalue)"
   ]
  },
  {
   "cell_type": "markdown",
   "metadata": {
    "id": "Tp8po5VrE4jT"
   },
   "source": [
    "Based on the Premuttions Test we got $pvalue>0.05$ therefore we do not reject the null hypothesis, meaning we do not have evidence that the distribution of the heart rate of smokers higher stochasticly than the heart rate of non smokers."
   ]
  },
  {
   "cell_type": "markdown",
   "metadata": {
    "id": "T0p1tFvp3ICJ"
   },
   "source": [
    "###E\n",
    "<br>\n",
    "As we learned in class the T test is for difference in means and not for \n",
    "*   List item\n",
    "medians. So based on what we learned we cannot do T test for this case.\n",
    "As we learned in class the Wald test is based on statistic that is asymptotically normal distributed.\n",
    "it can shown that the median in asymptotically normal distributed so we can use Wald test for this case."
   ]
  },
  {
   "cell_type": "markdown",
   "metadata": {
    "id": "-EKXSGPa3fwl"
   },
   "source": [
    "##Q5"
   ]
  },
  {
   "cell_type": "markdown",
   "metadata": {
    "id": "4gW6L8j84RW2"
   },
   "source": [
    "### Permutation Test with resampling: \n",
    "\n",
    "$H_0 : F_X = F_Y$\n",
    "\n",
    "$H_1 : X \\prec Y$ \n",
    "\n",
    "$W_S^{obs} = \\sum_{i=i}^n S_i$\n",
    "\n",
    "Where $S_i = |\\{j:X_j < Y_i\\}| + |\\{j:Y_j \\leq Y_i\\}| \\ \\ , \\ \\forall i \\in [n]$\n",
    "\n",
    "Procedure:\n",
    "\n",
    "Sample B times n_m rankings randomly and for each calculate $W_S^b$.\n",
    "\n",
    "Reject $H_0$ iff\n",
    "\n",
    "$\\frac{\\sum_{b=1}^B I\\{W_S^b \\geq W_S^{obs}\\}}{B} \\leq \\alpha$\n",
    "\n",
    "in oue case Y -heart rate of non smokers, X - heart rate of smokers."
   ]
  },
  {
   "cell_type": "code",
   "execution_count": 85,
   "metadata": {
    "colab": {
     "base_uri": "https://localhost:8080/"
    },
    "id": "T7vRa3Bu3Jcf",
    "outputId": "746592d5-5f37-4f0c-cbf2-400889af4e00"
   },
   "outputs": [
    {
     "name": "stdout",
     "output_type": "stream",
     "text": [
      "Pvalue for Wilcoxson Rank Test: 0.9975\n"
     ]
    }
   ],
   "source": [
    "samples2 = samples2.sort_values(by=['currentSmoker'])\n",
    "\n",
    "n_nonSmokers = samples2[samples2['currentSmoker'] == 1].shape[0]\n",
    "n_smokers = samples2[samples2['currentSmoker'] == 0].shape[0]\n",
    "\n",
    "ranks = stats.rankdata(samples2['heartRate'], method='average')\n",
    "\n",
    "w_s_obs = ranks[:n_smokers].sum()\n",
    "\n",
    "np.random.seed(0)\n",
    "indicator_sums = 0\n",
    "for b in range(B):\n",
    "    curr_ranks = np.random.choice(ranks,size=n_nonSmokers)\n",
    "    if curr_ranks.sum() >= w_s_obs:\n",
    "        indicator_sums += 1\n",
    "        \n",
    "pvalue = indicator_sums / B\n",
    "print(\"Pvalue for Wilcoxson Rank Test:\", pvalue)"
   ]
  },
  {
   "cell_type": "markdown",
   "metadata": {
    "id": "XjHIh_6y4fjm"
   },
   "source": [
    "#### Permutation Test with Normal approximation:\n",
    "\n",
    "To use Normal approximation we need that we will not have ties in the ranks beacuse as we saw in class, the Permutation Test with Normal approximation is True only is under $H_0$ the ranks are uniformaly distributed."
   ]
  },
  {
   "cell_type": "code",
   "execution_count": 86,
   "metadata": {
    "colab": {
     "base_uri": "https://localhost:8080/",
     "height": 282
    },
    "id": "KrqRI8tm4ra4",
    "outputId": "7a72e09f-b06f-4dd3-fa99-e084d4ddb6b6"
   },
   "outputs": [
    {
     "name": "stdout",
     "output_type": "stream",
     "text": [
      "number of ties 45\n"
     ]
    },
    {
     "data": {
      "image/png": "[encoded data removed]",
      "text/plain": [
       "<Figure size 432x288 with 1 Axes>"
      ]
     },
     "metadata": {
      "needs_background": "light"
     },
     "output_type": "display_data"
    }
   ],
   "source": [
    "print(\"number of ties\", np.unique(ranks).shape[0])\n",
    "plt.hist(ranks, bins=10)\n",
    "plt.show()"
   ]
  },
  {
   "cell_type": "markdown",
   "metadata": {
    "id": "uJuFRGGk871G"
   },
   "source": [
    "The Graph represent the distribution of the ranks under $H_0$.\n",
    "\n",
    "By the graph and the results we can see that we have a lot of ties ranks (43) and we don't have uniform distribution therfore we can not use the normal aprroximation for $W_s$ as needed.\n",
    "Therfore, we can not use the Permutation Test with Normal approximation."
   ]
  },
  {
   "cell_type": "markdown",
   "metadata": {
    "id": "ngrthfMM9FEj"
   },
   "source": [
    "##Q6"
   ]
  },
  {
   "cell_type": "markdown",
   "metadata": {
    "id": "UbchE225FfJX"
   },
   "source": [
    "we explain and disccus 3-5 questions results above"
   ]
  }
 ],
 "metadata": {
  "colab": {
   "collapsed_sections": [],
   "name": "Assignment #4.ipynb",
   "provenance": []
  },
  "kernelspec": {
   "display_name": "Python 3",
   "language": "python",
   "name": "python3"
  },
  "language_info": {
   "codemirror_mode": {
    "name": "ipython",
    "version": 3
   },
   "file_extension": ".py",
   "mimetype": "text/x-python",
   "name": "python",
   "nbconvert_exporter": "python",
   "pygments_lexer": "ipython3",
   "version": "3.8.5"
  }
 },
 "nbformat": 4,
 "nbformat_minor": 1
}
