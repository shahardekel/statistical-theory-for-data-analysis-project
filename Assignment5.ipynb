{
 "cells": [
  {
   "cell_type": "markdown",
   "metadata": {
    "id": "ad_xotMSqzfr"
   },
   "source": [
    "<h1 style=\"color:violet; text-align:center;\">Assignment #5</h1>\n",
    "<h3 style=\"color:violet; text-align:center;\">Shahar Dekel 318864436</h3>\n",
    "<h3 style=\"color:violet; text-align:center;\">Amit Feiner 316552710</h3>"
   ]
  },
  {
   "cell_type": "code",
   "execution_count": 1,
   "metadata": {
    "id": "RiRPVVNf9IgO"
   },
   "outputs": [],
   "source": [
    "import numpy as np\n",
    "import pandas as pd\n",
    "import os\n",
    "import datetime\n",
    "import seaborn as sns\n",
    "from math import log\n",
    "from scipy.stats import beta \n",
    "import matplotlib.pyplot as plt\n",
    "from statsmodels.regression.linear_model import OLS, RegressionResults\n",
    "from statsmodels.discrete.discrete_model import Logit\n",
    "from scipy.special import logit\n",
    "import scipy\n",
    "import warnings\n",
    "warnings.filterwarnings('ignore')"
   ]
  },
  {
   "cell_type": "markdown",
   "metadata": {
    "id": "yuSI40Uaqzft"
   },
   "source": [
    "<h3>Load the dataset</h3>"
   ]
  },
  {
   "cell_type": "code",
   "execution_count": 2,
   "metadata": {
    "colab": {
     "base_uri": "https://localhost:8080/",
     "height": 412
    },
    "id": "bt2AzvFr_WDo",
    "outputId": "a221a512-9622-4806-f08a-f4c2b56c2b60"
   },
   "outputs": [
    {
     "data": {
      "text/html": [
       "<div>\n",
       "<style scoped>\n",
       "    .dataframe tbody tr th:only-of-type {\n",
       "        vertical-align: middle;\n",
       "    }\n",
       "\n",
       "    .dataframe tbody tr th {\n",
       "        vertical-align: top;\n",
       "    }\n",
       "\n",
       "    .dataframe thead th {\n",
       "        text-align: right;\n",
       "    }\n",
       "</style>\n",
       "<table border=\"1\" class=\"dataframe\">\n",
       "  <thead>\n",
       "    <tr style=\"text-align: right;\">\n",
       "      <th></th>\n",
       "      <th>male</th>\n",
       "      <th>age</th>\n",
       "      <th>education</th>\n",
       "      <th>currentSmoker</th>\n",
       "      <th>cigsPerDay</th>\n",
       "      <th>BPMeds</th>\n",
       "      <th>prevalentStroke</th>\n",
       "      <th>prevalentHyp</th>\n",
       "      <th>diabetes</th>\n",
       "      <th>totChol</th>\n",
       "      <th>sysBP</th>\n",
       "      <th>diaBP</th>\n",
       "      <th>BMI</th>\n",
       "      <th>heartRate</th>\n",
       "      <th>glucose</th>\n",
       "      <th>TenYearCHD</th>\n",
       "    </tr>\n",
       "  </thead>\n",
       "  <tbody>\n",
       "    <tr>\n",
       "      <th>0</th>\n",
       "      <td>1</td>\n",
       "      <td>39</td>\n",
       "      <td>4.0</td>\n",
       "      <td>0</td>\n",
       "      <td>0.0</td>\n",
       "      <td>0.0</td>\n",
       "      <td>0</td>\n",
       "      <td>0</td>\n",
       "      <td>0</td>\n",
       "      <td>195.0</td>\n",
       "      <td>106.0</td>\n",
       "      <td>70.0</td>\n",
       "      <td>26.97</td>\n",
       "      <td>80.0</td>\n",
       "      <td>77.0</td>\n",
       "      <td>0</td>\n",
       "    </tr>\n",
       "    <tr>\n",
       "      <th>1</th>\n",
       "      <td>0</td>\n",
       "      <td>46</td>\n",
       "      <td>2.0</td>\n",
       "      <td>0</td>\n",
       "      <td>0.0</td>\n",
       "      <td>0.0</td>\n",
       "      <td>0</td>\n",
       "      <td>0</td>\n",
       "      <td>0</td>\n",
       "      <td>250.0</td>\n",
       "      <td>121.0</td>\n",
       "      <td>81.0</td>\n",
       "      <td>28.73</td>\n",
       "      <td>95.0</td>\n",
       "      <td>76.0</td>\n",
       "      <td>0</td>\n",
       "    </tr>\n",
       "    <tr>\n",
       "      <th>2</th>\n",
       "      <td>1</td>\n",
       "      <td>48</td>\n",
       "      <td>1.0</td>\n",
       "      <td>1</td>\n",
       "      <td>20.0</td>\n",
       "      <td>0.0</td>\n",
       "      <td>0</td>\n",
       "      <td>0</td>\n",
       "      <td>0</td>\n",
       "      <td>245.0</td>\n",
       "      <td>127.5</td>\n",
       "      <td>80.0</td>\n",
       "      <td>25.34</td>\n",
       "      <td>75.0</td>\n",
       "      <td>70.0</td>\n",
       "      <td>0</td>\n",
       "    </tr>\n",
       "    <tr>\n",
       "      <th>3</th>\n",
       "      <td>0</td>\n",
       "      <td>61</td>\n",
       "      <td>3.0</td>\n",
       "      <td>1</td>\n",
       "      <td>30.0</td>\n",
       "      <td>0.0</td>\n",
       "      <td>0</td>\n",
       "      <td>1</td>\n",
       "      <td>0</td>\n",
       "      <td>225.0</td>\n",
       "      <td>150.0</td>\n",
       "      <td>95.0</td>\n",
       "      <td>28.58</td>\n",
       "      <td>65.0</td>\n",
       "      <td>103.0</td>\n",
       "      <td>1</td>\n",
       "    </tr>\n",
       "    <tr>\n",
       "      <th>4</th>\n",
       "      <td>0</td>\n",
       "      <td>46</td>\n",
       "      <td>3.0</td>\n",
       "      <td>1</td>\n",
       "      <td>23.0</td>\n",
       "      <td>0.0</td>\n",
       "      <td>0</td>\n",
       "      <td>0</td>\n",
       "      <td>0</td>\n",
       "      <td>285.0</td>\n",
       "      <td>130.0</td>\n",
       "      <td>84.0</td>\n",
       "      <td>23.10</td>\n",
       "      <td>85.0</td>\n",
       "      <td>85.0</td>\n",
       "      <td>0</td>\n",
       "    </tr>\n",
       "    <tr>\n",
       "      <th>...</th>\n",
       "      <td>...</td>\n",
       "      <td>...</td>\n",
       "      <td>...</td>\n",
       "      <td>...</td>\n",
       "      <td>...</td>\n",
       "      <td>...</td>\n",
       "      <td>...</td>\n",
       "      <td>...</td>\n",
       "      <td>...</td>\n",
       "      <td>...</td>\n",
       "      <td>...</td>\n",
       "      <td>...</td>\n",
       "      <td>...</td>\n",
       "      <td>...</td>\n",
       "      <td>...</td>\n",
       "      <td>...</td>\n",
       "    </tr>\n",
       "    <tr>\n",
       "      <th>4233</th>\n",
       "      <td>1</td>\n",
       "      <td>50</td>\n",
       "      <td>1.0</td>\n",
       "      <td>1</td>\n",
       "      <td>1.0</td>\n",
       "      <td>0.0</td>\n",
       "      <td>0</td>\n",
       "      <td>1</td>\n",
       "      <td>0</td>\n",
       "      <td>313.0</td>\n",
       "      <td>179.0</td>\n",
       "      <td>92.0</td>\n",
       "      <td>25.97</td>\n",
       "      <td>66.0</td>\n",
       "      <td>86.0</td>\n",
       "      <td>1</td>\n",
       "    </tr>\n",
       "    <tr>\n",
       "      <th>4234</th>\n",
       "      <td>1</td>\n",
       "      <td>51</td>\n",
       "      <td>3.0</td>\n",
       "      <td>1</td>\n",
       "      <td>43.0</td>\n",
       "      <td>0.0</td>\n",
       "      <td>0</td>\n",
       "      <td>0</td>\n",
       "      <td>0</td>\n",
       "      <td>207.0</td>\n",
       "      <td>126.5</td>\n",
       "      <td>80.0</td>\n",
       "      <td>19.71</td>\n",
       "      <td>65.0</td>\n",
       "      <td>68.0</td>\n",
       "      <td>0</td>\n",
       "    </tr>\n",
       "    <tr>\n",
       "      <th>4235</th>\n",
       "      <td>0</td>\n",
       "      <td>48</td>\n",
       "      <td>2.0</td>\n",
       "      <td>1</td>\n",
       "      <td>20.0</td>\n",
       "      <td>NaN</td>\n",
       "      <td>0</td>\n",
       "      <td>0</td>\n",
       "      <td>0</td>\n",
       "      <td>248.0</td>\n",
       "      <td>131.0</td>\n",
       "      <td>72.0</td>\n",
       "      <td>22.00</td>\n",
       "      <td>84.0</td>\n",
       "      <td>86.0</td>\n",
       "      <td>0</td>\n",
       "    </tr>\n",
       "    <tr>\n",
       "      <th>4236</th>\n",
       "      <td>0</td>\n",
       "      <td>44</td>\n",
       "      <td>1.0</td>\n",
       "      <td>1</td>\n",
       "      <td>15.0</td>\n",
       "      <td>0.0</td>\n",
       "      <td>0</td>\n",
       "      <td>0</td>\n",
       "      <td>0</td>\n",
       "      <td>210.0</td>\n",
       "      <td>126.5</td>\n",
       "      <td>87.0</td>\n",
       "      <td>19.16</td>\n",
       "      <td>86.0</td>\n",
       "      <td>NaN</td>\n",
       "      <td>0</td>\n",
       "    </tr>\n",
       "    <tr>\n",
       "      <th>4237</th>\n",
       "      <td>0</td>\n",
       "      <td>52</td>\n",
       "      <td>2.0</td>\n",
       "      <td>0</td>\n",
       "      <td>0.0</td>\n",
       "      <td>0.0</td>\n",
       "      <td>0</td>\n",
       "      <td>0</td>\n",
       "      <td>0</td>\n",
       "      <td>269.0</td>\n",
       "      <td>133.5</td>\n",
       "      <td>83.0</td>\n",
       "      <td>21.47</td>\n",
       "      <td>80.0</td>\n",
       "      <td>107.0</td>\n",
       "      <td>0</td>\n",
       "    </tr>\n",
       "  </tbody>\n",
       "</table>\n",
       "<p>4238 rows × 16 columns</p>\n",
       "</div>"
      ],
      "text/plain": [
       "      male  age  education  currentSmoker  cigsPerDay  BPMeds  \\\n",
       "0        1   39        4.0              0         0.0     0.0   \n",
       "1        0   46        2.0              0         0.0     0.0   \n",
       "2        1   48        1.0              1        20.0     0.0   \n",
       "3        0   61        3.0              1        30.0     0.0   \n",
       "4        0   46        3.0              1        23.0     0.0   \n",
       "...    ...  ...        ...            ...         ...     ...   \n",
       "4233     1   50        1.0              1         1.0     0.0   \n",
       "4234     1   51        3.0              1        43.0     0.0   \n",
       "4235     0   48        2.0              1        20.0     NaN   \n",
       "4236     0   44        1.0              1        15.0     0.0   \n",
       "4237     0   52        2.0              0         0.0     0.0   \n",
       "\n",
       "      prevalentStroke  prevalentHyp  diabetes  totChol  sysBP  diaBP    BMI  \\\n",
       "0                   0             0         0    195.0  106.0   70.0  26.97   \n",
       "1                   0             0         0    250.0  121.0   81.0  28.73   \n",
       "2                   0             0         0    245.0  127.5   80.0  25.34   \n",
       "3                   0             1         0    225.0  150.0   95.0  28.58   \n",
       "4                   0             0         0    285.0  130.0   84.0  23.10   \n",
       "...               ...           ...       ...      ...    ...    ...    ...   \n",
       "4233                0             1         0    313.0  179.0   92.0  25.97   \n",
       "4234                0             0         0    207.0  126.5   80.0  19.71   \n",
       "4235                0             0         0    248.0  131.0   72.0  22.00   \n",
       "4236                0             0         0    210.0  126.5   87.0  19.16   \n",
       "4237                0             0         0    269.0  133.5   83.0  21.47   \n",
       "\n",
       "      heartRate  glucose  TenYearCHD  \n",
       "0          80.0     77.0           0  \n",
       "1          95.0     76.0           0  \n",
       "2          75.0     70.0           0  \n",
       "3          65.0    103.0           1  \n",
       "4          85.0     85.0           0  \n",
       "...         ...      ...         ...  \n",
       "4233       66.0     86.0           1  \n",
       "4234       65.0     68.0           0  \n",
       "4235       84.0     86.0           0  \n",
       "4236       86.0      NaN           0  \n",
       "4237       80.0    107.0           0  \n",
       "\n",
       "[4238 rows x 16 columns]"
      ]
     },
     "execution_count": 2,
     "metadata": {},
     "output_type": "execute_result"
    }
   ],
   "source": [
    "dataset='framingham_heart_disease.csv'\n",
    "df=pd.read_csv(dataset, sep=',')\n",
    "df.columns.values\n",
    "df"
   ]
  },
  {
   "cell_type": "markdown",
   "metadata": {
    "id": "Q9q-ia46v0Th"
   },
   "source": [
    "<h2>Part 1: Bayesian Approach</h2>\n",
    "<h3>1.</h3>\n",
    "<h3>Our Test Question from assignment #2</h3>\n",
    "<br>\n",
    "    Are the values of 'heartRate' different between different levels of 'currentSmoker'?\n"
   ]
  },
  {
   "cell_type": "code",
   "execution_count": 3,
   "metadata": {
    "colab": {
     "base_uri": "https://localhost:8080/",
     "height": 430
    },
    "id": "60RaF649w9RU",
    "outputId": "dae4145c-87e3-4e1c-c43f-872884656538"
   },
   "outputs": [
    {
     "name": "stdout",
     "output_type": "stream",
     "text": [
      "Number of records: 200\n"
     ]
    },
    {
     "data": {
      "text/html": [
       "<div>\n",
       "<style scoped>\n",
       "    .dataframe tbody tr th:only-of-type {\n",
       "        vertical-align: middle;\n",
       "    }\n",
       "\n",
       "    .dataframe tbody tr th {\n",
       "        vertical-align: top;\n",
       "    }\n",
       "\n",
       "    .dataframe thead th {\n",
       "        text-align: right;\n",
       "    }\n",
       "</style>\n",
       "<table border=\"1\" class=\"dataframe\">\n",
       "  <thead>\n",
       "    <tr style=\"text-align: right;\">\n",
       "      <th></th>\n",
       "      <th>heartRate</th>\n",
       "      <th>currentSmoker</th>\n",
       "    </tr>\n",
       "  </thead>\n",
       "  <tbody>\n",
       "    <tr>\n",
       "      <th>1669</th>\n",
       "      <td>75.0</td>\n",
       "      <td>0</td>\n",
       "    </tr>\n",
       "    <tr>\n",
       "      <th>156</th>\n",
       "      <td>60.0</td>\n",
       "      <td>0</td>\n",
       "    </tr>\n",
       "    <tr>\n",
       "      <th>87</th>\n",
       "      <td>57.0</td>\n",
       "      <td>1</td>\n",
       "    </tr>\n",
       "    <tr>\n",
       "      <th>685</th>\n",
       "      <td>100.0</td>\n",
       "      <td>0</td>\n",
       "    </tr>\n",
       "    <tr>\n",
       "      <th>666</th>\n",
       "      <td>65.0</td>\n",
       "      <td>0</td>\n",
       "    </tr>\n",
       "    <tr>\n",
       "      <th>...</th>\n",
       "      <td>...</td>\n",
       "      <td>...</td>\n",
       "    </tr>\n",
       "    <tr>\n",
       "      <th>1185</th>\n",
       "      <td>75.0</td>\n",
       "      <td>0</td>\n",
       "    </tr>\n",
       "    <tr>\n",
       "      <th>3905</th>\n",
       "      <td>80.0</td>\n",
       "      <td>0</td>\n",
       "    </tr>\n",
       "    <tr>\n",
       "      <th>3382</th>\n",
       "      <td>80.0</td>\n",
       "      <td>0</td>\n",
       "    </tr>\n",
       "    <tr>\n",
       "      <th>465</th>\n",
       "      <td>92.0</td>\n",
       "      <td>1</td>\n",
       "    </tr>\n",
       "    <tr>\n",
       "      <th>2249</th>\n",
       "      <td>75.0</td>\n",
       "      <td>0</td>\n",
       "    </tr>\n",
       "  </tbody>\n",
       "</table>\n",
       "<p>200 rows × 2 columns</p>\n",
       "</div>"
      ],
      "text/plain": [
       "      heartRate  currentSmoker\n",
       "1669       75.0              0\n",
       "156        60.0              0\n",
       "87         57.0              1\n",
       "685       100.0              0\n",
       "666        65.0              0\n",
       "...         ...            ...\n",
       "1185       75.0              0\n",
       "3905       80.0              0\n",
       "3382       80.0              0\n",
       "465        92.0              1\n",
       "2249       75.0              0\n",
       "\n",
       "[200 rows x 2 columns]"
      ]
     },
     "execution_count": 3,
     "metadata": {},
     "output_type": "execute_result"
    }
   ],
   "source": [
    "# Sample for the observed data\n",
    "obs_samples = df[[\"heartRate\", \"currentSmoker\"]].sample(200, random_state=0)\n",
    "\n",
    "# drop records with missing values\n",
    "obs_samples.dropna(inplace=True)\n",
    "n_obs = obs_samples.shape[0]\n",
    "print(\"Number of records:\", n_obs)\n",
    "obs_samples"
   ]
  },
  {
   "cell_type": "code",
   "execution_count": 4,
   "metadata": {
    "colab": {
     "base_uri": "https://localhost:8080/",
     "height": 430
    },
    "id": "WeREStBqxPuE",
    "outputId": "1343afdf-88cf-455d-f14b-ab55ce1ae8fb"
   },
   "outputs": [
    {
     "name": "stdout",
     "output_type": "stream",
     "text": [
      "Number of records: 1000\n"
     ]
    },
    {
     "data": {
      "text/html": [
       "<div>\n",
       "<style scoped>\n",
       "    .dataframe tbody tr th:only-of-type {\n",
       "        vertical-align: middle;\n",
       "    }\n",
       "\n",
       "    .dataframe tbody tr th {\n",
       "        vertical-align: top;\n",
       "    }\n",
       "\n",
       "    .dataframe thead th {\n",
       "        text-align: right;\n",
       "    }\n",
       "</style>\n",
       "<table border=\"1\" class=\"dataframe\">\n",
       "  <thead>\n",
       "    <tr style=\"text-align: right;\">\n",
       "      <th></th>\n",
       "      <th>heartRate</th>\n",
       "      <th>currentSmoker</th>\n",
       "    </tr>\n",
       "  </thead>\n",
       "  <tbody>\n",
       "    <tr>\n",
       "      <th>627</th>\n",
       "      <td>72.0</td>\n",
       "      <td>1</td>\n",
       "    </tr>\n",
       "    <tr>\n",
       "      <th>792</th>\n",
       "      <td>88.0</td>\n",
       "      <td>1</td>\n",
       "    </tr>\n",
       "    <tr>\n",
       "      <th>699</th>\n",
       "      <td>90.0</td>\n",
       "      <td>0</td>\n",
       "    </tr>\n",
       "    <tr>\n",
       "      <th>2371</th>\n",
       "      <td>82.0</td>\n",
       "      <td>0</td>\n",
       "    </tr>\n",
       "    <tr>\n",
       "      <th>2307</th>\n",
       "      <td>68.0</td>\n",
       "      <td>1</td>\n",
       "    </tr>\n",
       "    <tr>\n",
       "      <th>...</th>\n",
       "      <td>...</td>\n",
       "      <td>...</td>\n",
       "    </tr>\n",
       "    <tr>\n",
       "      <th>1628</th>\n",
       "      <td>90.0</td>\n",
       "      <td>1</td>\n",
       "    </tr>\n",
       "    <tr>\n",
       "      <th>182</th>\n",
       "      <td>96.0</td>\n",
       "      <td>1</td>\n",
       "    </tr>\n",
       "    <tr>\n",
       "      <th>1556</th>\n",
       "      <td>74.0</td>\n",
       "      <td>0</td>\n",
       "    </tr>\n",
       "    <tr>\n",
       "      <th>784</th>\n",
       "      <td>70.0</td>\n",
       "      <td>1</td>\n",
       "    </tr>\n",
       "    <tr>\n",
       "      <th>2269</th>\n",
       "      <td>63.0</td>\n",
       "      <td>0</td>\n",
       "    </tr>\n",
       "  </tbody>\n",
       "</table>\n",
       "<p>1000 rows × 2 columns</p>\n",
       "</div>"
      ],
      "text/plain": [
       "      heartRate  currentSmoker\n",
       "627        72.0              1\n",
       "792        88.0              1\n",
       "699        90.0              0\n",
       "2371       82.0              0\n",
       "2307       68.0              1\n",
       "...         ...            ...\n",
       "1628       90.0              1\n",
       "182        96.0              1\n",
       "1556       74.0              0\n",
       "784        70.0              1\n",
       "2269       63.0              0\n",
       "\n",
       "[1000 rows x 2 columns]"
      ]
     },
     "execution_count": 4,
     "metadata": {},
     "output_type": "execute_result"
    }
   ],
   "source": [
    "# sample for the past data\n",
    "past_samples = df[~(df.index.isin(obs_samples.index.values))].sample(n=1000)\n",
    "past_samples = past_samples[['heartRate', 'currentSmoker']]\n",
    "past_samples.dropna(inplace=True)\n",
    "n_past = past_samples.shape[0]\n",
    "print(\"Number of records:\", n_past)\n",
    "\n",
    "past_samples"
   ]
  },
  {
   "cell_type": "markdown",
   "metadata": {
    "id": "cS3qH2BJqzfy"
   },
   "source": [
    "<h3>2.</h3>\n",
    "We will define a new variable 𝑍 based on the variable 𝑋 ('heartRate') as follows:<br>\n",
    "Select a threshold value 𝜏 so that if 𝑋>𝜏, 𝑍 = 1 and otherwise 𝑍 = 0."
   ]
  },
  {
   "cell_type": "code",
   "execution_count": 5,
   "metadata": {
    "colab": {
     "base_uri": "https://localhost:8080/"
    },
    "id": "PiAdai79qzf0",
    "outputId": "15c948bc-904b-4669-88c0-041ddbea6dc2"
   },
   "outputs": [
    {
     "name": "stdout",
     "output_type": "stream",
     "text": [
      "75.87892376681614\n"
     ]
    }
   ],
   "source": [
    "#print(\"statistics for 'heartRate'\",df[['heartRate']].describe(),'\\n')\n",
    "threshold=float(df[['heartRate']].mean())\n",
    "print(threshold)"
   ]
  },
  {
   "cell_type": "markdown",
   "metadata": {
    "id": "lC1y2vLbqzf1"
   },
   "source": [
    "We will define the probability for variable Z:<br>\n",
    "$P(Z = 1|Y = j)=p_j$        for any j=1,2"
   ]
  },
  {
   "cell_type": "code",
   "execution_count": 6,
   "metadata": {
    "colab": {
     "base_uri": "https://localhost:8080/",
     "height": 412
    },
    "id": "5lXnSNzIqzf2",
    "outputId": "2599933d-3082-4730-a75f-8e97e9cc7195"
   },
   "outputs": [
    {
     "data": {
      "text/html": [
       "<div>\n",
       "<style scoped>\n",
       "    .dataframe tbody tr th:only-of-type {\n",
       "        vertical-align: middle;\n",
       "    }\n",
       "\n",
       "    .dataframe tbody tr th {\n",
       "        vertical-align: top;\n",
       "    }\n",
       "\n",
       "    .dataframe thead th {\n",
       "        text-align: right;\n",
       "    }\n",
       "</style>\n",
       "<table border=\"1\" class=\"dataframe\">\n",
       "  <thead>\n",
       "    <tr style=\"text-align: right;\">\n",
       "      <th></th>\n",
       "      <th>heartRate</th>\n",
       "      <th>currentSmoker</th>\n",
       "      <th>Z</th>\n",
       "    </tr>\n",
       "  </thead>\n",
       "  <tbody>\n",
       "    <tr>\n",
       "      <th>1669</th>\n",
       "      <td>75.0</td>\n",
       "      <td>0</td>\n",
       "      <td>0</td>\n",
       "    </tr>\n",
       "    <tr>\n",
       "      <th>156</th>\n",
       "      <td>60.0</td>\n",
       "      <td>0</td>\n",
       "      <td>0</td>\n",
       "    </tr>\n",
       "    <tr>\n",
       "      <th>87</th>\n",
       "      <td>57.0</td>\n",
       "      <td>1</td>\n",
       "      <td>0</td>\n",
       "    </tr>\n",
       "    <tr>\n",
       "      <th>685</th>\n",
       "      <td>100.0</td>\n",
       "      <td>0</td>\n",
       "      <td>1</td>\n",
       "    </tr>\n",
       "    <tr>\n",
       "      <th>666</th>\n",
       "      <td>65.0</td>\n",
       "      <td>0</td>\n",
       "      <td>0</td>\n",
       "    </tr>\n",
       "    <tr>\n",
       "      <th>...</th>\n",
       "      <td>...</td>\n",
       "      <td>...</td>\n",
       "      <td>...</td>\n",
       "    </tr>\n",
       "    <tr>\n",
       "      <th>1185</th>\n",
       "      <td>75.0</td>\n",
       "      <td>0</td>\n",
       "      <td>0</td>\n",
       "    </tr>\n",
       "    <tr>\n",
       "      <th>3905</th>\n",
       "      <td>80.0</td>\n",
       "      <td>0</td>\n",
       "      <td>1</td>\n",
       "    </tr>\n",
       "    <tr>\n",
       "      <th>3382</th>\n",
       "      <td>80.0</td>\n",
       "      <td>0</td>\n",
       "      <td>1</td>\n",
       "    </tr>\n",
       "    <tr>\n",
       "      <th>465</th>\n",
       "      <td>92.0</td>\n",
       "      <td>1</td>\n",
       "      <td>1</td>\n",
       "    </tr>\n",
       "    <tr>\n",
       "      <th>2249</th>\n",
       "      <td>75.0</td>\n",
       "      <td>0</td>\n",
       "      <td>0</td>\n",
       "    </tr>\n",
       "  </tbody>\n",
       "</table>\n",
       "<p>200 rows × 3 columns</p>\n",
       "</div>"
      ],
      "text/plain": [
       "      heartRate  currentSmoker  Z\n",
       "1669       75.0              0  0\n",
       "156        60.0              0  0\n",
       "87         57.0              1  0\n",
       "685       100.0              0  1\n",
       "666        65.0              0  0\n",
       "...         ...            ... ..\n",
       "1185       75.0              0  0\n",
       "3905       80.0              0  1\n",
       "3382       80.0              0  1\n",
       "465        92.0              1  1\n",
       "2249       75.0              0  0\n",
       "\n",
       "[200 rows x 3 columns]"
      ]
     },
     "execution_count": 6,
     "metadata": {},
     "output_type": "execute_result"
    }
   ],
   "source": [
    "Z = obs_samples.apply(lambda df: 1 if df['heartRate'] > threshold else 0, axis = 1)\n",
    "obs_samples = pd.concat([obs_samples, Z], axis= 1)\n",
    "obs_samples = obs_samples.rename(columns={0:\"Z\"})\n",
    "obs_samples"
   ]
  },
  {
   "cell_type": "markdown",
   "metadata": {
    "id": "ufAYi5XKqzf2"
   },
   "source": [
    "<h3>3.</h3>\n",
    "We are interested on estimating $𝜓=𝜂(𝑝_1)−𝜂(𝑝_2)$<br>\n",
    "First, we will preform an empirical estimation of $p_1$ and $p_2$"
   ]
  },
  {
   "cell_type": "code",
   "execution_count": 7,
   "metadata": {
    "colab": {
     "base_uri": "https://localhost:8080/"
    },
    "id": "HVjHJvV5qzf3",
    "outputId": "be57e364-68a2-4189-dce7-7bde26353471"
   },
   "outputs": [
    {
     "name": "stdout",
     "output_type": "stream",
     "text": [
      "p1: 0.4090909090909091\n",
      "p2: 0.39285714285714285\n",
      "Estimated 𝜓: 0.06759329113252843\n"
     ]
    }
   ],
   "source": [
    "cs_true=obs_samples.where(obs_samples['currentSmoker'] == 1).count()\n",
    "cs_false=obs_samples.where(obs_samples['currentSmoker'] == 0).count()\n",
    "\n",
    "estimators={'empirical':None, 'uniform':None, 'jeffreys':None, 'past':None, 'full':None}\n",
    "intervals={'empirical':None, 'uniform':None, 'jeffreys':None, 'past':None}\n",
    "\n",
    "p1 = (obs_samples.where((obs_samples['Z'] == 1) & (obs_samples['currentSmoker'] == 1)).count()/ cs_true)[0]\n",
    "p2 = (obs_samples.where((obs_samples['Z'] == 1) & (obs_samples['currentSmoker'] == 0)).count()/ cs_false)[0]\n",
    "\n",
    "estimators['empirical']=logit(p1) - logit(p2)\n",
    "\n",
    "print(f\"p1: {p1}\\n\"\n",
    "      f\"p2: {p2}\\n\"\n",
    "      f\"Estimated 𝜓: {estimators['empirical']}\")\n"
   ]
  },
  {
   "cell_type": "code",
   "execution_count": 8,
   "metadata": {
    "colab": {
     "base_uri": "https://localhost:8080/"
    },
    "id": "UJOmoRzrqzf4",
    "outputId": "6c631094-2d5e-4243-849a-fca178e62daa"
   },
   "outputs": [
    {
     "name": "stdout",
     "output_type": "stream",
     "text": [
      "A\n",
      "Confidence Interval using bootstrap for 𝜓: [-0.4977403842173352, 0.6836684366054017]\n"
     ]
    }
   ],
   "source": [
    "print(\"A\")\n",
    "def bootstrap(obs_samples=obs_samples, B=400):\n",
    "    estimators=list()\n",
    "    data = obs_samples[['currentSmoker', 'Z']].to_numpy()\n",
    "    for i in range(B):\n",
    "        X = data[np.random.choice(data.shape[0], np.size(data,0), replace=True), :]\n",
    "        sample = pd.DataFrame({'currentSmoker': X[:, 0], 'Z': X[:, 1]})\n",
    "        cs_true=sample.where(sample['currentSmoker'] == 1).count()\n",
    "        cs_false=sample.where(sample['currentSmoker'] == 0).count()\n",
    "        p1 = (sample.where((sample['Z'] == 1) & (sample['currentSmoker'] == 1)).count()/ cs_true)[0]\n",
    "        p2 = (sample.where((sample['Z'] == 1) & (sample['currentSmoker'] == 0)).count()/ cs_false)[0]\n",
    "        \n",
    "        estimators.append(logit(p1) - logit(p2))\n",
    "    return np.array(estimators)\n",
    "\n",
    "alpha=0.05\n",
    "B=400\n",
    "bootstrap_estimators = bootstrap()\n",
    "bootstrap_estimators.sort()\n",
    "\n",
    "intervals['empirical'] = [bootstrap_estimators[int(0.5 * alpha * B)], bootstrap_estimators[int(B - 0.5 * alpha * B)]]\n",
    "\n",
    "\n",
    "print(f\"Confidence Interval using bootstrap for 𝜓: {intervals['empirical']}\")"
   ]
  },
  {
   "cell_type": "markdown",
   "metadata": {
    "id": "KaFO_Qd8qzgG"
   },
   "source": [
    "We will denote:<br>\n",
    "$$Z \\mid Y=1 \\sim Bernoulli(p_1)$$\n",
    "$$Z \\mid Y=0 \\sim Bernoulli(p_2)$$\n",
    "$$\\pi(p_1,p_2)=1\\cdot \\mathbb{1}\\{0\\le p_1, p_2 \\le 1\\}$$\n",
    "We saw in class that given $$S_u = \\sum_{i=1}^n u_i, S_w = \\sum_{j=1}^m w_j$$ \n",
    "$$p_1 \\mid u^n \\sim Beta(S_u + 1, n-S_u + 1)$$\n",
    "$$p_2 \\mid w^m \\sim Beta(S_w + 1, m-S_w + 1)$$\n",
    "when $u_i=(Z \\mid Y=1)_i$ and $w_j=(Z \\mid Y=0)_j$, and $m+n=200$"
   ]
  },
  {
   "cell_type": "code",
   "execution_count": 9,
   "metadata": {
    "colab": {
     "base_uri": "https://localhost:8080/"
    },
    "id": "bLXrxVyyqzgI",
    "outputId": "998a8f3b-85f1-46e3-f8cb-ef9839b2a348"
   },
   "outputs": [
    {
     "name": "stdout",
     "output_type": "stream",
     "text": [
      "B\n",
      "Uniform prior 𝜓 estimator: 0.0727037069366994\n",
      "Uniform prior Credible Interval: [-0.4842692809425471, 0.6246407413913557]\n"
     ]
    }
   ],
   "source": [
    "print(\"B\")\n",
    "def uniform_prior(obs_samples=obs_samples, B=1000):\n",
    "    n = obs_samples.where(obs_samples['currentSmoker'] == 1).count()[0]\n",
    "    m = obs_samples.where(obs_samples['currentSmoker'] == 0).count()[0]\n",
    "    s_u = obs_samples[obs_samples['currentSmoker'] == 1]['Z'].sum()\n",
    "    s_w = obs_samples[obs_samples['currentSmoker'] == 0]['Z'].sum()\n",
    "    p1 = np.random.beta(s_u + 1, n - s_u + 1, B)\n",
    "    p2 = np.random.beta(s_w + 1, m - s_w + 1, B)\n",
    "    Eta_1 = [logit(p) for p in p1]\n",
    "    Eta_2 = [logit(p) for p in p2]\n",
    "    psi = [eta_1 - eta_2 for eta_1, eta_2 in zip(Eta_1, Eta_2)]\n",
    "    return np.array(psi)\n",
    "\n",
    "B = 1000\n",
    "alpha = 0.05\n",
    "unifrom = uniform_prior()\n",
    "unifrom.sort()\n",
    "\n",
    "estimators['uniform'] = unifrom.mean()\n",
    "intervals['uniform'] = [unifrom[int(0.5 * alpha * B)], unifrom[int(B - 0.5 * alpha * B)]]\n",
    "\n",
    "print(f\"Uniform prior 𝜓 estimator: {estimators['uniform']}\\n\"\n",
    "      f\"Uniform prior Credible Interval: {intervals['uniform']}\")"
   ]
  },
  {
   "cell_type": "markdown",
   "metadata": {
    "id": "aP9S_whvqzgJ"
   },
   "source": [
    "As we saw in class, given that\n",
    "    $$Z \\mid Y=1 \\sim Bernoulli(p_1)$$\n",
    "    $$Z \\mid Y=2 \\sim Bernoulli(p_2)$$\n",
    "we have that Jeffreys prior is:\n",
    "    $$\\pi(p_1) = \\sqrt{I(p_1)} = \\sqrt{\\frac {1} {p_1\\cdot (1-p_1)}}$$\n",
    "    $$\\pi(p_2) = \\sqrt{I(p_2)} = \\sqrt{\\frac {1} {p_2\\cdot (1-p_2)}}$$\n",
    "\n",
    "The prior is a Beta $(\\dfrac{1}{2}, \\dfrac{1}{2})$ density. \n",
    "\n",
    "In our case, with Jeffreys prior we will get that the posterior is:\n",
    "    $$p_1 \\mid u^n \\sim Beta(S_u + \\frac{1}{2}, n - S_u + \\frac{1}{2})$$\n",
    "    $$p_2 \\mid w^m \\sim Beta(S_w + \\frac{1}{2}, m - S_w + \\frac{1}{2})$$\n"
   ]
  },
  {
   "cell_type": "code",
   "execution_count": 10,
   "metadata": {
    "colab": {
     "base_uri": "https://localhost:8080/"
    },
    "id": "UpWpWRUMqzgM",
    "outputId": "36849a22-63c5-45ae-b174-6cf47d2c59d9"
   },
   "outputs": [
    {
     "name": "stdout",
     "output_type": "stream",
     "text": [
      "C\n",
      "Uniform prior 𝜓 estimator: 0.07983045928984787\n",
      "Uniform prior Credible Interval: [-0.497152187479008, 0.6853803244448388]\n"
     ]
    }
   ],
   "source": [
    "print(\"C\")\n",
    "def jeffreys_prior(obs_samples=obs_samples, B=1000):\n",
    "    n = obs_samples.where(obs_samples['currentSmoker'] == 1).count()[0]\n",
    "    m = obs_samples.where(obs_samples['currentSmoker'] == 0).count()[0]\n",
    "    s_u = obs_samples[obs_samples['currentSmoker'] == 1]['Z'].sum()\n",
    "    s_w = obs_samples[obs_samples['currentSmoker'] == 0]['Z'].sum()\n",
    "    p1 = np.random.beta(s_u + 0.5, n - s_u + 0.5, B)\n",
    "    p2 = np.random.beta(s_w + 0.5, m - s_w + 0.5, B)\n",
    "    Eta_1 = [logit(p) for p in p1]\n",
    "    Eta_2 = [logit(p) for p in p2]\n",
    "    psi = [eta_1 - eta_2 for eta_1, eta_2 in zip(Eta_1, Eta_2)]\n",
    "    return np.array(psi)\n",
    "\n",
    "B = 1000\n",
    "alpha = 0.05\n",
    "jeffreys = jeffreys_prior()\n",
    "jeffreys.sort()\n",
    "\n",
    "estimators['jeffreys'] = jeffreys.mean()\n",
    "intervals['jeffreys'] = [jeffreys[int(0.5 * alpha * B)], jeffreys[int(B - 0.5 * alpha * B)]]\n",
    "\n",
    "print(f\"Uniform prior 𝜓 estimator: {estimators['jeffreys']}\\n\"\n",
    "      f\"Uniform prior Credible Interval: {intervals['jeffreys']}\")"
   ]
  },
  {
   "cell_type": "markdown",
   "metadata": {
    "id": "fjB-n7IaqzgO"
   },
   "source": [
    "For section D, first we will generate Z for the past samples.<br>\n",
    "Then, we will calculate the prior with bootstrap estimators for $p_1$ and $p_2$ from the past data and fit a beta distribution to the result."
   ]
  },
  {
   "cell_type": "code",
   "execution_count": 11,
   "metadata": {
    "colab": {
     "base_uri": "https://localhost:8080/"
    },
    "id": "OH3XQWPUqzgO",
    "outputId": "44dd6e48-a029-49cc-aa76-0245f99f853f"
   },
   "outputs": [
    {
     "name": "stdout",
     "output_type": "stream",
     "text": [
      "D\n",
      "      heartRate  currentSmoker  Z\n",
      "627        72.0              1  0\n",
      "792        88.0              1  1\n",
      "699        90.0              0  1\n",
      "2371       82.0              0  1\n",
      "2307       68.0              1  0\n",
      "...         ...            ... ..\n",
      "1628       90.0              1  1\n",
      "182        96.0              1  1\n",
      "1556       74.0              0  0\n",
      "784        70.0              1  0\n",
      "2269       63.0              0  0\n",
      "\n",
      "[1000 rows x 3 columns]\n",
      "p1~Beta(222.496,292.497)\n",
      "p2~Beta(205.028,296.366)\n",
      "Uniform prior 𝜓 estimator: 0.09020786650807587\n",
      "Uniform prior Credible Interval: [-0.13161789291338227, 0.3151054201055059]\n"
     ]
    }
   ],
   "source": [
    "print(\"D\")\n",
    "Z = past_samples.apply(lambda df: 1 if df['heartRate'] > threshold else 0, axis = 1)\n",
    "past_samples = pd.concat([past_samples, Z], axis= 1)\n",
    "past_samples = past_samples.rename(columns={0:\"Z\"})\n",
    "print(past_samples)\n",
    "\n",
    "def prior_bootstrap_estimator(past_samples=past_samples, B=1000):\n",
    "    p1_estimators, p2_estimators = list(), list()\n",
    "    data = past_samples[['currentSmoker', 'Z']].to_numpy()\n",
    "    for i in range(B):\n",
    "        X = data[np.random.choice(data.shape[0], np.size(data,0), replace=True), :]\n",
    "        sample = pd.DataFrame({'currentSmoker': X[:, 0], 'Z': X[:, 1]})\n",
    "        cs_true=sample.where(sample['currentSmoker'] == 1).count()\n",
    "        cs_false=sample.where(sample['currentSmoker'] == 0).count()\n",
    "        p1 = (sample.where((sample['Z'] == 1) & (sample['currentSmoker'] == 1)).count()/ cs_true)[0]\n",
    "        p2 = (sample.where((sample['Z'] == 1) & (sample['currentSmoker'] == 0)).count()/ cs_false)[0]\n",
    "        \n",
    "        p1_estimators.append(p1)\n",
    "        p2_estimators.append(p2)\n",
    "    return p1_estimators, p2_estimators\n",
    "\n",
    "#fitting the Beta distribution\n",
    "B = 1000\n",
    "p1_estimators, p2_estimators = prior_bootstrap_estimator()\n",
    "p1_alpha, p1_beta = scipy.stats.beta.fit(p1_estimators, floc=0, fscale=1)[:2]\n",
    "p2_alpha, p2_beta = scipy.stats.beta.fit(p2_estimators, floc=0, fscale=1)[:2]\n",
    "print(f'p1~Beta({p1_alpha.round(3)},{p1_beta.round(3)})\\np2~Beta({p2_alpha.round(3)},{p2_beta.round(3)})')\n",
    "\n",
    "\n",
    "#calculating the estimator and credible interval\n",
    "def past_prior(obs_samples, B, p1_alpha, p1_beta, p2_alpha, p2_beta):\n",
    "    n = obs_samples.where(obs_samples['currentSmoker'] == 1).count()[0]\n",
    "    m = obs_samples.where(obs_samples['currentSmoker'] == 0).count()[0]\n",
    "    s_u = obs_samples[obs_samples['currentSmoker'] == 1]['Z'].sum()\n",
    "    s_w = obs_samples[obs_samples['currentSmoker'] == 0]['Z'].sum()\n",
    "    p1 = np.random.beta(s_u + p1_alpha, n - s_u + p1_beta, B)\n",
    "    p2 = np.random.beta(s_w + p2_alpha, m - s_w + p2_beta, B)\n",
    "    Eta_1 = [logit(p) for p in p1]\n",
    "    Eta_2 = [logit(p) for p in p2]\n",
    "    psi = [eta_1 - eta_2 for eta_1, eta_2 in zip(Eta_1, Eta_2)]\n",
    "    return np.array(psi)\n",
    "\n",
    "B = 1000\n",
    "alpha = 0.05\n",
    "past = past_prior(obs_samples,B,p1_alpha,p1_beta,p2_alpha,p2_beta)\n",
    "past.sort()\n",
    "\n",
    "estimators['past'] = past.mean()\n",
    "intervals['past'] = [past[int(0.5 * alpha * B)], past[int(B - 0.5 * alpha * B)]]\n",
    "\n",
    "print(f\"Uniform prior 𝜓 estimator: {estimators['past']}\\n\"\n",
    "      f\"Uniform prior Credible Interval: {intervals['past']}\")"
   ]
  },
  {
   "cell_type": "code",
   "execution_count": 12,
   "metadata": {
    "colab": {
     "base_uri": "https://localhost:8080/",
     "height": 283
    },
    "id": "WvhgCkT1qzgQ",
    "outputId": "c3352505-161a-443e-edd2-ba7b4f169fac"
   },
   "outputs": [
    {
     "name": "stdout",
     "output_type": "stream",
     "text": [
      "E\n"
     ]
    },
    {
     "data": {
      "image/png": "[encoded data removed]",
      "text/plain": [
       "<Figure size 432x288 with 1 Axes>"
      ]
     },
     "metadata": {
      "needs_background": "light"
     },
     "output_type": "display_data"
    }
   ],
   "source": [
    "print(\"E\")\n",
    "\n",
    "# calculate for the whole data\n",
    "Z = df.apply(lambda df: 1 if df['heartRate'] > threshold else 0, axis = 1)\n",
    "df = pd.concat([df, Z], axis= 1)\n",
    "df = df.rename(columns={0:\"Z\"})\n",
    "#print(df)\n",
    "cs_true=obs_samples.where(obs_samples['currentSmoker'] == 1).count()\n",
    "cs_false=obs_samples.where(obs_samples['currentSmoker'] == 0).count()\n",
    "\n",
    "p1 = (obs_samples.where((obs_samples['Z'] == 1) & (obs_samples['currentSmoker'] == 1)).count()/ cs_true)[0]\n",
    "p2 = (obs_samples.where((obs_samples['Z'] == 1) & (obs_samples['currentSmoker'] == 0)).count()/ cs_false)[0]\n",
    "\n",
    "estimators['full']=logit(p1) - logit(p2)\n",
    "\n",
    "\n",
    "# plotting for comparison \n",
    "categories = ['Percentile Bootstrap Confidence Interval',\n",
    "                         'Uniform Prior',\n",
    "                         'Jeffreys Prior',\n",
    "                         'Past Data Prior',\n",
    "                         'Full Data']\n",
    "\n",
    "estimator_keys=list(estimators.keys())\n",
    "estimator_vals=list(estimators.values())\n",
    "interval_vals=list(intervals.values())\n",
    "\n",
    "\n",
    "lower_bounds, upper_bounds = zip(*interval_vals)\n",
    "\n",
    "fig = plt.figure()\n",
    "ax = fig.add_subplot(1, 1, 1) # nrows, ncols, index\n",
    "\n",
    "for lower,upper,y in zip(lower_bounds, upper_bounds, range(len(lower_bounds))):\n",
    "    plt.plot((lower,upper),(y,y),'ro-',color='red')\n",
    "plt.scatter(estimator_vals, list(range(len(estimator_vals))), color='black')\n",
    "plt.yticks(range(len(categories)), categories)\n",
    "\n",
    "plt.show()"
   ]
  },
  {
   "cell_type": "markdown",
   "metadata": {
    "id": "nmRN5KA3qzgS"
   },
   "source": [
    "<li>\n",
    "    All intervals contain the estimator calculated based on the full dataset\n",
    "<li>\n",
    "    We see that the bootstarp-based confidence intervals are the largest.\n",
    "<li>\n",
    "    The bayesian credible intervals are a bit smaller, but they are pretty similar to the bootstraping-based ones. The\n",
    "    estimators are pretty close too.\n",
    "<li>\n",
    "    The credible interval calculated using the prior based on previous data is by far smaller than the others. \n",
    "<br><br>\n",
    "    This makes a lot of sense. Using the previous data means we have prior knowledge about the data, and our \"guess\" of the prior is more educated - data based. When we used the uniform prior and Jeffreys prior we assumed no prior knowledge about the data, which led in turn to greater uncertainty and worse results (in comparison to the full-data estimator)."
   ]
  },
  {
   "cell_type": "markdown",
   "metadata": {
    "id": "NHpOaBlvqzgS"
   },
   "source": [
    "<h2>Part 2: Missing Data</h2><br>\n",
    "We chose the following parameters:<br>\n",
    "<li>Numeric: age, heart Rate\n",
    "<li>categorial: Male (yes/no)\n",
    "<li>The selected explained parameter we chose is numeric BMI<br>\n",
    "\n",
    "<h3>1.</h3>"
   ]
  },
  {
   "cell_type": "code",
   "execution_count": 13,
   "metadata": {
    "colab": {
     "base_uri": "https://localhost:8080/",
     "height": 412
    },
    "id": "noaFJ5A9qzgT",
    "outputId": "067a4267-fe8f-4a2b-8843-502c5e815e99"
   },
   "outputs": [
    {
     "data": {
      "text/html": [
       "<div>\n",
       "<style scoped>\n",
       "    .dataframe tbody tr th:only-of-type {\n",
       "        vertical-align: middle;\n",
       "    }\n",
       "\n",
       "    .dataframe tbody tr th {\n",
       "        vertical-align: top;\n",
       "    }\n",
       "\n",
       "    .dataframe thead th {\n",
       "        text-align: right;\n",
       "    }\n",
       "</style>\n",
       "<table border=\"1\" class=\"dataframe\">\n",
       "  <thead>\n",
       "    <tr style=\"text-align: right;\">\n",
       "      <th></th>\n",
       "      <th>age</th>\n",
       "      <th>heartRate</th>\n",
       "      <th>BMI</th>\n",
       "      <th>male</th>\n",
       "    </tr>\n",
       "  </thead>\n",
       "  <tbody>\n",
       "    <tr>\n",
       "      <th>2013</th>\n",
       "      <td>52</td>\n",
       "      <td>50.0</td>\n",
       "      <td>24.47</td>\n",
       "      <td>1</td>\n",
       "    </tr>\n",
       "    <tr>\n",
       "      <th>3000</th>\n",
       "      <td>44</td>\n",
       "      <td>72.0</td>\n",
       "      <td>23.23</td>\n",
       "      <td>1</td>\n",
       "    </tr>\n",
       "    <tr>\n",
       "      <th>1151</th>\n",
       "      <td>38</td>\n",
       "      <td>75.0</td>\n",
       "      <td>33.49</td>\n",
       "      <td>0</td>\n",
       "    </tr>\n",
       "    <tr>\n",
       "      <th>3853</th>\n",
       "      <td>55</td>\n",
       "      <td>58.0</td>\n",
       "      <td>32.27</td>\n",
       "      <td>0</td>\n",
       "    </tr>\n",
       "    <tr>\n",
       "      <th>2453</th>\n",
       "      <td>58</td>\n",
       "      <td>71.0</td>\n",
       "      <td>23.97</td>\n",
       "      <td>1</td>\n",
       "    </tr>\n",
       "    <tr>\n",
       "      <th>...</th>\n",
       "      <td>...</td>\n",
       "      <td>...</td>\n",
       "      <td>...</td>\n",
       "      <td>...</td>\n",
       "    </tr>\n",
       "    <tr>\n",
       "      <th>3570</th>\n",
       "      <td>62</td>\n",
       "      <td>80.0</td>\n",
       "      <td>26.21</td>\n",
       "      <td>0</td>\n",
       "    </tr>\n",
       "    <tr>\n",
       "      <th>380</th>\n",
       "      <td>55</td>\n",
       "      <td>85.0</td>\n",
       "      <td>31.35</td>\n",
       "      <td>0</td>\n",
       "    </tr>\n",
       "    <tr>\n",
       "      <th>2735</th>\n",
       "      <td>41</td>\n",
       "      <td>80.0</td>\n",
       "      <td>31.12</td>\n",
       "      <td>1</td>\n",
       "    </tr>\n",
       "    <tr>\n",
       "      <th>978</th>\n",
       "      <td>57</td>\n",
       "      <td>92.0</td>\n",
       "      <td>24.07</td>\n",
       "      <td>1</td>\n",
       "    </tr>\n",
       "    <tr>\n",
       "      <th>3516</th>\n",
       "      <td>40</td>\n",
       "      <td>75.0</td>\n",
       "      <td>30.55</td>\n",
       "      <td>1</td>\n",
       "    </tr>\n",
       "  </tbody>\n",
       "</table>\n",
       "<p>1000 rows × 4 columns</p>\n",
       "</div>"
      ],
      "text/plain": [
       "      age  heartRate    BMI  male\n",
       "2013   52       50.0  24.47     1\n",
       "3000   44       72.0  23.23     1\n",
       "1151   38       75.0  33.49     0\n",
       "3853   55       58.0  32.27     0\n",
       "2453   58       71.0  23.97     1\n",
       "...   ...        ...    ...   ...\n",
       "3570   62       80.0  26.21     0\n",
       "380    55       85.0  31.35     0\n",
       "2735   41       80.0  31.12     1\n",
       "978    57       92.0  24.07     1\n",
       "3516   40       75.0  30.55     1\n",
       "\n",
       "[1000 rows x 4 columns]"
      ]
     },
     "execution_count": 13,
     "metadata": {},
     "output_type": "execute_result"
    }
   ],
   "source": [
    "sample_all = df.copy()\n",
    "sample_all.dropna(inplace=True)\n",
    "\n",
    "samples = sample_all[[\"age\",\"heartRate\", \"BMI\",\"male\"]].sample(1000, random_state=0)\n",
    "samples"
   ]
  },
  {
   "cell_type": "markdown",
   "metadata": {
    "id": "_JGL9886qzgT"
   },
   "source": [
    "<h3>2.</h3>"
   ]
  },
  {
   "cell_type": "code",
   "execution_count": 14,
   "metadata": {
    "colab": {
     "base_uri": "https://localhost:8080/",
     "height": 79
    },
    "id": "-XmwIkr4qzgU",
    "outputId": "3b292fdd-9e50-4c05-ac84-255e887d6035"
   },
   "outputs": [
    {
     "data": {
      "text/html": [
       "<div>\n",
       "<style scoped>\n",
       "    .dataframe tbody tr th:only-of-type {\n",
       "        vertical-align: middle;\n",
       "    }\n",
       "\n",
       "    .dataframe tbody tr th {\n",
       "        vertical-align: top;\n",
       "    }\n",
       "\n",
       "    .dataframe thead th {\n",
       "        text-align: right;\n",
       "    }\n",
       "</style>\n",
       "<table border=\"1\" class=\"dataframe\">\n",
       "  <thead>\n",
       "    <tr style=\"text-align: right;\">\n",
       "      <th></th>\n",
       "      <th>intercept</th>\n",
       "      <th>age</th>\n",
       "      <th>heartRate</th>\n",
       "      <th>male</th>\n",
       "    </tr>\n",
       "  </thead>\n",
       "  <tbody>\n",
       "    <tr>\n",
       "      <th>Q2 Beta Estimator</th>\n",
       "      <td>21.163038</td>\n",
       "      <td>0.057846</td>\n",
       "      <td>0.018113</td>\n",
       "      <td>0.535418</td>\n",
       "    </tr>\n",
       "  </tbody>\n",
       "</table>\n",
       "</div>"
      ],
      "text/plain": [
       "                   intercept       age  heartRate      male\n",
       "Q2 Beta Estimator  21.163038  0.057846   0.018113  0.535418"
      ]
     },
     "execution_count": 14,
     "metadata": {},
     "output_type": "execute_result"
    }
   ],
   "source": [
    "def beta_estimators(data):\n",
    "    data.loc[data['male'] == 'female' , 'male'] = 1\n",
    "    data.loc[data['male'] == 'male' , 'male'] = 0\n",
    "    att = ['intercept', \"age\",'heartRate', 'male']\n",
    "    Y = data[\"BMI\"].to_numpy().reshape((-1,1))\n",
    "    X = data[[\"age\",'heartRate', 'male']]\n",
    "    X['intercept']=1\n",
    "    X= X[att]\n",
    "    X = X.to_numpy(dtype='float64')\n",
    "\n",
    "    results = OLS(Y, X).fit() \n",
    "\n",
    "    betas = np.array(results.params).reshape((1,-1))\n",
    "    return results, pd.DataFrame(betas, columns=att, index=[\"Beta Estimator\"])\n",
    "    \n",
    "results0, estimators0 = beta_estimators(samples)\n",
    "estimators0.index = (['Q2 Beta Estimator'])\n",
    "estimators0"
   ]
  },
  {
   "cell_type": "code",
   "execution_count": 15,
   "metadata": {
    "colab": {
     "base_uri": "https://localhost:8080/",
     "height": 141
    },
    "id": "50tuJqznqzgU",
    "outputId": "4c60390e-78d2-4772-bed0-0b10d330e948"
   },
   "outputs": [
    {
     "data": {
      "text/html": [
       "<div>\n",
       "<style scoped>\n",
       "    .dataframe tbody tr th:only-of-type {\n",
       "        vertical-align: middle;\n",
       "    }\n",
       "\n",
       "    .dataframe tbody tr th {\n",
       "        vertical-align: top;\n",
       "    }\n",
       "\n",
       "    .dataframe thead th {\n",
       "        text-align: right;\n",
       "    }\n",
       "</style>\n",
       "<table border=\"1\" class=\"dataframe\">\n",
       "  <thead>\n",
       "    <tr style=\"text-align: right;\">\n",
       "      <th></th>\n",
       "      <th>Lower</th>\n",
       "      <th>Upper</th>\n",
       "    </tr>\n",
       "  </thead>\n",
       "  <tbody>\n",
       "    <tr>\n",
       "      <th>Age</th>\n",
       "      <td>0.029662</td>\n",
       "      <td>0.086029</td>\n",
       "    </tr>\n",
       "    <tr>\n",
       "      <th>HeartRate</th>\n",
       "      <td>-0.002274</td>\n",
       "      <td>0.038499</td>\n",
       "    </tr>\n",
       "    <tr>\n",
       "      <th>Male</th>\n",
       "      <td>0.055298</td>\n",
       "      <td>1.015538</td>\n",
       "    </tr>\n",
       "  </tbody>\n",
       "</table>\n",
       "</div>"
      ],
      "text/plain": [
       "              Lower     Upper\n",
       "Age        0.029662  0.086029\n",
       "HeartRate -0.002274  0.038499\n",
       "Male       0.055298  1.015538"
      ]
     },
     "execution_count": 15,
     "metadata": {},
     "output_type": "execute_result"
    }
   ],
   "source": [
    "def get_confidence(results):\n",
    "    conf_int = pd.DataFrame(results.conf_int()[1:])\n",
    "    conf_int.columns = ['Lower','Upper']\n",
    "    conf_int.rename(index={0:'Age',1:'HeartRate', 2:'Male'}, inplace=True)\n",
    "    return conf_int\n",
    "\n",
    "conf_int0 = get_confidence(results0)\n",
    "conf_int0"
   ]
  },
  {
   "cell_type": "markdown",
   "metadata": {
    "id": "JrYs7eIoqzgV"
   },
   "source": [
    "<h3>3.</h3>\n",
    "We want to delete about 500 of the values of 𝑌 so that the larger the 𝑌, the greater its chance of being deleted."
   ]
  },
  {
   "cell_type": "code",
   "execution_count": 16,
   "metadata": {
    "colab": {
     "base_uri": "https://localhost:8080/",
     "height": 412
    },
    "id": "MurPhawIqzgV",
    "outputId": "dac4758d-8631-4270-c88b-8966a03b5550"
   },
   "outputs": [
    {
     "data": {
      "text/html": [
       "<div>\n",
       "<style scoped>\n",
       "    .dataframe tbody tr th:only-of-type {\n",
       "        vertical-align: middle;\n",
       "    }\n",
       "\n",
       "    .dataframe tbody tr th {\n",
       "        vertical-align: top;\n",
       "    }\n",
       "\n",
       "    .dataframe thead th {\n",
       "        text-align: right;\n",
       "    }\n",
       "</style>\n",
       "<table border=\"1\" class=\"dataframe\">\n",
       "  <thead>\n",
       "    <tr style=\"text-align: right;\">\n",
       "      <th></th>\n",
       "      <th>age</th>\n",
       "      <th>heartRate</th>\n",
       "      <th>BMI</th>\n",
       "      <th>male</th>\n",
       "    </tr>\n",
       "  </thead>\n",
       "  <tbody>\n",
       "    <tr>\n",
       "      <th>0</th>\n",
       "      <td>64</td>\n",
       "      <td>75.0</td>\n",
       "      <td>16.59</td>\n",
       "      <td>1</td>\n",
       "    </tr>\n",
       "    <tr>\n",
       "      <th>1</th>\n",
       "      <td>40</td>\n",
       "      <td>58.0</td>\n",
       "      <td>16.69</td>\n",
       "      <td>0</td>\n",
       "    </tr>\n",
       "    <tr>\n",
       "      <th>2</th>\n",
       "      <td>35</td>\n",
       "      <td>79.0</td>\n",
       "      <td>16.71</td>\n",
       "      <td>0</td>\n",
       "    </tr>\n",
       "    <tr>\n",
       "      <th>3</th>\n",
       "      <td>63</td>\n",
       "      <td>65.0</td>\n",
       "      <td>16.92</td>\n",
       "      <td>0</td>\n",
       "    </tr>\n",
       "    <tr>\n",
       "      <th>4</th>\n",
       "      <td>48</td>\n",
       "      <td>73.0</td>\n",
       "      <td>17.11</td>\n",
       "      <td>0</td>\n",
       "    </tr>\n",
       "    <tr>\n",
       "      <th>...</th>\n",
       "      <td>...</td>\n",
       "      <td>...</td>\n",
       "      <td>...</td>\n",
       "      <td>...</td>\n",
       "    </tr>\n",
       "    <tr>\n",
       "      <th>995</th>\n",
       "      <td>63</td>\n",
       "      <td>78.0</td>\n",
       "      <td>NaN</td>\n",
       "      <td>0</td>\n",
       "    </tr>\n",
       "    <tr>\n",
       "      <th>996</th>\n",
       "      <td>37</td>\n",
       "      <td>80.0</td>\n",
       "      <td>NaN</td>\n",
       "      <td>0</td>\n",
       "    </tr>\n",
       "    <tr>\n",
       "      <th>997</th>\n",
       "      <td>62</td>\n",
       "      <td>62.0</td>\n",
       "      <td>42.00</td>\n",
       "      <td>0</td>\n",
       "    </tr>\n",
       "    <tr>\n",
       "      <th>998</th>\n",
       "      <td>37</td>\n",
       "      <td>68.0</td>\n",
       "      <td>NaN</td>\n",
       "      <td>0</td>\n",
       "    </tr>\n",
       "    <tr>\n",
       "      <th>999</th>\n",
       "      <td>55</td>\n",
       "      <td>90.0</td>\n",
       "      <td>NaN</td>\n",
       "      <td>0</td>\n",
       "    </tr>\n",
       "  </tbody>\n",
       "</table>\n",
       "<p>1000 rows × 4 columns</p>\n",
       "</div>"
      ],
      "text/plain": [
       "     age  heartRate    BMI  male\n",
       "0     64       75.0  16.59     1\n",
       "1     40       58.0  16.69     0\n",
       "2     35       79.0  16.71     0\n",
       "3     63       65.0  16.92     0\n",
       "4     48       73.0  17.11     0\n",
       "..   ...        ...    ...   ...\n",
       "995   63       78.0    NaN     0\n",
       "996   37       80.0    NaN     0\n",
       "997   62       62.0  42.00     0\n",
       "998   37       68.0    NaN     0\n",
       "999   55       90.0    NaN     0\n",
       "\n",
       "[1000 rows x 4 columns]"
      ]
     },
     "execution_count": 16,
     "metadata": {},
     "output_type": "execute_result"
    }
   ],
   "source": [
    "np.random.seed(0)\n",
    "\n",
    "samples.sort_values(by='BMI', inplace=True)\n",
    "samples.reset_index(inplace=True, drop=True)\n",
    "indices_missing = [index for index,p_val in enumerate(np.linspace(1/5,4/5, num=1000)) if np.random.binomial(1, p_val) ]\n",
    "samples.loc[indices_missing,'BMI'] = None\n",
    "samples"
   ]
  },
  {
   "cell_type": "code",
   "execution_count": 17,
   "metadata": {
    "colab": {
     "base_uri": "https://localhost:8080/"
    },
    "id": "9tZtF2dXqzgW",
    "outputId": "fd493812-a85d-4239-e020-e19b40db7db1"
   },
   "outputs": [
    {
     "name": "stdout",
     "output_type": "stream",
     "text": [
      "replacing Y -BMI values of 483 none records \n"
     ]
    }
   ],
   "source": [
    "print(f'replacing Y -BMI values of {len(indices_missing)} none records ')"
   ]
  },
  {
   "cell_type": "markdown",
   "metadata": {
    "id": "EnlTT555qzgX"
   },
   "source": [
    "<h3>4.</h3>"
   ]
  },
  {
   "cell_type": "code",
   "execution_count": 18,
   "metadata": {
    "colab": {
     "base_uri": "https://localhost:8080/"
    },
    "id": "O5Bo7USBqzgY",
    "outputId": "2d03110d-6fb0-4606-b67c-1a771077a155"
   },
   "outputs": [
    {
     "name": "stdout",
     "output_type": "stream",
     "text": [
      "A\n",
      "betas\n",
      "                 intercept       age  heartRate      male\n",
      "Beta Estimator     20.161  0.046349   0.019607  1.087898\n",
      "\n",
      "Confidence Intervals\n",
      "               Lower     Upper\n",
      "Age        0.012944  0.079755\n",
      "HeartRate -0.006176  0.045390\n",
      "Male       0.503181  1.672615\n"
     ]
    }
   ],
   "source": [
    "print(\"A\")\n",
    "without_missing = samples.copy()\n",
    "without_missing.dropna(inplace=True)\n",
    "results1, estimators1 = beta_estimators(without_missing)\n",
    "print('betas\\n',estimators1)\n",
    "conf1_int = get_confidence(results1)\n",
    "print('\\nConfidence Intervals\\n',conf1_int)"
   ]
  },
  {
   "cell_type": "code",
   "execution_count": 19,
   "metadata": {
    "colab": {
     "base_uri": "https://localhost:8080/",
     "height": 97
    },
    "id": "e9KldeiIqzgY",
    "outputId": "ef710cc7-680c-4e16-dd32-e4a8a55d1ede"
   },
   "outputs": [
    {
     "name": "stdout",
     "output_type": "stream",
     "text": [
      "B\n"
     ]
    },
    {
     "data": {
      "text/html": [
       "<div>\n",
       "<style scoped>\n",
       "    .dataframe tbody tr th:only-of-type {\n",
       "        vertical-align: middle;\n",
       "    }\n",
       "\n",
       "    .dataframe tbody tr th {\n",
       "        vertical-align: top;\n",
       "    }\n",
       "\n",
       "    .dataframe thead th {\n",
       "        text-align: right;\n",
       "    }\n",
       "</style>\n",
       "<table border=\"1\" class=\"dataframe\">\n",
       "  <thead>\n",
       "    <tr style=\"text-align: right;\">\n",
       "      <th></th>\n",
       "      <th>intercept</th>\n",
       "      <th>age</th>\n",
       "      <th>heartRate</th>\n",
       "      <th>male</th>\n",
       "    </tr>\n",
       "  </thead>\n",
       "  <tbody>\n",
       "    <tr>\n",
       "      <th>Beta Estimator</th>\n",
       "      <td>20.161</td>\n",
       "      <td>0.046349</td>\n",
       "      <td>0.019607</td>\n",
       "      <td>1.087898</td>\n",
       "    </tr>\n",
       "  </tbody>\n",
       "</table>\n",
       "</div>"
      ],
      "text/plain": [
       "                intercept       age  heartRate      male\n",
       "Beta Estimator     20.161  0.046349   0.019607  1.087898"
      ]
     },
     "execution_count": 19,
     "metadata": {},
     "output_type": "execute_result"
    }
   ],
   "source": [
    "print(\"B\")\n",
    "with_missing = samples[samples['BMI'].isnull()]\n",
    "att = ['intercept', \"age\",'heartRate', 'male']\n",
    "\n",
    "X = with_missing[[\"age\",'heartRate', 'male']]\n",
    "X['intercept']=1\n",
    "X= X[att]\n",
    "X = X.to_numpy(dtype='float64')\n",
    "prediction1 = results1.predict(X)\n",
    "samples.loc[indices_missing,'BMI']=prediction1\n",
    "results2, estimators2 = beta_estimators(samples)\n",
    "estimators2"
   ]
  },
  {
   "cell_type": "code",
   "execution_count": 20,
   "metadata": {
    "colab": {
     "base_uri": "https://localhost:8080/",
     "height": 141
    },
    "id": "WEx87h-XqzgZ",
    "outputId": "694e41e8-8cd0-4598-ca39-305430158c84"
   },
   "outputs": [
    {
     "data": {
      "text/html": [
       "<div>\n",
       "<style scoped>\n",
       "    .dataframe tbody tr th:only-of-type {\n",
       "        vertical-align: middle;\n",
       "    }\n",
       "\n",
       "    .dataframe tbody tr th {\n",
       "        vertical-align: top;\n",
       "    }\n",
       "\n",
       "    .dataframe thead th {\n",
       "        text-align: right;\n",
       "    }\n",
       "</style>\n",
       "<table border=\"1\" class=\"dataframe\">\n",
       "  <thead>\n",
       "    <tr style=\"text-align: right;\">\n",
       "      <th></th>\n",
       "      <th>Lower</th>\n",
       "      <th>Upper</th>\n",
       "    </tr>\n",
       "  </thead>\n",
       "  <tbody>\n",
       "    <tr>\n",
       "      <th>Age</th>\n",
       "      <td>0.028745</td>\n",
       "      <td>0.063954</td>\n",
       "    </tr>\n",
       "    <tr>\n",
       "      <th>HeartRate</th>\n",
       "      <td>0.006873</td>\n",
       "      <td>0.032342</td>\n",
       "    </tr>\n",
       "    <tr>\n",
       "      <th>Male</th>\n",
       "      <td>0.787992</td>\n",
       "      <td>1.387804</td>\n",
       "    </tr>\n",
       "  </tbody>\n",
       "</table>\n",
       "</div>"
      ],
      "text/plain": [
       "              Lower     Upper\n",
       "Age        0.028745  0.063954\n",
       "HeartRate  0.006873  0.032342\n",
       "Male       0.787992  1.387804"
      ]
     },
     "execution_count": 20,
     "metadata": {},
     "output_type": "execute_result"
    }
   ],
   "source": [
    "conf2_int = get_confidence(results2)\n",
    "conf2_int"
   ]
  },
  {
   "cell_type": "code",
   "execution_count": 21,
   "metadata": {
    "colab": {
     "base_uri": "https://localhost:8080/",
     "height": 109
    },
    "id": "gBzN4TM7qzga",
    "outputId": "72d1f9dc-9611-455c-eff8-9e01abf8d7ca"
   },
   "outputs": [
    {
     "data": {
      "text/html": [
       "<div>\n",
       "<style scoped>\n",
       "    .dataframe tbody tr th:only-of-type {\n",
       "        vertical-align: middle;\n",
       "    }\n",
       "\n",
       "    .dataframe tbody tr th {\n",
       "        vertical-align: top;\n",
       "    }\n",
       "\n",
       "    .dataframe thead th {\n",
       "        text-align: right;\n",
       "    }\n",
       "</style>\n",
       "<table border=\"1\" class=\"dataframe\">\n",
       "  <thead>\n",
       "    <tr style=\"text-align: right;\">\n",
       "      <th></th>\n",
       "      <th>intercept</th>\n",
       "      <th>age</th>\n",
       "      <th>heartRate</th>\n",
       "      <th>male</th>\n",
       "    </tr>\n",
       "  </thead>\n",
       "  <tbody>\n",
       "    <tr>\n",
       "      <th>based Estimators complete</th>\n",
       "      <td>20.161</td>\n",
       "      <td>0.046349</td>\n",
       "      <td>0.019607</td>\n",
       "      <td>1.087898</td>\n",
       "    </tr>\n",
       "    <tr>\n",
       "      <th>based Estimators reg imp</th>\n",
       "      <td>20.161</td>\n",
       "      <td>0.046349</td>\n",
       "      <td>0.019607</td>\n",
       "      <td>1.087898</td>\n",
       "    </tr>\n",
       "  </tbody>\n",
       "</table>\n",
       "</div>"
      ],
      "text/plain": [
       "                           intercept       age  heartRate      male\n",
       "based Estimators complete     20.161  0.046349   0.019607  1.087898\n",
       "based Estimators reg imp      20.161  0.046349   0.019607  1.087898"
      ]
     },
     "execution_count": 21,
     "metadata": {},
     "output_type": "execute_result"
    }
   ],
   "source": [
    "estimation_both=pd.concat([estimators1,estimators2])\n",
    "estimation_both.index=(['based Estimators complete','based Estimators reg imp'])\n",
    "estimation_both"
   ]
  },
  {
   "cell_type": "code",
   "execution_count": 22,
   "metadata": {
    "colab": {
     "base_uri": "https://localhost:8080/",
     "height": 141
    },
    "id": "2l3Mm-d_qzga",
    "outputId": "0dcca361-63fb-4e6e-f4b1-3e670c9faaaf"
   },
   "outputs": [
    {
     "data": {
      "text/html": [
       "<div>\n",
       "<style scoped>\n",
       "    .dataframe tbody tr th:only-of-type {\n",
       "        vertical-align: middle;\n",
       "    }\n",
       "\n",
       "    .dataframe tbody tr th {\n",
       "        vertical-align: top;\n",
       "    }\n",
       "\n",
       "    .dataframe thead th {\n",
       "        text-align: right;\n",
       "    }\n",
       "</style>\n",
       "<table border=\"1\" class=\"dataframe\">\n",
       "  <thead>\n",
       "    <tr style=\"text-align: right;\">\n",
       "      <th></th>\n",
       "      <th>complete Lower bound</th>\n",
       "      <th>reg imp Lower bound</th>\n",
       "      <th>complete Upper bound</th>\n",
       "      <th>reg imp Upper bound</th>\n",
       "    </tr>\n",
       "  </thead>\n",
       "  <tbody>\n",
       "    <tr>\n",
       "      <th>Age</th>\n",
       "      <td>0.012944</td>\n",
       "      <td>0.028745</td>\n",
       "      <td>0.079755</td>\n",
       "      <td>0.063954</td>\n",
       "    </tr>\n",
       "    <tr>\n",
       "      <th>HeartRate</th>\n",
       "      <td>-0.006176</td>\n",
       "      <td>0.006873</td>\n",
       "      <td>0.045390</td>\n",
       "      <td>0.032342</td>\n",
       "    </tr>\n",
       "    <tr>\n",
       "      <th>Male</th>\n",
       "      <td>0.503181</td>\n",
       "      <td>0.787992</td>\n",
       "      <td>1.672615</td>\n",
       "      <td>1.387804</td>\n",
       "    </tr>\n",
       "  </tbody>\n",
       "</table>\n",
       "</div>"
      ],
      "text/plain": [
       "           complete Lower bound  reg imp Lower bound  complete Upper bound  \\\n",
       "Age                    0.012944             0.028745              0.079755   \n",
       "HeartRate             -0.006176             0.006873              0.045390   \n",
       "Male                   0.503181             0.787992              1.672615   \n",
       "\n",
       "           reg imp Upper bound  \n",
       "Age                   0.063954  \n",
       "HeartRate             0.032342  \n",
       "Male                  1.387804  "
      ]
     },
     "execution_count": 22,
     "metadata": {},
     "output_type": "execute_result"
    }
   ],
   "source": [
    "both_ci=pd.concat([conf1_int,conf2_int],axis=1)\n",
    "both_ci.columns=['complete Lower bound', 'complete Upper bound', 'reg imp Lower bound', 'reg imp Upper bound']\n",
    "both_ci = both_ci[['complete Lower bound','reg imp Lower bound', 'complete Upper bound', 'reg imp Upper bound']]\n",
    "both_ci"
   ]
  },
  {
   "cell_type": "code",
   "execution_count": 23,
   "metadata": {
    "colab": {
     "base_uri": "https://localhost:8080/",
     "height": 141
    },
    "id": "zE2VqtaYqzgb",
    "outputId": "09a5d795-acfb-476f-ad39-75ad446e9e8e"
   },
   "outputs": [
    {
     "data": {
      "text/html": [
       "<div>\n",
       "<style scoped>\n",
       "    .dataframe tbody tr th:only-of-type {\n",
       "        vertical-align: middle;\n",
       "    }\n",
       "\n",
       "    .dataframe tbody tr th {\n",
       "        vertical-align: top;\n",
       "    }\n",
       "\n",
       "    .dataframe thead th {\n",
       "        text-align: right;\n",
       "    }\n",
       "</style>\n",
       "<table border=\"1\" class=\"dataframe\">\n",
       "  <thead>\n",
       "    <tr style=\"text-align: right;\">\n",
       "      <th></th>\n",
       "      <th>CI Length of complete</th>\n",
       "      <th>CI Length reg imp</th>\n",
       "    </tr>\n",
       "  </thead>\n",
       "  <tbody>\n",
       "    <tr>\n",
       "      <th>Age</th>\n",
       "      <td>0.066810</td>\n",
       "      <td>0.035209</td>\n",
       "    </tr>\n",
       "    <tr>\n",
       "      <th>HeartRate</th>\n",
       "      <td>0.051566</td>\n",
       "      <td>0.025469</td>\n",
       "    </tr>\n",
       "    <tr>\n",
       "      <th>Male</th>\n",
       "      <td>1.169434</td>\n",
       "      <td>0.599812</td>\n",
       "    </tr>\n",
       "  </tbody>\n",
       "</table>\n",
       "</div>"
      ],
      "text/plain": [
       "           CI Length of complete  CI Length reg imp\n",
       "Age                     0.066810           0.035209\n",
       "HeartRate               0.051566           0.025469\n",
       "Male                    1.169434           0.599812"
      ]
     },
     "execution_count": 23,
     "metadata": {},
     "output_type": "execute_result"
    }
   ],
   "source": [
    "ci1_len=conf1_int['Upper']-conf1_int['Lower']\n",
    "ci2_len=conf2_int['Upper']-conf2_int['Lower']\n",
    "both_lens=pd.concat([ci1_len,ci2_len],axis=1)\n",
    "both_lens.columns=['CI Length of complete', 'CI Length reg imp']\n",
    "both_lens"
   ]
  },
  {
   "cell_type": "markdown",
   "metadata": {
    "id": "UTkKu7OYqzgc"
   },
   "source": [
    "from the results above, we got the same beat est in both cases, but as exepted, the CI based on reg imp shorter from the complete data because the filling of the missing data est by reg line have more data (and no more noise) "
   ]
  },
  {
   "cell_type": "code",
   "execution_count": 24,
   "metadata": {
    "colab": {
     "base_uri": "https://localhost:8080/",
     "height": 97
    },
    "id": "DKe-VxR7qzgc",
    "outputId": "0c8a987a-c000-4aac-db51-1f2b852b14ba"
   },
   "outputs": [
    {
     "name": "stdout",
     "output_type": "stream",
     "text": [
      "C\n"
     ]
    },
    {
     "data": {
      "text/html": [
       "<div>\n",
       "<style scoped>\n",
       "    .dataframe tbody tr th:only-of-type {\n",
       "        vertical-align: middle;\n",
       "    }\n",
       "\n",
       "    .dataframe tbody tr th {\n",
       "        vertical-align: top;\n",
       "    }\n",
       "\n",
       "    .dataframe thead th {\n",
       "        text-align: right;\n",
       "    }\n",
       "</style>\n",
       "<table border=\"1\" class=\"dataframe\">\n",
       "  <thead>\n",
       "    <tr style=\"text-align: right;\">\n",
       "      <th></th>\n",
       "      <th>intercept</th>\n",
       "      <th>age</th>\n",
       "      <th>heartRate</th>\n",
       "      <th>male</th>\n",
       "    </tr>\n",
       "  </thead>\n",
       "  <tbody>\n",
       "    <tr>\n",
       "      <th>est mi beta</th>\n",
       "      <td>20.145276</td>\n",
       "      <td>0.046523</td>\n",
       "      <td>0.019828</td>\n",
       "      <td>1.07661</td>\n",
       "    </tr>\n",
       "  </tbody>\n",
       "</table>\n",
       "</div>"
      ],
      "text/plain": [
       "             intercept       age  heartRate     male\n",
       "est mi beta  20.145276  0.046523   0.019828  1.07661"
      ]
     },
     "execution_count": 24,
     "metadata": {},
     "output_type": "execute_result"
    }
   ],
   "source": [
    "print(\"C\")\n",
    "M = 1000\n",
    "np.random.seed(0)\n",
    "var1 = results1.mse_total \n",
    "beta_list = np.empty((M, 4))\n",
    "beta_list_v = np.empty((M, 4))\n",
    "for i in range(M):\n",
    "    samples.loc[indices_missing,'BMI'] = np.random.normal(prediction1, np.sqrt(var1))\n",
    "    results_iter, beta_list[i] = beta_estimators(samples)\n",
    "    beta_list_v[i] = np.diag(results_iter.cov_params())\n",
    "\n",
    "mi_est_beta = beta_list.mean(axis=0)\n",
    "pd.DataFrame(mi_est_beta.reshape((1,-1)), columns=att, index=[\"est mi beta\"])"
   ]
  },
  {
   "cell_type": "code",
   "execution_count": 25,
   "metadata": {
    "colab": {
     "base_uri": "https://localhost:8080/",
     "height": 97
    },
    "id": "FjbEodx-qzgd",
    "outputId": "24ca087c-dce8-448c-a2f9-a7f0fdd66f2b"
   },
   "outputs": [
    {
     "name": "stdout",
     "output_type": "stream",
     "text": [
      "D\n"
     ]
    },
    {
     "data": {
      "text/html": [
       "<div>\n",
       "<style scoped>\n",
       "    .dataframe tbody tr th:only-of-type {\n",
       "        vertical-align: middle;\n",
       "    }\n",
       "\n",
       "    .dataframe tbody tr th {\n",
       "        vertical-align: top;\n",
       "    }\n",
       "\n",
       "    .dataframe thead th {\n",
       "        text-align: right;\n",
       "    }\n",
       "</style>\n",
       "<table border=\"1\" class=\"dataframe\">\n",
       "  <thead>\n",
       "    <tr style=\"text-align: right;\">\n",
       "      <th></th>\n",
       "      <th>intercept</th>\n",
       "      <th>age</th>\n",
       "      <th>heartRate</th>\n",
       "      <th>male</th>\n",
       "    </tr>\n",
       "  </thead>\n",
       "  <tbody>\n",
       "    <tr>\n",
       "      <th>MI se robins formula Beta estimator</th>\n",
       "      <td>4.540941</td>\n",
       "      <td>0.215853</td>\n",
       "      <td>0.140976</td>\n",
       "      <td>1.048586</td>\n",
       "    </tr>\n",
       "  </tbody>\n",
       "</table>\n",
       "</div>"
      ],
      "text/plain": [
       "                                     intercept       age  heartRate      male\n",
       "MI se robins formula Beta estimator   4.540941  0.215853   0.140976  1.048586"
      ]
     },
     "execution_count": 25,
     "metadata": {},
     "output_type": "execute_result"
    }
   ],
   "source": [
    "print(\"D\")\n",
    "beta_se_MI = beta_list.mean(axis=0) + ((M+1)/(M*(M-1))) * np.sum((beta_list-mi_est_beta)**2, axis=0) \n",
    "beta_se_MI = np.sqrt(beta_se_MI)\n",
    "pd.DataFrame(beta_se_MI.reshape((1,-1)), columns=att, index=[\"MI se robins formula Beta estimator\"])"
   ]
  },
  {
   "cell_type": "code",
   "execution_count": 26,
   "metadata": {
    "colab": {
     "base_uri": "https://localhost:8080/",
     "height": 141
    },
    "id": "LGokowyLqzgf",
    "outputId": "3330c925-a74e-43bb-a1b1-0dc2a2b7b7ab"
   },
   "outputs": [
    {
     "data": {
      "text/html": [
       "<div>\n",
       "<style scoped>\n",
       "    .dataframe tbody tr th:only-of-type {\n",
       "        vertical-align: middle;\n",
       "    }\n",
       "\n",
       "    .dataframe tbody tr th {\n",
       "        vertical-align: top;\n",
       "    }\n",
       "\n",
       "    .dataframe thead th {\n",
       "        text-align: right;\n",
       "    }\n",
       "</style>\n",
       "<table border=\"1\" class=\"dataframe\">\n",
       "  <thead>\n",
       "    <tr style=\"text-align: right;\">\n",
       "      <th></th>\n",
       "      <th>Lower</th>\n",
       "      <th>Upper</th>\n",
       "    </tr>\n",
       "  </thead>\n",
       "  <tbody>\n",
       "    <tr>\n",
       "      <th>Age</th>\n",
       "      <td>-0.376548</td>\n",
       "      <td>0.469594</td>\n",
       "    </tr>\n",
       "    <tr>\n",
       "      <th>HeartRate</th>\n",
       "      <td>-0.256484</td>\n",
       "      <td>0.296140</td>\n",
       "    </tr>\n",
       "    <tr>\n",
       "      <th>Male</th>\n",
       "      <td>-0.978619</td>\n",
       "      <td>3.131839</td>\n",
       "    </tr>\n",
       "  </tbody>\n",
       "</table>\n",
       "</div>"
      ],
      "text/plain": [
       "              Lower     Upper\n",
       "Age       -0.376548  0.469594\n",
       "HeartRate -0.256484  0.296140\n",
       "Male      -0.978619  3.131839"
      ]
     },
     "execution_count": 26,
     "metadata": {},
     "output_type": "execute_result"
    }
   ],
   "source": [
    "mi_confidence= np.empty((4,2))\n",
    "mi_confidence[:,0], mi_confidence[:,1] = mi_est_beta- 1.96*beta_se_MI, mi_est_beta + 1.96*beta_se_MI\n",
    "mi_confidence = pd.DataFrame(mi_confidence[1:])\n",
    "mi_confidence.columns = ['Lower','Upper']\n",
    "mi_confidence.rename(index={0:'Age',1:'HeartRate', 2:'Male'}, inplace=True)\n",
    "mi_confidence\n"
   ]
  },
  {
   "cell_type": "markdown",
   "metadata": {
    "id": "M2QET1toqzgg"
   },
   "source": [
    "MI se CI Beta estimator"
   ]
  },
  {
   "cell_type": "code",
   "execution_count": 27,
   "metadata": {
    "colab": {
     "base_uri": "https://localhost:8080/",
     "height": 430
    },
    "id": "v4ERBvljqzgg",
    "outputId": "661f1b0b-44ec-402b-a89b-732e92883150"
   },
   "outputs": [
    {
     "name": "stdout",
     "output_type": "stream",
     "text": [
      "E\n"
     ]
    },
    {
     "data": {
      "text/html": [
       "<div>\n",
       "<style scoped>\n",
       "    .dataframe tbody tr th:only-of-type {\n",
       "        vertical-align: middle;\n",
       "    }\n",
       "\n",
       "    .dataframe tbody tr th {\n",
       "        vertical-align: top;\n",
       "    }\n",
       "\n",
       "    .dataframe thead th {\n",
       "        text-align: right;\n",
       "    }\n",
       "</style>\n",
       "<table border=\"1\" class=\"dataframe\">\n",
       "  <thead>\n",
       "    <tr style=\"text-align: right;\">\n",
       "      <th></th>\n",
       "      <th>age</th>\n",
       "      <th>heartRate</th>\n",
       "      <th>BMI</th>\n",
       "      <th>male</th>\n",
       "      <th>no_missing</th>\n",
       "      <th>probability_of_r</th>\n",
       "    </tr>\n",
       "  </thead>\n",
       "  <tbody>\n",
       "    <tr>\n",
       "      <th>0</th>\n",
       "      <td>64</td>\n",
       "      <td>75.0</td>\n",
       "      <td>16.59</td>\n",
       "      <td>1</td>\n",
       "      <td>1</td>\n",
       "      <td>0.450350</td>\n",
       "    </tr>\n",
       "    <tr>\n",
       "      <th>1</th>\n",
       "      <td>40</td>\n",
       "      <td>58.0</td>\n",
       "      <td>16.69</td>\n",
       "      <td>0</td>\n",
       "      <td>1</td>\n",
       "      <td>0.592176</td>\n",
       "    </tr>\n",
       "    <tr>\n",
       "      <th>2</th>\n",
       "      <td>35</td>\n",
       "      <td>79.0</td>\n",
       "      <td>16.71</td>\n",
       "      <td>0</td>\n",
       "      <td>1</td>\n",
       "      <td>0.575661</td>\n",
       "    </tr>\n",
       "    <tr>\n",
       "      <th>3</th>\n",
       "      <td>63</td>\n",
       "      <td>65.0</td>\n",
       "      <td>16.92</td>\n",
       "      <td>0</td>\n",
       "      <td>1</td>\n",
       "      <td>0.500013</td>\n",
       "    </tr>\n",
       "    <tr>\n",
       "      <th>4</th>\n",
       "      <td>48</td>\n",
       "      <td>73.0</td>\n",
       "      <td>17.11</td>\n",
       "      <td>0</td>\n",
       "      <td>1</td>\n",
       "      <td>0.539940</td>\n",
       "    </tr>\n",
       "    <tr>\n",
       "      <th>...</th>\n",
       "      <td>...</td>\n",
       "      <td>...</td>\n",
       "      <td>...</td>\n",
       "      <td>...</td>\n",
       "      <td>...</td>\n",
       "      <td>...</td>\n",
       "    </tr>\n",
       "    <tr>\n",
       "      <th>995</th>\n",
       "      <td>63</td>\n",
       "      <td>78.0</td>\n",
       "      <td>NaN</td>\n",
       "      <td>0</td>\n",
       "      <td>0</td>\n",
       "      <td>0.478518</td>\n",
       "    </tr>\n",
       "    <tr>\n",
       "      <th>996</th>\n",
       "      <td>37</td>\n",
       "      <td>80.0</td>\n",
       "      <td>NaN</td>\n",
       "      <td>0</td>\n",
       "      <td>0</td>\n",
       "      <td>0.567086</td>\n",
       "    </tr>\n",
       "    <tr>\n",
       "      <th>997</th>\n",
       "      <td>62</td>\n",
       "      <td>62.0</td>\n",
       "      <td>42.00</td>\n",
       "      <td>0</td>\n",
       "      <td>1</td>\n",
       "      <td>0.508526</td>\n",
       "    </tr>\n",
       "    <tr>\n",
       "      <th>998</th>\n",
       "      <td>37</td>\n",
       "      <td>68.0</td>\n",
       "      <td>NaN</td>\n",
       "      <td>0</td>\n",
       "      <td>0</td>\n",
       "      <td>0.586469</td>\n",
       "    </tr>\n",
       "    <tr>\n",
       "      <th>999</th>\n",
       "      <td>55</td>\n",
       "      <td>90.0</td>\n",
       "      <td>NaN</td>\n",
       "      <td>0</td>\n",
       "      <td>0</td>\n",
       "      <td>0.487052</td>\n",
       "    </tr>\n",
       "  </tbody>\n",
       "</table>\n",
       "<p>1000 rows × 6 columns</p>\n",
       "</div>"
      ],
      "text/plain": [
       "     age  heartRate    BMI  male  no_missing  probability_of_r\n",
       "0     64       75.0  16.59     1           1          0.450350\n",
       "1     40       58.0  16.69     0           1          0.592176\n",
       "2     35       79.0  16.71     0           1          0.575661\n",
       "3     63       65.0  16.92     0           1          0.500013\n",
       "4     48       73.0  17.11     0           1          0.539940\n",
       "..   ...        ...    ...   ...         ...               ...\n",
       "995   63       78.0    NaN     0           0          0.478518\n",
       "996   37       80.0    NaN     0           0          0.567086\n",
       "997   62       62.0  42.00     0           1          0.508526\n",
       "998   37       68.0    NaN     0           0          0.586469\n",
       "999   55       90.0    NaN     0           0          0.487052\n",
       "\n",
       "[1000 rows x 6 columns]"
      ]
     },
     "execution_count": 27,
     "metadata": {},
     "output_type": "execute_result"
    }
   ],
   "source": [
    "print(\"E\")\n",
    "samples['no_missing'] = 1\n",
    "samples.loc[indices_missing,'no_missing'] = 0\n",
    "samples.loc[indices_missing,'BMI'] = None\n",
    "Y = samples[\"no_missing\"].to_numpy(dtype='float64').reshape((-1,1))\n",
    "X = samples[[\"age\", 'male', 'heartRate']]\n",
    "X['intercept']=1\n",
    "X= X[att]\n",
    "X = X.to_numpy(dtype='float64')\n",
    "res_log = Logit(Y, X).fit(disp=False)\n",
    "samples['probability_of_r'] = res_log.predict(X)\n",
    "samples"
   ]
  },
  {
   "cell_type": "code",
   "execution_count": 28,
   "metadata": {
    "colab": {
     "base_uri": "https://localhost:8080/",
     "height": 412
    },
    "id": "OI5lhGNGqzgh",
    "outputId": "e66de971-3ad6-41bb-f06b-8a2638385b0f"
   },
   "outputs": [
    {
     "data": {
      "text/html": [
       "<div>\n",
       "<style scoped>\n",
       "    .dataframe tbody tr th:only-of-type {\n",
       "        vertical-align: middle;\n",
       "    }\n",
       "\n",
       "    .dataframe tbody tr th {\n",
       "        vertical-align: top;\n",
       "    }\n",
       "\n",
       "    .dataframe thead th {\n",
       "        text-align: right;\n",
       "    }\n",
       "</style>\n",
       "<table border=\"1\" class=\"dataframe\">\n",
       "  <thead>\n",
       "    <tr style=\"text-align: right;\">\n",
       "      <th></th>\n",
       "      <th>age</th>\n",
       "      <th>heartRate</th>\n",
       "      <th>BMI</th>\n",
       "      <th>male</th>\n",
       "      <th>no_missing</th>\n",
       "      <th>probability_of_r</th>\n",
       "    </tr>\n",
       "  </thead>\n",
       "  <tbody>\n",
       "    <tr>\n",
       "      <th>0</th>\n",
       "      <td>95.368491</td>\n",
       "      <td>111.759950</td>\n",
       "      <td>24.721301</td>\n",
       "      <td>1.490133</td>\n",
       "      <td>1</td>\n",
       "      <td>0.450350</td>\n",
       "    </tr>\n",
       "    <tr>\n",
       "      <th>1</th>\n",
       "      <td>51.979784</td>\n",
       "      <td>75.370687</td>\n",
       "      <td>21.688565</td>\n",
       "      <td>0.000000</td>\n",
       "      <td>1</td>\n",
       "      <td>0.592176</td>\n",
       "    </tr>\n",
       "    <tr>\n",
       "      <th>2</th>\n",
       "      <td>46.130107</td>\n",
       "      <td>104.122241</td>\n",
       "      <td>22.023831</td>\n",
       "      <td>0.000000</td>\n",
       "      <td>1</td>\n",
       "      <td>0.575661</td>\n",
       "    </tr>\n",
       "    <tr>\n",
       "      <th>3</th>\n",
       "      <td>89.094288</td>\n",
       "      <td>91.922678</td>\n",
       "      <td>23.928180</td>\n",
       "      <td>0.000000</td>\n",
       "      <td>1</td>\n",
       "      <td>0.500013</td>\n",
       "    </tr>\n",
       "    <tr>\n",
       "      <th>4</th>\n",
       "      <td>65.323344</td>\n",
       "      <td>99.345920</td>\n",
       "      <td>23.285050</td>\n",
       "      <td>0.000000</td>\n",
       "      <td>1</td>\n",
       "      <td>0.539940</td>\n",
       "    </tr>\n",
       "    <tr>\n",
       "      <th>...</th>\n",
       "      <td>...</td>\n",
       "      <td>...</td>\n",
       "      <td>...</td>\n",
       "      <td>...</td>\n",
       "      <td>...</td>\n",
       "      <td>...</td>\n",
       "    </tr>\n",
       "    <tr>\n",
       "      <th>512</th>\n",
       "      <td>67.413089</td>\n",
       "      <td>105.332952</td>\n",
       "      <td>49.323910</td>\n",
       "      <td>1.404439</td>\n",
       "      <td>1</td>\n",
       "      <td>0.506984</td>\n",
       "    </tr>\n",
       "    <tr>\n",
       "      <th>513</th>\n",
       "      <td>101.973460</td>\n",
       "      <td>121.759355</td>\n",
       "      <td>54.852590</td>\n",
       "      <td>1.521992</td>\n",
       "      <td>1</td>\n",
       "      <td>0.431693</td>\n",
       "    </tr>\n",
       "    <tr>\n",
       "      <th>514</th>\n",
       "      <td>64.894810</td>\n",
       "      <td>141.075674</td>\n",
       "      <td>51.929956</td>\n",
       "      <td>0.000000</td>\n",
       "      <td>1</td>\n",
       "      <td>0.502453</td>\n",
       "    </tr>\n",
       "    <tr>\n",
       "      <th>515</th>\n",
       "      <td>96.603261</td>\n",
       "      <td>123.772928</td>\n",
       "      <td>56.422342</td>\n",
       "      <td>1.509426</td>\n",
       "      <td>1</td>\n",
       "      <td>0.438911</td>\n",
       "    </tr>\n",
       "    <tr>\n",
       "      <th>516</th>\n",
       "      <td>86.943122</td>\n",
       "      <td>86.943122</td>\n",
       "      <td>58.896953</td>\n",
       "      <td>0.000000</td>\n",
       "      <td>1</td>\n",
       "      <td>0.508526</td>\n",
       "    </tr>\n",
       "  </tbody>\n",
       "</table>\n",
       "<p>517 rows × 6 columns</p>\n",
       "</div>"
      ],
      "text/plain": [
       "            age   heartRate        BMI      male  no_missing  probability_of_r\n",
       "0     95.368491  111.759950  24.721301  1.490133           1          0.450350\n",
       "1     51.979784   75.370687  21.688565  0.000000           1          0.592176\n",
       "2     46.130107  104.122241  22.023831  0.000000           1          0.575661\n",
       "3     89.094288   91.922678  23.928180  0.000000           1          0.500013\n",
       "4     65.323344   99.345920  23.285050  0.000000           1          0.539940\n",
       "..          ...         ...        ...       ...         ...               ...\n",
       "512   67.413089  105.332952  49.323910  1.404439           1          0.506984\n",
       "513  101.973460  121.759355  54.852590  1.521992           1          0.431693\n",
       "514   64.894810  141.075674  51.929956  0.000000           1          0.502453\n",
       "515   96.603261  123.772928  56.422342  1.509426           1          0.438911\n",
       "516   86.943122   86.943122  58.896953  0.000000           1          0.508526\n",
       "\n",
       "[517 rows x 6 columns]"
      ]
     },
     "execution_count": 28,
     "metadata": {},
     "output_type": "execute_result"
    }
   ],
   "source": [
    "no_miss = samples[samples['BMI'].notnull()] \n",
    "no_miss.reset_index(inplace=True, drop=True)\n",
    "for column in ['heartRate','age', 'BMI','male']:\n",
    "    no_miss[column] = no_miss[column]/np.sqrt(no_miss['probability_of_r'])\n",
    "no_miss"
   ]
  },
  {
   "cell_type": "code",
   "execution_count": 29,
   "metadata": {
    "colab": {
     "base_uri": "https://localhost:8080/",
     "height": 79
    },
    "id": "0pc06yJcqzgh",
    "outputId": "2ba80fbc-8de5-424c-e22a-c89046a8d8e7"
   },
   "outputs": [
    {
     "data": {
      "text/html": [
       "<div>\n",
       "<style scoped>\n",
       "    .dataframe tbody tr th:only-of-type {\n",
       "        vertical-align: middle;\n",
       "    }\n",
       "\n",
       "    .dataframe tbody tr th {\n",
       "        vertical-align: top;\n",
       "    }\n",
       "\n",
       "    .dataframe thead th {\n",
       "        text-align: right;\n",
       "    }\n",
       "</style>\n",
       "<table border=\"1\" class=\"dataframe\">\n",
       "  <thead>\n",
       "    <tr style=\"text-align: right;\">\n",
       "      <th></th>\n",
       "      <th>intercept</th>\n",
       "      <th>age</th>\n",
       "      <th>heartRate</th>\n",
       "      <th>male</th>\n",
       "    </tr>\n",
       "  </thead>\n",
       "  <tbody>\n",
       "    <tr>\n",
       "      <th>IPW Beta Estimator</th>\n",
       "      <td>21.604922</td>\n",
       "      <td>0.098494</td>\n",
       "      <td>0.044299</td>\n",
       "      <td>1.508432</td>\n",
       "    </tr>\n",
       "  </tbody>\n",
       "</table>\n",
       "</div>"
      ],
      "text/plain": [
       "                    intercept       age  heartRate      male\n",
       "IPW Beta Estimator  21.604922  0.098494   0.044299  1.508432"
      ]
     },
     "execution_count": 29,
     "metadata": {},
     "output_type": "execute_result"
    }
   ],
   "source": [
    "f_res, f_est = beta_estimators(no_miss)\n",
    "f_est.index=(['IPW Beta Estimator'])\n",
    "f_est"
   ]
  },
  {
   "cell_type": "code",
   "execution_count": 30,
   "metadata": {
    "colab": {
     "base_uri": "https://localhost:8080/",
     "height": 141
    },
    "id": "tLT-XCN9qzgi",
    "outputId": "4b253915-b055-4295-f572-4757409b0b17"
   },
   "outputs": [
    {
     "data": {
      "text/html": [
       "<div>\n",
       "<style scoped>\n",
       "    .dataframe tbody tr th:only-of-type {\n",
       "        vertical-align: middle;\n",
       "    }\n",
       "\n",
       "    .dataframe tbody tr th {\n",
       "        vertical-align: top;\n",
       "    }\n",
       "\n",
       "    .dataframe thead th {\n",
       "        text-align: right;\n",
       "    }\n",
       "</style>\n",
       "<table border=\"1\" class=\"dataframe\">\n",
       "  <thead>\n",
       "    <tr style=\"text-align: right;\">\n",
       "      <th></th>\n",
       "      <th>Lower</th>\n",
       "      <th>Upper</th>\n",
       "    </tr>\n",
       "  </thead>\n",
       "  <tbody>\n",
       "    <tr>\n",
       "      <th>Age</th>\n",
       "      <td>0.027998</td>\n",
       "      <td>0.158678</td>\n",
       "    </tr>\n",
       "    <tr>\n",
       "      <th>HeartRate</th>\n",
       "      <td>-0.007236</td>\n",
       "      <td>0.083708</td>\n",
       "    </tr>\n",
       "    <tr>\n",
       "      <th>Male</th>\n",
       "      <td>0.206335</td>\n",
       "      <td>2.608050</td>\n",
       "    </tr>\n",
       "  </tbody>\n",
       "</table>\n",
       "</div>"
      ],
      "text/plain": [
       "              Lower     Upper\n",
       "Age        0.027998  0.158678\n",
       "HeartRate -0.007236  0.083708\n",
       "Male       0.206335  2.608050"
      ]
     },
     "execution_count": 30,
     "metadata": {},
     "output_type": "execute_result"
    }
   ],
   "source": [
    "b_bootstrap = np.zeros((400,4))\n",
    "for b in range(400):\n",
    "    samp_curr = samples.sample(n=1000, replace=True ,random_state=b)\n",
    "    Y = samp_curr[\"no_missing\"].to_numpy(dtype='float64').reshape((-1,1))\n",
    "    X = samp_curr[[\"age\", 'male', 'heartRate']]\n",
    "    X['intercept']=1\n",
    "    X= X[att]\n",
    "    X = X.to_numpy(dtype='float64')\n",
    "    res_log = Logit(Y, X).fit(disp=False)\n",
    "    samp_curr['probability_r'] = res_log.predict(X)\n",
    "    samp_curr_no_miss = samp_curr[samp_curr['BMI'].notnull()] \n",
    "    for column in ['heartRate','age', 'BMI','male']:\n",
    "        samp_curr_no_miss[column] = samp_curr_no_miss[column]/np.sqrt(samp_curr_no_miss['probability_r'])\n",
    "    _, b_bootstrap[b] = beta_estimators(samp_curr_no_miss)\n",
    "    ci_ = np.empty((3,2))    \n",
    "for index in range(3):  \n",
    "    sorted_val = np.sort(b_bootstrap[:,index+1],axis=0)\n",
    "    ci_[index] = sorted_val[9], sorted_val[389]\n",
    "ci_ = pd.DataFrame(ci_)\n",
    "ci_.columns = ['Lower','Upper']\n",
    "ci_.rename(index={0:'Age',1:'HeartRate', 2:'Male'}, inplace=True)\n",
    "ci_"
   ]
  },
  {
   "cell_type": "code",
   "execution_count": 31,
   "metadata": {
    "colab": {
     "base_uri": "https://localhost:8080/",
     "height": 219
    },
    "id": "vm9mb9jOqzgi",
    "outputId": "a0164749-0ccf-4315-eb06-7fe446796472"
   },
   "outputs": [
    {
     "name": "stdout",
     "output_type": "stream",
     "text": [
      "H\n"
     ]
    },
    {
     "data": {
      "text/html": [
       "<div>\n",
       "<style scoped>\n",
       "    .dataframe tbody tr th:only-of-type {\n",
       "        vertical-align: middle;\n",
       "    }\n",
       "\n",
       "    .dataframe tbody tr th {\n",
       "        vertical-align: top;\n",
       "    }\n",
       "\n",
       "    .dataframe thead th {\n",
       "        text-align: right;\n",
       "    }\n",
       "</style>\n",
       "<table border=\"1\" class=\"dataframe\">\n",
       "  <thead>\n",
       "    <tr style=\"text-align: right;\">\n",
       "      <th></th>\n",
       "      <th>intercept</th>\n",
       "      <th>age</th>\n",
       "      <th>heartRate</th>\n",
       "      <th>male</th>\n",
       "    </tr>\n",
       "  </thead>\n",
       "  <tbody>\n",
       "    <tr>\n",
       "      <th>Q2 Beta Estimator</th>\n",
       "      <td>21.163</td>\n",
       "      <td>0.058</td>\n",
       "      <td>0.018</td>\n",
       "      <td>0.535</td>\n",
       "    </tr>\n",
       "    <tr>\n",
       "      <th>based Estimators complete</th>\n",
       "      <td>20.161</td>\n",
       "      <td>0.046</td>\n",
       "      <td>0.020</td>\n",
       "      <td>1.088</td>\n",
       "    </tr>\n",
       "    <tr>\n",
       "      <th>based Estimators reg imp</th>\n",
       "      <td>20.161</td>\n",
       "      <td>0.046</td>\n",
       "      <td>0.020</td>\n",
       "      <td>1.088</td>\n",
       "    </tr>\n",
       "    <tr>\n",
       "      <th>est mi beat</th>\n",
       "      <td>20.145</td>\n",
       "      <td>0.047</td>\n",
       "      <td>0.020</td>\n",
       "      <td>1.077</td>\n",
       "    </tr>\n",
       "    <tr>\n",
       "      <th>IPW Beta Estimator</th>\n",
       "      <td>21.605</td>\n",
       "      <td>0.098</td>\n",
       "      <td>0.044</td>\n",
       "      <td>1.508</td>\n",
       "    </tr>\n",
       "  </tbody>\n",
       "</table>\n",
       "</div>"
      ],
      "text/plain": [
       "                           intercept    age  heartRate   male\n",
       "Q2 Beta Estimator             21.163  0.058      0.018  0.535\n",
       "based Estimators complete     20.161  0.046      0.020  1.088\n",
       "based Estimators reg imp      20.161  0.046      0.020  1.088\n",
       "est mi beat                   20.145  0.047      0.020  1.077\n",
       "IPW Beta Estimator            21.605  0.098      0.044  1.508"
      ]
     },
     "execution_count": 31,
     "metadata": {},
     "output_type": "execute_result"
    }
   ],
   "source": [
    "print(\"H\")\n",
    "beta_est_MI = pd.DataFrame(mi_est_beta.reshape((1,-1)),columns=att, index=[\"est mi beat\"])\n",
    "estimators = pd.concat([\n",
    "    estimators0,\n",
    "    estimation_both,\n",
    "    beta_est_MI,\n",
    "    f_est])\n",
    "estimators.round(3)"
   ]
  },
  {
   "cell_type": "code",
   "execution_count": 32,
   "metadata": {
    "colab": {
     "base_uri": "https://localhost:8080/",
     "height": 1000
    },
    "id": "pp_8ZsRWqzgj",
    "outputId": "f1c0a30a-ae9e-4962-91cc-49055121e210"
   },
   "outputs": [
    {
     "data": {
      "image/png": "[encoded data removed]",
      "text/plain": [
       "<Figure size 1296x1296 with 4 Axes>"
      ]
     },
     "metadata": {
      "needs_background": "light"
     },
     "output_type": "display_data"
    }
   ],
   "source": [
    "fig, ax = plt.subplots(4,1, figsize=(18,18))\n",
    "for idx, col in enumerate(att):\n",
    "    for elem, color in zip(estimators[col],['orange','y','pink','g','black']):\n",
    "        if color == 'y':\n",
    "            ax[idx].scatter(elem,[1.1],c=color)\n",
    "        elif color == 'pink':\n",
    "            ax[idx].scatter(elem,[1.05],c=color)\n",
    "        elif color == 'g':\n",
    "            ax[idx].scatter(elem,[0.95],c=color)\n",
    "        else:\n",
    "            ax[idx].scatter(elem,[1],c=color)\n",
    "    ax[idx].set_title(' est' + col)\n",
    "    ax[idx].set_xlabel('val of est')\n",
    "    ax[idx].legend(labels=(estimators.index))\n",
    "    ax[idx].set_yticks([])\n",
    "fig.tight_layout(pad=3.0)"
   ]
  },
  {
   "cell_type": "markdown",
   "metadata": {
    "id": "7rVsnJ9ZuPSp"
   },
   "source": [
    "as we can see from the graphs, the multi imp est, reg imp and complete data are very similar. the reg imp and complete data are most similar and a reason for this might be as the filling of missing data is by reg line. (the mi has the same explaination).\n",
    "we can also see that the ipw est is less similar maybe because the deffer calc - larger training weight so the est is more noisy to outliers.\n",
    "\n"
   ]
  },
  {
   "cell_type": "code",
   "execution_count": 33,
   "metadata": {
    "id": "4K5yUEIWqzgk"
   },
   "outputs": [],
   "source": [
    "full_df = sample_all[[\"heartRate\",\"age\", \"BMI\", \"male\"]]\n",
    "_, est_df = beta_estimators(full_df)\n",
    "est_df.index = (['beta est of full data'])\n",
    "est_df.columns = (['intercept','Age','HeartRate','Male'])\n",
    "estimators_ci = pd.concat([conf_int0,conf1_int,conf2_int,mi_confidence,ci_])"
   ]
  },
  {
   "cell_type": "code",
   "execution_count": 34,
   "metadata": {
    "colab": {
     "base_uri": "https://localhost:8080/",
     "height": 1000
    },
    "id": "0uHxD0-Lqzgk",
    "outputId": "1145dc5b-ce4d-4b10-89d0-c570fca0df75",
    "scrolled": false
   },
   "outputs": [
    {
     "data": {
      "image/png": "[encoded data removed]",
      "text/plain": [
       "<Figure size 1296x1296 with 3 Axes>"
      ]
     },
     "metadata": {
      "needs_background": "light"
     },
     "output_type": "display_data"
    }
   ],
   "source": [
    "fig, axs = plt.subplots(3,1,figsize = (18,18))\n",
    "indices=['Age','HeartRate', 'Male']\n",
    "[col]\n",
    "for inx,index in enumerate(indices):\n",
    "    axs[inx].plot([est_df[index],est_df[index]],[0.9,1.9], color='purple', label='full Beta')\n",
    "    axs[inx].plot([conf_int0.loc[index,'Lower'], conf_int0.loc[index,'Upper']], [1.8,1.8], label=estimators.index[0]+' CI')\n",
    "    axs[inx].plot([conf1_int.loc[index,'Lower'], conf1_int.loc[index,'Upper']], [1.6,1.6],  label=estimators.index[1]+' CI')\n",
    "    axs[inx].plot([conf2_int.loc[index,'Lower'], conf2_int.loc[index,'Upper']], [1.4,1.4], label=estimators.index[2]+' CI')\n",
    "    axs[inx].plot([mi_confidence.loc[index,'Lower'], mi_confidence.loc[index,'Upper']], [1.2,1.2], label=estimators.index[3]+' CI')\n",
    "    axs[inx].plot([ci_.loc[index,'Lower'], ci_.loc[index,'Upper']], [1,1], label=estimators.index[4]+' CI')\n",
    "    axs[inx].set_xlabel(\"CI Value\")\n",
    "    axs[inx].set_yticks([])\n",
    "    axs[inx].set_title(index + \" CI\")\n",
    "    axs[inx].legend()\n",
    "fig.tight_layout()"
   ]
  },
  {
   "cell_type": "code",
   "execution_count": 35,
   "metadata": {
    "colab": {
     "base_uri": "https://localhost:8080/"
    },
    "id": "xPEc5xxIqzgk",
    "outputId": "3b37cd54-8ac6-4270-f6a2-82ffa27a0a6d",
    "scrolled": false
   },
   "outputs": [
    {
     "name": "stdout",
     "output_type": "stream",
     "text": [
      "beta est ci len is Age:\n",
      "Q2 Beta Estimator: 0.056\n",
      "based Estimators complete: 0.067\n",
      "based Estimators reg imp: 0.035\n",
      "est mi beat: 0.846\n",
      "IPW Beta Estimator: 0.131\n",
      "\n",
      "beta est ci len is HeartRate:\n",
      "Q2 Beta Estimator: 0.041\n",
      "based Estimators complete: 0.052\n",
      "based Estimators reg imp: 0.025\n",
      "est mi beat: 0.553\n",
      "IPW Beta Estimator: 0.091\n",
      "\n",
      "beta est ci len is Male:\n",
      "Q2 Beta Estimator: 0.96\n",
      "based Estimators complete: 1.169\n",
      "based Estimators reg imp: 0.6\n",
      "est mi beat: 4.11\n",
      "IPW Beta Estimator: 2.402\n",
      "\n"
     ]
    }
   ],
   "source": [
    "for index in indices:\n",
    "    print(f'beta est ci len is {index}:')\n",
    "    print(f\"{estimators.index[0]}: {round(-conf_int0.loc[index,'Lower']+ conf_int0.loc[index,'Upper'],3)}\")\n",
    "    print(f\"{estimators.index[1]}: {round(-conf1_int.loc[index,'Lower']+ conf1_int.loc[index,'Upper'],3)}\")\n",
    "    print(f\"{estimators.index[2]}: {round(-conf2_int.loc[index,'Lower']+ conf2_int.loc[index,'Upper'],3)}\")\n",
    "    print(f\"{estimators.index[3]}: {round(-mi_confidence.loc[index,'Lower']+ mi_confidence.loc[index,'Upper'],3)}\")\n",
    "    print(f\"{estimators.index[4]}: {round(-ci_.loc[index,'Lower']+ ci_.loc[index,'Upper'],3)}\\n\")"
   ]
  },
  {
   "cell_type": "markdown",
   "metadata": {
    "id": "gHBFz5fgqzgl"
   },
   "source": [
    "we can see from the graphs the ci's differences of heart rate, male and age\n",
    "the reg imp gave shorter ci as exepted\n",
    "the ci's param contained at age and heart rate and for male but containd the reg imp only for heart rate\n",
    "the ipw ci's wider in age and heart rate as exepted as well because of the ipw noiser est"
   ]
  }
 ],
 "metadata": {
  "colab": {
   "collapsed_sections": [],
   "name": "Task5-2.ipynb",
   "provenance": []
  },
  "kernelspec": {
   "display_name": "Python 3",
   "language": "python",
   "name": "python3"
  },
  "language_info": {
   "codemirror_mode": {
    "name": "ipython",
    "version": 3
   },
   "file_extension": ".py",
   "mimetype": "text/x-python",
   "name": "python",
   "nbconvert_exporter": "python",
   "pygments_lexer": "ipython3",
   "version": "3.8.5"
  }
 },
 "nbformat": 4,
 "nbformat_minor": 1
}
