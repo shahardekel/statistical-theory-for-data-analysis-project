{
 "cells": [
  {
   "cell_type": "code",
   "execution_count": 39,
   "metadata": {
    "_cell_guid": "b1076dfc-b9ad-4769-8c92-a6c4dae69d19",
    "_uuid": "8f2839f25d086af736a60e9eeb907d3b93b6e0e5",
    "colab": {
     "base_uri": "https://localhost:8080/",
     "height": 439
    },
    "id": "wGx4z01cza4L",
    "outputId": "81f30122-1850-4e38-ac2b-81cbad811a63"
   },
   "outputs": [
    {
     "data": {
      "text/html": [
       "<div>\n",
       "<style scoped>\n",
       "    .dataframe tbody tr th:only-of-type {\n",
       "        vertical-align: middle;\n",
       "    }\n",
       "\n",
       "    .dataframe tbody tr th {\n",
       "        vertical-align: top;\n",
       "    }\n",
       "\n",
       "    .dataframe thead th {\n",
       "        text-align: right;\n",
       "    }\n",
       "</style>\n",
       "<table border=\"1\" class=\"dataframe\">\n",
       "  <thead>\n",
       "    <tr style=\"text-align: right;\">\n",
       "      <th></th>\n",
       "      <th>male</th>\n",
       "      <th>age</th>\n",
       "      <th>education</th>\n",
       "      <th>currentSmoker</th>\n",
       "      <th>cigsPerDay</th>\n",
       "      <th>BPMeds</th>\n",
       "      <th>diabetes</th>\n",
       "      <th>BMI</th>\n",
       "      <th>heartRate</th>\n",
       "      <th>glucose</th>\n",
       "    </tr>\n",
       "  </thead>\n",
       "  <tbody>\n",
       "    <tr>\n",
       "      <th>0</th>\n",
       "      <td>1</td>\n",
       "      <td>39</td>\n",
       "      <td>4.0</td>\n",
       "      <td>0</td>\n",
       "      <td>0.0</td>\n",
       "      <td>0.0</td>\n",
       "      <td>0</td>\n",
       "      <td>26.97</td>\n",
       "      <td>80.0</td>\n",
       "      <td>77.0</td>\n",
       "    </tr>\n",
       "    <tr>\n",
       "      <th>1</th>\n",
       "      <td>0</td>\n",
       "      <td>46</td>\n",
       "      <td>2.0</td>\n",
       "      <td>0</td>\n",
       "      <td>0.0</td>\n",
       "      <td>0.0</td>\n",
       "      <td>0</td>\n",
       "      <td>28.73</td>\n",
       "      <td>95.0</td>\n",
       "      <td>76.0</td>\n",
       "    </tr>\n",
       "    <tr>\n",
       "      <th>2</th>\n",
       "      <td>1</td>\n",
       "      <td>48</td>\n",
       "      <td>1.0</td>\n",
       "      <td>1</td>\n",
       "      <td>20.0</td>\n",
       "      <td>0.0</td>\n",
       "      <td>0</td>\n",
       "      <td>25.34</td>\n",
       "      <td>75.0</td>\n",
       "      <td>70.0</td>\n",
       "    </tr>\n",
       "    <tr>\n",
       "      <th>3</th>\n",
       "      <td>0</td>\n",
       "      <td>61</td>\n",
       "      <td>3.0</td>\n",
       "      <td>1</td>\n",
       "      <td>30.0</td>\n",
       "      <td>0.0</td>\n",
       "      <td>0</td>\n",
       "      <td>28.58</td>\n",
       "      <td>65.0</td>\n",
       "      <td>103.0</td>\n",
       "    </tr>\n",
       "    <tr>\n",
       "      <th>4</th>\n",
       "      <td>0</td>\n",
       "      <td>46</td>\n",
       "      <td>3.0</td>\n",
       "      <td>1</td>\n",
       "      <td>23.0</td>\n",
       "      <td>0.0</td>\n",
       "      <td>0</td>\n",
       "      <td>23.10</td>\n",
       "      <td>85.0</td>\n",
       "      <td>85.0</td>\n",
       "    </tr>\n",
       "    <tr>\n",
       "      <th>...</th>\n",
       "      <td>...</td>\n",
       "      <td>...</td>\n",
       "      <td>...</td>\n",
       "      <td>...</td>\n",
       "      <td>...</td>\n",
       "      <td>...</td>\n",
       "      <td>...</td>\n",
       "      <td>...</td>\n",
       "      <td>...</td>\n",
       "      <td>...</td>\n",
       "    </tr>\n",
       "    <tr>\n",
       "      <th>4233</th>\n",
       "      <td>1</td>\n",
       "      <td>50</td>\n",
       "      <td>1.0</td>\n",
       "      <td>1</td>\n",
       "      <td>1.0</td>\n",
       "      <td>0.0</td>\n",
       "      <td>0</td>\n",
       "      <td>25.97</td>\n",
       "      <td>66.0</td>\n",
       "      <td>86.0</td>\n",
       "    </tr>\n",
       "    <tr>\n",
       "      <th>4234</th>\n",
       "      <td>1</td>\n",
       "      <td>51</td>\n",
       "      <td>3.0</td>\n",
       "      <td>1</td>\n",
       "      <td>43.0</td>\n",
       "      <td>0.0</td>\n",
       "      <td>0</td>\n",
       "      <td>19.71</td>\n",
       "      <td>65.0</td>\n",
       "      <td>68.0</td>\n",
       "    </tr>\n",
       "    <tr>\n",
       "      <th>4235</th>\n",
       "      <td>0</td>\n",
       "      <td>48</td>\n",
       "      <td>2.0</td>\n",
       "      <td>1</td>\n",
       "      <td>20.0</td>\n",
       "      <td>NaN</td>\n",
       "      <td>0</td>\n",
       "      <td>22.00</td>\n",
       "      <td>84.0</td>\n",
       "      <td>86.0</td>\n",
       "    </tr>\n",
       "    <tr>\n",
       "      <th>4236</th>\n",
       "      <td>0</td>\n",
       "      <td>44</td>\n",
       "      <td>1.0</td>\n",
       "      <td>1</td>\n",
       "      <td>15.0</td>\n",
       "      <td>0.0</td>\n",
       "      <td>0</td>\n",
       "      <td>19.16</td>\n",
       "      <td>86.0</td>\n",
       "      <td>NaN</td>\n",
       "    </tr>\n",
       "    <tr>\n",
       "      <th>4237</th>\n",
       "      <td>0</td>\n",
       "      <td>52</td>\n",
       "      <td>2.0</td>\n",
       "      <td>0</td>\n",
       "      <td>0.0</td>\n",
       "      <td>0.0</td>\n",
       "      <td>0</td>\n",
       "      <td>21.47</td>\n",
       "      <td>80.0</td>\n",
       "      <td>107.0</td>\n",
       "    </tr>\n",
       "  </tbody>\n",
       "</table>\n",
       "<p>4238 rows × 10 columns</p>\n",
       "</div>"
      ],
      "text/plain": [
       "      male  age  education  currentSmoker  cigsPerDay  BPMeds  diabetes  \\\n",
       "0        1   39        4.0              0         0.0     0.0         0   \n",
       "1        0   46        2.0              0         0.0     0.0         0   \n",
       "2        1   48        1.0              1        20.0     0.0         0   \n",
       "3        0   61        3.0              1        30.0     0.0         0   \n",
       "4        0   46        3.0              1        23.0     0.0         0   \n",
       "...    ...  ...        ...            ...         ...     ...       ...   \n",
       "4233     1   50        1.0              1         1.0     0.0         0   \n",
       "4234     1   51        3.0              1        43.0     0.0         0   \n",
       "4235     0   48        2.0              1        20.0     NaN         0   \n",
       "4236     0   44        1.0              1        15.0     0.0         0   \n",
       "4237     0   52        2.0              0         0.0     0.0         0   \n",
       "\n",
       "        BMI  heartRate  glucose  \n",
       "0     26.97       80.0     77.0  \n",
       "1     28.73       95.0     76.0  \n",
       "2     25.34       75.0     70.0  \n",
       "3     28.58       65.0    103.0  \n",
       "4     23.10       85.0     85.0  \n",
       "...     ...        ...      ...  \n",
       "4233  25.97       66.0     86.0  \n",
       "4234  19.71       65.0     68.0  \n",
       "4235  22.00       84.0     86.0  \n",
       "4236  19.16       86.0      NaN  \n",
       "4237  21.47       80.0    107.0  \n",
       "\n",
       "[4238 rows x 10 columns]"
      ]
     },
     "execution_count": 39,
     "metadata": {},
     "output_type": "execute_result"
    }
   ],
   "source": [
    "# Imports\n",
    "import numpy as np\n",
    "import pandas as pd\n",
    "import os\n",
    "import datetime\n",
    "import seaborn as sns\n",
    "import matplotlib.pyplot as plt \n",
    "from statsmodels.regression.linear_model import OLS, RegressionResults\n",
    "from math import sqrt\n",
    "from statsmodels.discrete.discrete_model import Logit\n",
    "import warnings\n",
    "warnings.filterwarnings('ignore')\n",
    "\n",
    "#data proccessing\n",
    "df = pd.read_csv('framingham_heart_disease.csv', index_col = 0)\n",
    "\n",
    "dataset='framingham_heart_disease.csv'\n",
    "df=pd.read_csv(dataset, sep=',')\n",
    "df.columns.values\n",
    "# removing unwanted columns\n",
    "df.drop(['prevalentStroke', 'prevalentHyp','totChol','sysBP','diaBP','TenYearCHD'], axis='columns', inplace=True)\n",
    "df\n",
    "\n"
   ]
  },
  {
   "cell_type": "markdown",
   "metadata": {
    "id": "WT5P74fdza4Q"
   },
   "source": [
    "# Part 1\n",
    "\n",
    "The selected explanatory parameters:\n",
    "\n",
    "* Sex - Categorical (Male / Female)\n",
    "\n",
    "* Glucose - Numeric\n",
    "\n",
    "* Age - Numeric\n",
    "\n",
    "The selected explained parameter:\n",
    "\n",
    "* BMI - Numeric\n",
    "\n",
    "\n",
    "## Q1.\n",
    "\n",
    "Test question:\n",
    "\n",
    "**Does the GLUCOSE, age and sex of the people influence their BMI?\n",
    "**\n",
    "\n",
    "## Q2."
   ]
  },
  {
   "cell_type": "code",
   "execution_count": 40,
   "metadata": {
    "colab": {
     "base_uri": "https://localhost:8080/",
     "height": 419
    },
    "id": "3MiqfW9Hza4S",
    "outputId": "4ea695a7-e41d-405e-bb7b-965abadc1547"
   },
   "outputs": [
    {
     "data": {
      "text/html": [
       "<div>\n",
       "<style scoped>\n",
       "    .dataframe tbody tr th:only-of-type {\n",
       "        vertical-align: middle;\n",
       "    }\n",
       "\n",
       "    .dataframe tbody tr th {\n",
       "        vertical-align: top;\n",
       "    }\n",
       "\n",
       "    .dataframe thead th {\n",
       "        text-align: right;\n",
       "    }\n",
       "</style>\n",
       "<table border=\"1\" class=\"dataframe\">\n",
       "  <thead>\n",
       "    <tr style=\"text-align: right;\">\n",
       "      <th></th>\n",
       "      <th>glucose</th>\n",
       "      <th>age</th>\n",
       "      <th>BMI</th>\n",
       "      <th>male</th>\n",
       "    </tr>\n",
       "  </thead>\n",
       "  <tbody>\n",
       "    <tr>\n",
       "      <th>1669</th>\n",
       "      <td>62.0</td>\n",
       "      <td>47</td>\n",
       "      <td>27.64</td>\n",
       "      <td>0</td>\n",
       "    </tr>\n",
       "    <tr>\n",
       "      <th>156</th>\n",
       "      <td>73.0</td>\n",
       "      <td>58</td>\n",
       "      <td>23.36</td>\n",
       "      <td>0</td>\n",
       "    </tr>\n",
       "    <tr>\n",
       "      <th>87</th>\n",
       "      <td>78.0</td>\n",
       "      <td>61</td>\n",
       "      <td>38.46</td>\n",
       "      <td>0</td>\n",
       "    </tr>\n",
       "    <tr>\n",
       "      <th>685</th>\n",
       "      <td>75.0</td>\n",
       "      <td>45</td>\n",
       "      <td>25.92</td>\n",
       "      <td>0</td>\n",
       "    </tr>\n",
       "    <tr>\n",
       "      <th>666</th>\n",
       "      <td>71.0</td>\n",
       "      <td>57</td>\n",
       "      <td>26.24</td>\n",
       "      <td>0</td>\n",
       "    </tr>\n",
       "    <tr>\n",
       "      <th>...</th>\n",
       "      <td>...</td>\n",
       "      <td>...</td>\n",
       "      <td>...</td>\n",
       "      <td>...</td>\n",
       "    </tr>\n",
       "    <tr>\n",
       "      <th>1185</th>\n",
       "      <td>77.0</td>\n",
       "      <td>46</td>\n",
       "      <td>23.48</td>\n",
       "      <td>1</td>\n",
       "    </tr>\n",
       "    <tr>\n",
       "      <th>3905</th>\n",
       "      <td>64.0</td>\n",
       "      <td>44</td>\n",
       "      <td>26.97</td>\n",
       "      <td>1</td>\n",
       "    </tr>\n",
       "    <tr>\n",
       "      <th>3382</th>\n",
       "      <td>90.0</td>\n",
       "      <td>61</td>\n",
       "      <td>31.63</td>\n",
       "      <td>0</td>\n",
       "    </tr>\n",
       "    <tr>\n",
       "      <th>465</th>\n",
       "      <td>87.0</td>\n",
       "      <td>38</td>\n",
       "      <td>30.02</td>\n",
       "      <td>1</td>\n",
       "    </tr>\n",
       "    <tr>\n",
       "      <th>2249</th>\n",
       "      <td>71.0</td>\n",
       "      <td>56</td>\n",
       "      <td>22.89</td>\n",
       "      <td>0</td>\n",
       "    </tr>\n",
       "  </tbody>\n",
       "</table>\n",
       "<p>200 rows × 4 columns</p>\n",
       "</div>"
      ],
      "text/plain": [
       "      glucose  age    BMI  male\n",
       "1669     62.0   47  27.64     0\n",
       "156      73.0   58  23.36     0\n",
       "87       78.0   61  38.46     0\n",
       "685      75.0   45  25.92     0\n",
       "666      71.0   57  26.24     0\n",
       "...       ...  ...    ...   ...\n",
       "1185     77.0   46  23.48     1\n",
       "3905     64.0   44  26.97     1\n",
       "3382     90.0   61  31.63     0\n",
       "465      87.0   38  30.02     1\n",
       "2249     71.0   56  22.89     0\n",
       "\n",
       "[200 rows x 4 columns]"
      ]
     },
     "execution_count": 40,
     "metadata": {},
     "output_type": "execute_result"
    }
   ],
   "source": [
    "# Sample the data\n",
    "samples = df[[\"glucose\",\"age\", \"BMI\", \"male\"]].sample(200, random_state=0)\n",
    "samples"
   ]
  },
  {
   "cell_type": "markdown",
   "metadata": {
    "id": "iJZ_wSqUza4V"
   },
   "source": [
    "## Q3.\n",
    "\n",
    "### A."
   ]
  },
  {
   "cell_type": "code",
   "execution_count": 41,
   "metadata": {
    "id": "fJH9d9vlza4W",
    "outputId": "6e77dbef-f713-4afc-dcd4-25867b543ccc"
   },
   "outputs": [
    {
     "data": {
      "text/plain": [
       "Text(0.5, 1.0, 'Distribution')"
      ]
     },
     "execution_count": 41,
     "metadata": {},
     "output_type": "execute_result"
    },
    {
     "data": {
      "image/png": "[encoded data removed]",
      "text/plain": [
       "<Figure size 864x432 with 2 Axes>"
      ]
     },
     "metadata": {
      "needs_background": "light"
     },
     "output_type": "display_data"
    }
   ],
   "source": [
    "fig, axs = plt.subplots(1,2,figsize = (12,6))\n",
    "fig.suptitle(\"Age Analysis\")\n",
    "sns.boxplot(x=samples[\"age\"], ax=axs[0]).set_title('Boxplot')\n",
    "sns.distplot(samples['age'], ax=axs[1], axlabel='age').set_title('Distribution')"
   ]
  },
  {
   "cell_type": "code",
   "execution_count": 42,
   "metadata": {
    "colab": {
     "base_uri": "https://localhost:8080/",
     "height": 502
    },
    "id": "WKz29djKza4b",
    "outputId": "cacfffd8-9487-45b5-8444-46acd887fd25"
   },
   "outputs": [
    {
     "data": {
      "text/plain": [
       "Text(0.5, 1.0, 'Distribution')"
      ]
     },
     "execution_count": 42,
     "metadata": {},
     "output_type": "execute_result"
    },
    {
     "data": {
      "image/png": "[encoded data removed]",
      "text/plain": [
       "<Figure size 864x432 with 2 Axes>"
      ]
     },
     "metadata": {
      "needs_background": "light"
     },
     "output_type": "display_data"
    }
   ],
   "source": [
    "fig, axs = plt.subplots(1,2,figsize = (12,6))\n",
    "fig.suptitle(\"glucose Analysis\")\n",
    "sns.boxplot(x=samples[\"glucose\"], ax=axs[0]).set_title('Boxplot')\n",
    "sns.distplot(samples['glucose'], ax=axs[1], axlabel='glucose').set_title('Distribution')"
   ]
  },
  {
   "cell_type": "code",
   "execution_count": 43,
   "metadata": {
    "colab": {
     "base_uri": "https://localhost:8080/",
     "height": 502
    },
    "id": "Tclfq6Qkza4d",
    "outputId": "4da0e6b1-1d7b-4137-d941-cae56977ef89"
   },
   "outputs": [
    {
     "data": {
      "text/plain": [
       "Text(0.5, 1.0, 'Distribution')"
      ]
     },
     "execution_count": 43,
     "metadata": {},
     "output_type": "execute_result"
    },
    {
     "data": {
      "image/png": "[encoded data removed]",
      "text/plain": [
       "<Figure size 864x432 with 2 Axes>"
      ]
     },
     "metadata": {
      "needs_background": "light"
     },
     "output_type": "display_data"
    }
   ],
   "source": [
    "fig, axs = plt.subplots(1,2,figsize = (12,6))\n",
    "fig.suptitle(\"BMI Analysis\")\n",
    "sns.boxplot(x=samples[\"BMI\"], ax=axs[0]).set_title('Boxplot')\n",
    "sns.distplot(samples['BMI'], ax=axs[1], axlabel='BMI').set_title('Distribution')"
   ]
  },
  {
   "cell_type": "code",
   "execution_count": 44,
   "metadata": {
    "colab": {
     "base_uri": "https://localhost:8080/",
     "height": 111
    },
    "id": "ahn5bpJ1za4f",
    "outputId": "ca400058-4f8d-4810-d242-9a4dd8c6a3dd"
   },
   "outputs": [
    {
     "data": {
      "text/html": [
       "<div>\n",
       "<style scoped>\n",
       "    .dataframe tbody tr th:only-of-type {\n",
       "        vertical-align: middle;\n",
       "    }\n",
       "\n",
       "    .dataframe tbody tr th {\n",
       "        vertical-align: top;\n",
       "    }\n",
       "\n",
       "    .dataframe thead th {\n",
       "        text-align: right;\n",
       "    }\n",
       "</style>\n",
       "<table border=\"1\" class=\"dataframe\">\n",
       "  <thead>\n",
       "    <tr style=\"text-align: right;\">\n",
       "      <th></th>\n",
       "      <th>male</th>\n",
       "      <th>count</th>\n",
       "    </tr>\n",
       "  </thead>\n",
       "  <tbody>\n",
       "    <tr>\n",
       "      <th>0</th>\n",
       "      <td>0</td>\n",
       "      <td>106</td>\n",
       "    </tr>\n",
       "    <tr>\n",
       "      <th>1</th>\n",
       "      <td>1</td>\n",
       "      <td>94</td>\n",
       "    </tr>\n",
       "  </tbody>\n",
       "</table>\n",
       "</div>"
      ],
      "text/plain": [
       "   male  count\n",
       "0     0    106\n",
       "1     1     94"
      ]
     },
     "execution_count": 44,
     "metadata": {},
     "output_type": "execute_result"
    }
   ],
   "source": [
    "sex_count = samples.copy()\n",
    "sex_count.insert(0, 'count', 1)\n",
    "sex_count = sex_count[['male', 'count']].groupby('male', as_index=False).count()\n",
    "sex_count"
   ]
  },
  {
   "cell_type": "markdown",
   "metadata": {
    "id": "k5lpoTtmza4g"
   },
   "source": [
    "### B."
   ]
  },
  {
   "cell_type": "markdown",
   "metadata": {
    "id": "Xgm9qeTuza4h"
   },
   "source": [
    "Missing values:"
   ]
  },
  {
   "cell_type": "code",
   "execution_count": 45,
   "metadata": {
    "colab": {
     "base_uri": "https://localhost:8080/"
    },
    "id": "ipSgHsNRza4j",
    "outputId": "701b15c6-20cc-4b17-ffa5-110edb469298"
   },
   "outputs": [
    {
     "data": {
      "text/plain": [
       "glucose    17\n",
       "age         0\n",
       "BMI         1\n",
       "male        0\n",
       "dtype: int64"
      ]
     },
     "execution_count": 45,
     "metadata": {},
     "output_type": "execute_result"
    }
   ],
   "source": [
    "samples.isnull().sum()"
   ]
  },
  {
   "cell_type": "markdown",
   "metadata": {
    "id": "DPJiNxDOza4l"
   },
   "source": [
    "**Missing Values**\n",
    "\n",
    "* As we can see, we have just a few missing values. So we drop these records.\n",
    "After removing them we are left with:"
   ]
  },
  {
   "cell_type": "code",
   "execution_count": 46,
   "metadata": {
    "colab": {
     "base_uri": "https://localhost:8080/"
    },
    "id": "2LzVEjetza4n",
    "outputId": "07e61d4a-248f-4840-c305-0104e34b11e2"
   },
   "outputs": [
    {
     "name": "stdout",
     "output_type": "stream",
     "text": [
      "Number of records: 183\n"
     ]
    }
   ],
   "source": [
    "samples.dropna(inplace=True)\n",
    "print(\"Number of records:\", samples.shape[0])"
   ]
  },
  {
   "cell_type": "markdown",
   "metadata": {
    "id": "XNgdO5vtza4s"
   },
   "source": [
    "**Outliers**\n",
    "\n",
    "* From the boxplots above we see that we have no outliers in regards to glucose and BMI, \n",
    "\n",
    "* Regarding sex, we have only male and female."
   ]
  },
  {
   "cell_type": "markdown",
   "metadata": {
    "id": "wam-e6lmza4t"
   },
   "source": [
    "### C."
   ]
  },
  {
   "cell_type": "code",
   "execution_count": 47,
   "metadata": {
    "colab": {
     "base_uri": "https://localhost:8080/",
     "height": 448
    },
    "id": "teioKaQwza4u",
    "outputId": "b7974330-792c-43a4-f987-24ac1f84e258"
   },
   "outputs": [
    {
     "data": {
      "text/plain": [
       "Text(0.5, 1.0, 'BMI vs glucose')"
      ]
     },
     "execution_count": 47,
     "metadata": {},
     "output_type": "execute_result"
    },
    {
     "data": {
      "image/png": "[encoded data removed]",
      "text/plain": [
       "<Figure size 864x432 with 2 Axes>"
      ]
     },
     "metadata": {
      "needs_background": "light"
     },
     "output_type": "display_data"
    }
   ],
   "source": [
    "fig, axs = plt.subplots(1,2,figsize = (12,6))\n",
    "fig.suptitle(\"Explanatory vs Explained Scatterplot Analysis\")\n",
    "samples.plot.scatter(x='age',\n",
    "                      y='BMI',\n",
    "                      c='DarkBlue',ax=axs[0]).set_title(\"BMI vs Age\")\n",
    "samples.plot.scatter(x='glucose',\n",
    "                      y='BMI',\n",
    "                      c='DarkGreen',ax=axs[1]).set_title(\"BMI vs glucose\")\n"
   ]
  },
  {
   "cell_type": "markdown",
   "metadata": {
    "id": "6Siky4VNza4w"
   },
   "source": [
    "From the scatterplots we can clearly see:\n",
    "\n",
    "* a strong positive linear correlation between the BMI and the glucose\n",
    "\n",
    "* No apparent relation between the BMI and the age\n",
    "\n",
    "\n"
   ]
  },
  {
   "cell_type": "markdown",
   "metadata": {
    "id": "a6mcbrQNza4z"
   },
   "source": [
    "### D."
   ]
  },
  {
   "cell_type": "code",
   "execution_count": 48,
   "metadata": {
    "colab": {
     "base_uri": "https://localhost:8080/",
     "height": 593
    },
    "id": "sdO0zDg3za41",
    "outputId": "592bcdcd-ac16-4ff6-f751-fd0cf5766b63"
   },
   "outputs": [
    {
     "data": {
      "text/plain": [
       "<matplotlib.legend.Legend at 0x7fe3bfd88880>"
      ]
     },
     "execution_count": 48,
     "metadata": {},
     "output_type": "execute_result"
    },
    {
     "data": {
      "image/png": "[encoded data removed]",
      "text/plain": [
       "<Figure size 864x432 with 1 Axes>"
      ]
     },
     "metadata": {
      "needs_background": "light"
     },
     "output_type": "display_data"
    }
   ],
   "source": [
    "fig, axs = plt.subplots(1,figsize = (12,6))\n",
    "sns.distplot(samples.loc[samples['male'] == 0]['BMI'], ax=axs, axlabel='BMI', label=\"female\")\n",
    "sns.distplot(samples.loc[samples['male'] == 1]['BMI'], ax=axs, axlabel='BMI', label=\"male\")\n",
    "axs.set_title('BMI histogram by Gender')\n",
    "axs.legend()"
   ]
  },
  {
   "cell_type": "markdown",
   "metadata": {
    "id": "CnVcNtwaza42"
   },
   "source": []
  },
  {
   "cell_type": "markdown",
   "metadata": {
    "id": "wlcFgCrvza44"
   },
   "source": [
    "## Q4."
   ]
  },
  {
   "cell_type": "markdown",
   "metadata": {
    "id": "lVx_ojmTza46"
   },
   "source": [
    "Maximum likelihood estimator for the Model:"
   ]
  },
  {
   "cell_type": "code",
   "execution_count": 49,
   "metadata": {
    "colab": {
     "base_uri": "https://localhost:8080/",
     "height": 182
    },
    "id": "YeJQOgoQza4_",
    "outputId": "cd720980-bd4e-4b8f-aed4-a15aef8eba83"
   },
   "outputs": [
    {
     "data": {
      "text/html": [
       "<div>\n",
       "<style scoped>\n",
       "    .dataframe tbody tr th:only-of-type {\n",
       "        vertical-align: middle;\n",
       "    }\n",
       "\n",
       "    .dataframe tbody tr th {\n",
       "        vertical-align: top;\n",
       "    }\n",
       "\n",
       "    .dataframe thead th {\n",
       "        text-align: right;\n",
       "    }\n",
       "</style>\n",
       "<table border=\"1\" class=\"dataframe\">\n",
       "  <thead>\n",
       "    <tr style=\"text-align: right;\">\n",
       "      <th></th>\n",
       "      <th>intercept</th>\n",
       "      <th>age</th>\n",
       "      <th>glucose</th>\n",
       "      <th>male</th>\n",
       "    </tr>\n",
       "  </thead>\n",
       "  <tbody>\n",
       "    <tr>\n",
       "      <th>Beta Estimator</th>\n",
       "      <td>17.314518</td>\n",
       "      <td>0.082715</td>\n",
       "      <td>0.055594</td>\n",
       "      <td>-0.040738</td>\n",
       "    </tr>\n",
       "  </tbody>\n",
       "</table>\n",
       "</div>"
      ],
      "text/plain": [
       "                intercept       age   glucose      male\n",
       "Beta Estimator  17.314518  0.082715  0.055594 -0.040738"
      ]
     },
     "execution_count": 49,
     "metadata": {},
     "output_type": "execute_result"
    }
   ],
   "source": [
    "samples.loc[samples['male'] == '0' , '1'] = 1\n",
    "samples.loc[samples['male'] == '1' , '0'] = 0\n",
    "att = ['intercept', \"age\",'glucose', 'male']\n",
    "Y = samples[\"BMI\"].to_numpy().reshape((-1,1))\n",
    "X = samples[[\"age\",'glucose', 'male']]\n",
    "X['intercept']=1\n",
    "X= X[att]\n",
    "X = X.to_numpy(dtype='float64')\n",
    "\n",
    "results = OLS(Y, X).fit() \n",
    "\n",
    "betas = np.array(results.params).reshape((1,-1))\n",
    "pd.DataFrame(betas, columns=att, index=[\"Beta Estimator\"])"
   ]
  },
  {
   "cell_type": "markdown",
   "metadata": {
    "id": "IwxEs8m1za5C"
   },
   "source": [
    "## Q5.\n",
    "\n",
    "Anova Table:"
   ]
  },
  {
   "cell_type": "code",
   "execution_count": 50,
   "metadata": {
    "colab": {
     "base_uri": "https://localhost:8080/",
     "height": 142
    },
    "id": "z7MERtc3za5D",
    "outputId": "51fd5661-6801-4aa0-f298-35190cd25591"
   },
   "outputs": [
    {
     "data": {
      "text/html": [
       "<div>\n",
       "<style scoped>\n",
       "    .dataframe tbody tr th:only-of-type {\n",
       "        vertical-align: middle;\n",
       "    }\n",
       "\n",
       "    .dataframe tbody tr th {\n",
       "        vertical-align: top;\n",
       "    }\n",
       "\n",
       "    .dataframe thead th {\n",
       "        text-align: right;\n",
       "    }\n",
       "</style>\n",
       "<table border=\"1\" class=\"dataframe\">\n",
       "  <thead>\n",
       "    <tr style=\"text-align: right;\">\n",
       "      <th></th>\n",
       "      <th>SS</th>\n",
       "      <th>df</th>\n",
       "      <th>MS</th>\n",
       "      <th>F</th>\n",
       "      <th>Pvalue</th>\n",
       "    </tr>\n",
       "  </thead>\n",
       "  <tbody>\n",
       "    <tr>\n",
       "      <th>Reg</th>\n",
       "      <td>307.772789</td>\n",
       "      <td>3.0</td>\n",
       "      <td>102.591</td>\n",
       "      <td>7.21017</td>\n",
       "      <td>0.000135202</td>\n",
       "    </tr>\n",
       "    <tr>\n",
       "      <th>Res</th>\n",
       "      <td>2546.926704</td>\n",
       "      <td>179.0</td>\n",
       "      <td>14.2286</td>\n",
       "      <td></td>\n",
       "      <td></td>\n",
       "    </tr>\n",
       "    <tr>\n",
       "      <th>Total</th>\n",
       "      <td>2854.699493</td>\n",
       "      <td>182.0</td>\n",
       "      <td></td>\n",
       "      <td></td>\n",
       "      <td></td>\n",
       "    </tr>\n",
       "  </tbody>\n",
       "</table>\n",
       "</div>"
      ],
      "text/plain": [
       "                SS     df       MS        F       Pvalue\n",
       "Reg     307.772789    3.0  102.591  7.21017  0.000135202\n",
       "Res    2546.926704  179.0  14.2286                      \n",
       "Total  2854.699493  182.0                               "
      ]
     },
     "execution_count": 50,
     "metadata": {},
     "output_type": "execute_result"
    }
   ],
   "source": [
    "def create_Anova(results):\n",
    "  Anova_table = pd.DataFrame([[results.ess, results.df_model, results.mse_model, results.fvalue, results.f_pvalue],\n",
    "                                [results.ssr, results.df_resid, results.mse_resid],\n",
    "                                [results.ssr+results.ess, results.df_model+results.df_resid]],\n",
    "                               index=['Reg','Res', 'Total'], columns=['SS','df', 'MS', 'F', 'Pvalue']).fillna(\"\")\n",
    "  return Anova_table\n",
    "\n",
    "create_Anova(results)"
   ]
  },
  {
   "cell_type": "markdown",
   "metadata": {
    "id": "Io7zO833za5I"
   },
   "source": [
    "$R^2:$"
   ]
  },
  {
   "cell_type": "code",
   "execution_count": 51,
   "metadata": {
    "colab": {
     "base_uri": "https://localhost:8080/"
    },
    "id": "O7mUJHSrza5I",
    "outputId": "2c2c0b7b-53b9-4aad-dc6c-4609ea99b2cb"
   },
   "outputs": [
    {
     "data": {
      "text/plain": [
       "0.10781267509570602"
      ]
     },
     "execution_count": 51,
     "metadata": {},
     "output_type": "execute_result"
    }
   ],
   "source": [
    "results.rsquared"
   ]
  },
  {
   "cell_type": "markdown",
   "metadata": {
    "id": "3SB-cqZCza5L"
   },
   "source": [
    "$R_{adj}^2$:"
   ]
  },
  {
   "cell_type": "code",
   "execution_count": 52,
   "metadata": {
    "colab": {
     "base_uri": "https://localhost:8080/"
    },
    "id": "Se1pqnmSza5N",
    "outputId": "db7878ab-5cc9-4a85-8dbb-75c54e13b3b4"
   },
   "outputs": [
    {
     "data": {
      "text/plain": [
       "0.09285981490177941"
      ]
     },
     "execution_count": 52,
     "metadata": {},
     "output_type": "execute_result"
    }
   ],
   "source": [
    "results.rsquared_adj"
   ]
  },
  {
   "cell_type": "markdown",
   "metadata": {
    "id": "A64f818_za5e"
   },
   "source": [
    "A pretty strong correlation!"
   ]
  },
  {
   "cell_type": "markdown",
   "metadata": {
    "id": "z07HAd1Nza5f"
   },
   "source": [
    "## Q6."
   ]
  },
  {
   "cell_type": "markdown",
   "metadata": {
    "id": "Bpa1DXkIza5f"
   },
   "source": [
    "Confidence intervals for $\\beta_{\\mbox{sex}}^*, \\ \\beta_{\\mbox{height}}^*, \\ \\beta_{\\mbox{age}}^*$:"
   ]
  },
  {
   "cell_type": "code",
   "execution_count": 53,
   "metadata": {
    "colab": {
     "base_uri": "https://localhost:8080/",
     "height": 142
    },
    "id": "dSzeczJqza5g",
    "outputId": "436b3a66-fb9a-4dfb-a4c3-9e96f0a16c30"
   },
   "outputs": [
    {
     "data": {
      "text/html": [
       "<div>\n",
       "<style scoped>\n",
       "    .dataframe tbody tr th:only-of-type {\n",
       "        vertical-align: middle;\n",
       "    }\n",
       "\n",
       "    .dataframe tbody tr th {\n",
       "        vertical-align: top;\n",
       "    }\n",
       "\n",
       "    .dataframe thead th {\n",
       "        text-align: right;\n",
       "    }\n",
       "</style>\n",
       "<table border=\"1\" class=\"dataframe\">\n",
       "  <thead>\n",
       "    <tr style=\"text-align: right;\">\n",
       "      <th></th>\n",
       "      <th>Lower</th>\n",
       "      <th>Upper</th>\n",
       "    </tr>\n",
       "  </thead>\n",
       "  <tbody>\n",
       "    <tr>\n",
       "      <th>Age</th>\n",
       "      <td>0.019632</td>\n",
       "      <td>0.145799</td>\n",
       "    </tr>\n",
       "    <tr>\n",
       "      <th>glucose</th>\n",
       "      <td>0.025457</td>\n",
       "      <td>0.085730</td>\n",
       "    </tr>\n",
       "    <tr>\n",
       "      <th>male</th>\n",
       "      <td>-1.150242</td>\n",
       "      <td>1.068765</td>\n",
       "    </tr>\n",
       "  </tbody>\n",
       "</table>\n",
       "</div>"
      ],
      "text/plain": [
       "            Lower     Upper\n",
       "Age      0.019632  0.145799\n",
       "glucose  0.025457  0.085730\n",
       "male    -1.150242  1.068765"
      ]
     },
     "execution_count": 53,
     "metadata": {},
     "output_type": "execute_result"
    }
   ],
   "source": [
    "\n",
    "conf_int = pd.DataFrame(results.conf_int()[1:])\n",
    "conf_int.columns = ['Lower','Upper']\n",
    "conf_int.rename(index={0:'Age',1:'glucose', 2:'male'}, inplace=True)\n",
    "conf_int"
   ]
  },
  {
   "cell_type": "code",
   "execution_count": 54,
   "metadata": {
    "colab": {
     "base_uri": "https://localhost:8080/",
     "height": 80
    },
    "id": "XjPFPnPXza5i",
    "outputId": "4411a4c6-c830-4610-fc1a-bc628da30a31"
   },
   "outputs": [
    {
     "data": {
      "text/html": [
       "<div>\n",
       "<style scoped>\n",
       "    .dataframe tbody tr th:only-of-type {\n",
       "        vertical-align: middle;\n",
       "    }\n",
       "\n",
       "    .dataframe tbody tr th {\n",
       "        vertical-align: top;\n",
       "    }\n",
       "\n",
       "    .dataframe thead th {\n",
       "        text-align: right;\n",
       "    }\n",
       "</style>\n",
       "<table border=\"1\" class=\"dataframe\">\n",
       "  <thead>\n",
       "    <tr style=\"text-align: right;\">\n",
       "      <th></th>\n",
       "      <th>intercept</th>\n",
       "      <th>age</th>\n",
       "      <th>glucose</th>\n",
       "      <th>male</th>\n",
       "    </tr>\n",
       "  </thead>\n",
       "  <tbody>\n",
       "    <tr>\n",
       "      <th>Beta Estimator</th>\n",
       "      <td>21.470093</td>\n",
       "      <td>0.061444</td>\n",
       "      <td>0.012254</td>\n",
       "      <td>0.646858</td>\n",
       "    </tr>\n",
       "  </tbody>\n",
       "</table>\n",
       "</div>"
      ],
      "text/plain": [
       "                intercept       age   glucose      male\n",
       "Beta Estimator  21.470093  0.061444  0.012254  0.646858"
      ]
     },
     "execution_count": 54,
     "metadata": {},
     "output_type": "execute_result"
    }
   ],
   "source": [
    "\n",
    "att = ['intercept', \"age\",'glucose', 'male']\n",
    "input_data = df.copy()\n",
    "input_data = input_data[[\"age\",'glucose', 'male', \"BMI\"]]\n",
    "\n",
    "input_data.loc[input_data['male'] == '0' , 'male'] = 1\n",
    "input_data.loc[input_data['male'] == '1' , 'male'] = 0\n",
    "\n",
    "input_data.dropna(inplace=True)\n",
    "\n",
    "Y_full = input_data[\"BMI\"].to_numpy().reshape((-1,1))\n",
    "X_full = input_data[[\"age\",'glucose', 'male']]\n",
    "\n",
    "X_full['intercept']=1\n",
    "X_full= X_full[att]\n",
    "X_full = X_full.to_numpy(dtype='float64')\n",
    "\n",
    "results_full = OLS(Y_full, X_full).fit() \n",
    "\n",
    "betas = np.array(results_full.params).reshape((1,-1))\n",
    "pd.DataFrame(betas, columns=att, index=[\"Beta Estimator\"])"
   ]
  },
  {
   "cell_type": "code",
   "execution_count": 55,
   "metadata": {
    "colab": {
     "base_uri": "https://localhost:8080/",
     "height": 142
    },
    "id": "YjYrtZdkza5m",
    "outputId": "bf9a4da0-c216-47f2-8a7a-b18704437dfe"
   },
   "outputs": [
    {
     "data": {
      "text/html": [
       "<div>\n",
       "<style scoped>\n",
       "    .dataframe tbody tr th:only-of-type {\n",
       "        vertical-align: middle;\n",
       "    }\n",
       "\n",
       "    .dataframe tbody tr th {\n",
       "        vertical-align: top;\n",
       "    }\n",
       "\n",
       "    .dataframe thead th {\n",
       "        text-align: right;\n",
       "    }\n",
       "</style>\n",
       "<table border=\"1\" class=\"dataframe\">\n",
       "  <thead>\n",
       "    <tr style=\"text-align: right;\">\n",
       "      <th></th>\n",
       "      <th>statistic</th>\n",
       "      <th>pvalue</th>\n",
       "    </tr>\n",
       "  </thead>\n",
       "  <tbody>\n",
       "    <tr>\n",
       "      <th>Age</th>\n",
       "      <td>6.694643</td>\n",
       "      <td>0.010464</td>\n",
       "    </tr>\n",
       "    <tr>\n",
       "      <th>Glucose</th>\n",
       "      <td>13.250967</td>\n",
       "      <td>0.000356</td>\n",
       "    </tr>\n",
       "    <tr>\n",
       "      <th>Male</th>\n",
       "      <td>0.005250</td>\n",
       "      <td>0.942321</td>\n",
       "    </tr>\n",
       "  </tbody>\n",
       "</table>\n",
       "</div>"
      ],
      "text/plain": [
       "         statistic    pvalue\n",
       "Age       6.694643  0.010464\n",
       "Glucose  13.250967  0.000356\n",
       "Male      0.005250  0.942321"
      ]
     },
     "execution_count": 55,
     "metadata": {},
     "output_type": "execute_result"
    }
   ],
   "source": [
    "z=results.wald_test_terms()\n",
    "z = z.table[1:]\n",
    "z.rename(index={'x1':'Age','x2':'Glucose', 'x3':'Male'}, inplace=True)\n",
    "z[['statistic','pvalue']]"
   ]
  },
  {
   "cell_type": "markdown",
   "metadata": {
    "id": "Gq7m-AqSza5v"
   },
   "source": [
    "## Q8."
   ]
  },
  {
   "cell_type": "code",
   "execution_count": 56,
   "metadata": {
    "colab": {
     "base_uri": "https://localhost:8080/",
     "height": 295
    },
    "id": "5ZrmkGvVza5w",
    "outputId": "2a851174-65f1-426d-f3ec-7569720483c6"
   },
   "outputs": [
    {
     "data": {
      "image/png": "[encoded data removed]",
      "text/plain": [
       "<Figure size 432x288 with 1 Axes>"
      ]
     },
     "metadata": {
      "needs_background": "light"
     },
     "output_type": "display_data"
    }
   ],
   "source": [
    "prediction = results.get_prediction(X)\n",
    "prediction = prediction.predicted_mean.reshape((-1,1))\n",
    "plt.scatter(prediction,prediction-Y, color='DarkBlue')\n",
    "plt.title(\"residual analysis\")\n",
    "plt.xlabel(\"predicted BMI\")\n",
    "plt.ylabel(\"residuals (e)\")\n",
    "plt.axhline(color='DarkRed')\n",
    "# plt.ylim(-25,25)\n",
    "plt.show()"
   ]
  },
  {
   "cell_type": "markdown",
   "metadata": {
    "id": "nlTSqGpCza5z"
   },
   "source": [
    "## Q9."
   ]
  },
  {
   "cell_type": "code",
   "execution_count": 57,
   "metadata": {
    "colab": {
     "base_uri": "https://localhost:8080/",
     "height": 419
    },
    "id": "5NMMualyza50",
    "outputId": "04be9251-3cb9-4447-bb86-7fd5a81b7e88"
   },
   "outputs": [
    {
     "data": {
      "text/html": [
       "<div>\n",
       "<style scoped>\n",
       "    .dataframe tbody tr th:only-of-type {\n",
       "        vertical-align: middle;\n",
       "    }\n",
       "\n",
       "    .dataframe tbody tr th {\n",
       "        vertical-align: top;\n",
       "    }\n",
       "\n",
       "    .dataframe thead th {\n",
       "        text-align: right;\n",
       "    }\n",
       "</style>\n",
       "<table border=\"1\" class=\"dataframe\">\n",
       "  <thead>\n",
       "    <tr style=\"text-align: right;\">\n",
       "      <th></th>\n",
       "      <th>age</th>\n",
       "      <th>glucose</th>\n",
       "      <th>male</th>\n",
       "      <th>BMI</th>\n",
       "    </tr>\n",
       "  </thead>\n",
       "  <tbody>\n",
       "    <tr>\n",
       "      <th>2201</th>\n",
       "      <td>45</td>\n",
       "      <td>75.0</td>\n",
       "      <td>1</td>\n",
       "      <td>32.03</td>\n",
       "    </tr>\n",
       "    <tr>\n",
       "      <th>656</th>\n",
       "      <td>51</td>\n",
       "      <td>74.0</td>\n",
       "      <td>1</td>\n",
       "      <td>29.86</td>\n",
       "    </tr>\n",
       "    <tr>\n",
       "      <th>1563</th>\n",
       "      <td>54</td>\n",
       "      <td>75.0</td>\n",
       "      <td>0</td>\n",
       "      <td>29.40</td>\n",
       "    </tr>\n",
       "    <tr>\n",
       "      <th>3684</th>\n",
       "      <td>38</td>\n",
       "      <td>70.0</td>\n",
       "      <td>1</td>\n",
       "      <td>28.30</td>\n",
       "    </tr>\n",
       "    <tr>\n",
       "      <th>1992</th>\n",
       "      <td>40</td>\n",
       "      <td>123.0</td>\n",
       "      <td>0</td>\n",
       "      <td>27.46</td>\n",
       "    </tr>\n",
       "    <tr>\n",
       "      <th>...</th>\n",
       "      <td>...</td>\n",
       "      <td>...</td>\n",
       "      <td>...</td>\n",
       "      <td>...</td>\n",
       "    </tr>\n",
       "    <tr>\n",
       "      <th>3139</th>\n",
       "      <td>40</td>\n",
       "      <td>73.0</td>\n",
       "      <td>0</td>\n",
       "      <td>35.02</td>\n",
       "    </tr>\n",
       "    <tr>\n",
       "      <th>979</th>\n",
       "      <td>64</td>\n",
       "      <td>80.0</td>\n",
       "      <td>0</td>\n",
       "      <td>20.67</td>\n",
       "    </tr>\n",
       "    <tr>\n",
       "      <th>3341</th>\n",
       "      <td>59</td>\n",
       "      <td>89.0</td>\n",
       "      <td>0</td>\n",
       "      <td>21.82</td>\n",
       "    </tr>\n",
       "    <tr>\n",
       "      <th>2334</th>\n",
       "      <td>40</td>\n",
       "      <td>74.0</td>\n",
       "      <td>0</td>\n",
       "      <td>31.77</td>\n",
       "    </tr>\n",
       "    <tr>\n",
       "      <th>582</th>\n",
       "      <td>51</td>\n",
       "      <td>85.0</td>\n",
       "      <td>0</td>\n",
       "      <td>27.42</td>\n",
       "    </tr>\n",
       "  </tbody>\n",
       "</table>\n",
       "<p>1000 rows × 4 columns</p>\n",
       "</div>"
      ],
      "text/plain": [
       "      age  glucose  male    BMI\n",
       "2201   45     75.0     1  32.03\n",
       "656    51     74.0     1  29.86\n",
       "1563   54     75.0     0  29.40\n",
       "3684   38     70.0     1  28.30\n",
       "1992   40    123.0     0  27.46\n",
       "...   ...      ...   ...    ...\n",
       "3139   40     73.0     0  35.02\n",
       "979    64     80.0     0  20.67\n",
       "3341   59     89.0     0  21.82\n",
       "2334   40     74.0     0  31.77\n",
       "582    51     85.0     0  27.42\n",
       "\n",
       "[1000 rows x 4 columns]"
      ]
     },
     "execution_count": 57,
     "metadata": {},
     "output_type": "execute_result"
    }
   ],
   "source": [
    "full_samples = input_data.copy()\n",
    "full_samples.drop(samples.index, inplace=True)\n",
    "bigger_samples = full_samples.sample(1000, random_state=0)\n",
    "\n",
    "bigger_samples_Y = bigger_samples['BMI']\n",
    "bigger_samples"
   ]
  },
  {
   "cell_type": "markdown",
   "metadata": {
    "id": "Wy3Ke1v4za51"
   },
   "source": [
    "### A. \n",
    "\n",
    "Predicting $\\hat{Y}$ for all the new points."
   ]
  },
  {
   "cell_type": "code",
   "execution_count": 58,
   "metadata": {
    "id": "bmjXhsIRza53"
   },
   "outputs": [],
   "source": [
    "bigger_samples['intercept']=1\n",
    "bigger_samples_array = bigger_samples[att].to_numpy(dtype='float64').reshape((-1,4)) # reorder columns and drop bmi\n",
    "Y_pred = results.predict(bigger_samples_array)"
   ]
  },
  {
   "cell_type": "markdown",
   "metadata": {
    "id": "71m0gmV4za54"
   },
   "source": [
    "### B.\n",
    "\n",
    "Calculating the CIs"
   ]
  },
  {
   "cell_type": "code",
   "execution_count": 59,
   "metadata": {
    "id": "RDE35I-gza56"
   },
   "outputs": [],
   "source": [
    "def get_ci(results_model,X_new, X):\n",
    "    C = np.linalg.inv(np.matmul(X.T, X)) \n",
    "    prediction = results_model.get_prediction(X_new).predicted_mean.reshape((-1,1))\n",
    "    n, p = X.shape\n",
    "    sigma_hat = results_model.ssr/(n-p)\n",
    "    s_e_hat_2 = (np.matmul(np.matmul(X_new.T,C),X_new))*sigma_hat\n",
    "    temp_res = 1.96*sqrt(s_e_hat_2+sigma_hat)\n",
    "#     print(f\"CI for the prediction is {prediction-temp_res},{prediction+temp_res}\")\n",
    "    return (prediction-temp_res)[0][0], (prediction+temp_res)[0][0]\n",
    "\n",
    "CIs = np.zeros((1000,2))\n",
    "for i in range(1000):    \n",
    "    CIs[i] = get_ci(results,bigger_samples_array[i], X)\n",
    "    \n"
   ]
  },
  {
   "cell_type": "markdown",
   "metadata": {
    "id": "SboeGy0wza57"
   },
   "source": [
    "### C."
   ]
  },
  {
   "cell_type": "code",
   "execution_count": 60,
   "metadata": {
    "id": "9bYWnwdGza58",
    "outputId": "8eae2a74-8691-4e90-deba-32e78a42a337"
   },
   "outputs": [
    {
     "name": "stdout",
     "output_type": "stream",
     "text": [
      "Number of CIs that contain Y_new: 950\n"
     ]
    }
   ],
   "source": [
    "Y_real = bigger_samples_Y.to_numpy()\n",
    "sums=0\n",
    "CIs_len = np.zeros((1000,1))\n",
    "for i in range(1000):\n",
    "    if (Y_real[i] >= CIs[i][0] and Y_real[i] <= CIs[i][1]):\n",
    "        sums+=1\n",
    "        \n",
    "    CIs_len[i] =  CIs[i][1] - CIs[i][0] #len CI\n",
    "\n",
    "print(\"Number of CIs that contain Y_new:\",sums)"
   ]
  },
  {
   "cell_type": "markdown",
   "metadata": {
    "id": "rtOK5AwWza5-"
   },
   "source": [
    "Distribution of CI lengths:"
   ]
  },
  {
   "cell_type": "code",
   "execution_count": 61,
   "metadata": {
    "colab": {
     "base_uri": "https://localhost:8080/",
     "height": 721
    },
    "id": "ehTgTRwuza5_",
    "outputId": "510ede69-1de3-4201-8676-8e80c28d5e35"
   },
   "outputs": [
    {
     "data": {
      "text/plain": [
       "<AxesSubplot:xlabel='CI length', ylabel='Density'>"
      ]
     },
     "execution_count": 61,
     "metadata": {},
     "output_type": "execute_result"
    },
    {
     "data": {
      "image/png": "[encoded data removed]",
      "text/plain": [
       "<Figure size 576x576 with 1 Axes>"
      ]
     },
     "metadata": {
      "needs_background": "light"
     },
     "output_type": "display_data"
    }
   ],
   "source": [
    "#distribution of lenght of CI's for every size sample\n",
    "fig, axs = plt.subplots(1,1,figsize = (8,8))\n",
    "fig.suptitle(\"CI lengths\")\n",
    "sns.distplot(CIs_len, ax=axs, axlabel='CI length')"
   ]
  },
  {
   "cell_type": "markdown",
   "metadata": {
    "id": "vB9SGWWVza6B"
   },
   "source": [
    "Summary statistics for the CIs:"
   ]
  },
  {
   "cell_type": "code",
   "execution_count": 62,
   "metadata": {
    "id": "lDppC4JYza6C",
    "outputId": "853e9bd3-f8fe-4a2a-ee2d-bb93c055563b"
   },
   "outputs": [
    {
     "data": {
      "text/html": [
       "<div>\n",
       "<style scoped>\n",
       "    .dataframe tbody tr th:only-of-type {\n",
       "        vertical-align: middle;\n",
       "    }\n",
       "\n",
       "    .dataframe tbody tr th {\n",
       "        vertical-align: top;\n",
       "    }\n",
       "\n",
       "    .dataframe thead th {\n",
       "        text-align: right;\n",
       "    }\n",
       "</style>\n",
       "<table border=\"1\" class=\"dataframe\">\n",
       "  <thead>\n",
       "    <tr style=\"text-align: right;\">\n",
       "      <th></th>\n",
       "      <th>0</th>\n",
       "    </tr>\n",
       "  </thead>\n",
       "  <tbody>\n",
       "    <tr>\n",
       "      <th>count</th>\n",
       "      <td>1000.000000</td>\n",
       "    </tr>\n",
       "    <tr>\n",
       "      <th>mean</th>\n",
       "      <td>14.961706</td>\n",
       "    </tr>\n",
       "    <tr>\n",
       "      <th>std</th>\n",
       "      <td>0.298400</td>\n",
       "    </tr>\n",
       "    <tr>\n",
       "      <th>min</th>\n",
       "      <td>14.866167</td>\n",
       "    </tr>\n",
       "    <tr>\n",
       "      <th>25%</th>\n",
       "      <td>14.887948</td>\n",
       "    </tr>\n",
       "    <tr>\n",
       "      <th>50%</th>\n",
       "      <td>14.916144</td>\n",
       "    </tr>\n",
       "    <tr>\n",
       "      <th>75%</th>\n",
       "      <td>14.957097</td>\n",
       "    </tr>\n",
       "    <tr>\n",
       "      <th>max</th>\n",
       "      <td>18.863872</td>\n",
       "    </tr>\n",
       "  </tbody>\n",
       "</table>\n",
       "</div>"
      ],
      "text/plain": [
       "                 0\n",
       "count  1000.000000\n",
       "mean     14.961706\n",
       "std       0.298400\n",
       "min      14.866167\n",
       "25%      14.887948\n",
       "50%      14.916144\n",
       "75%      14.957097\n",
       "max      18.863872"
      ]
     },
     "execution_count": 62,
     "metadata": {},
     "output_type": "execute_result"
    }
   ],
   "source": [
    "pd.DataFrame(CIs_len).describe()"
   ]
  },
  {
   "cell_type": "markdown",
   "metadata": {
    "id": "by-Fam1hTsRV"
   },
   "source": []
  },
  {
   "cell_type": "markdown",
   "metadata": {
    "id": "Z8Dp6Z0oza6F"
   },
   "source": [
    "## Q10.\n",
    "\n"
   ]
  },
  {
   "cell_type": "code",
   "execution_count": 63,
   "metadata": {
    "id": "j4NPPg2-za6F",
    "outputId": "3b88ca3c-78d4-4b90-a499-8d5f7b71cd6b"
   },
   "outputs": [
    {
     "data": {
      "text/html": [
       "<div>\n",
       "<style scoped>\n",
       "    .dataframe tbody tr th:only-of-type {\n",
       "        vertical-align: middle;\n",
       "    }\n",
       "\n",
       "    .dataframe tbody tr th {\n",
       "        vertical-align: top;\n",
       "    }\n",
       "\n",
       "    .dataframe thead th {\n",
       "        text-align: right;\n",
       "    }\n",
       "</style>\n",
       "<table border=\"1\" class=\"dataframe\">\n",
       "  <thead>\n",
       "    <tr style=\"text-align: right;\">\n",
       "      <th></th>\n",
       "      <th>intercept</th>\n",
       "      <th>age</th>\n",
       "      <th>glucose</th>\n",
       "      <th>male</th>\n",
       "      <th>age-height</th>\n",
       "      <th>age-sex</th>\n",
       "      <th>height-sex</th>\n",
       "    </tr>\n",
       "  </thead>\n",
       "  <tbody>\n",
       "    <tr>\n",
       "      <th>Beta Estimator</th>\n",
       "      <td>8.132101</td>\n",
       "      <td>0.271151</td>\n",
       "      <td>0.127824</td>\n",
       "      <td>6.029758</td>\n",
       "      <td>-0.001502</td>\n",
       "      <td>-0.139847</td>\n",
       "      <td>0.010697</td>\n",
       "    </tr>\n",
       "  </tbody>\n",
       "</table>\n",
       "</div>"
      ],
      "text/plain": [
       "                intercept       age   glucose      male  age-height   age-sex  \\\n",
       "Beta Estimator   8.132101  0.271151  0.127824  6.029758   -0.001502 -0.139847   \n",
       "\n",
       "                height-sex  \n",
       "Beta Estimator    0.010697  "
      ]
     },
     "execution_count": 63,
     "metadata": {},
     "output_type": "execute_result"
    }
   ],
   "source": [
    "X_12 = (X[:,1]*X[:,2]).reshape((-1,1))\n",
    "X_13 = (X[:,1]*X[:,3]).reshape((-1,1))\n",
    "X_23 = (X[:,2]*X[:,3]).reshape((-1,1))\n",
    "interaction_X = np.c_[X, X_12, X_13, X_23]\n",
    "results_interaction = OLS(Y, interaction_X).fit() \n",
    "\n",
    "betas = np.array(results_interaction.params).reshape((1,-1))\n",
    "pd.DataFrame(betas, columns=att+['age-height','age-sex','height-sex'], index=[\"Beta Estimator\"])"
   ]
  },
  {
   "cell_type": "markdown",
   "metadata": {
    "id": "eSwsCquwza6G"
   },
   "source": [
    "We chose to look at three measures - $R^2_{adj}, \\ BIC, \\ AIC$ to evaluate the two models.\n",
    "\n",
    "As we compared models with a different amount of paramaters (one model has interaction parameters and one doesn't) we selected measures that punish models with more parameters."
   ]
  },
  {
   "cell_type": "code",
   "execution_count": 64,
   "metadata": {
    "id": "E2QHohTKza6H",
    "outputId": "0934fd51-a861-4007-8539-9ed6723b7f1b"
   },
   "outputs": [
    {
     "data": {
      "text/html": [
       "<div>\n",
       "<style scoped>\n",
       "    .dataframe tbody tr th:only-of-type {\n",
       "        vertical-align: middle;\n",
       "    }\n",
       "\n",
       "    .dataframe tbody tr th {\n",
       "        vertical-align: top;\n",
       "    }\n",
       "\n",
       "    .dataframe thead th {\n",
       "        text-align: right;\n",
       "    }\n",
       "</style>\n",
       "<table border=\"1\" class=\"dataframe\">\n",
       "  <thead>\n",
       "    <tr style=\"text-align: right;\">\n",
       "      <th></th>\n",
       "      <th>With Interaction</th>\n",
       "      <th>Without Interaction</th>\n",
       "    </tr>\n",
       "  </thead>\n",
       "  <tbody>\n",
       "    <tr>\n",
       "      <th>rsquared_adj</th>\n",
       "      <td>0.103754</td>\n",
       "      <td>0.092860</td>\n",
       "    </tr>\n",
       "    <tr>\n",
       "      <th>BIC</th>\n",
       "      <td>-516.180767</td>\n",
       "      <td>-511.018548</td>\n",
       "    </tr>\n",
       "    <tr>\n",
       "      <th>AIC</th>\n",
       "      <td>-504.947566</td>\n",
       "      <td>-504.599575</td>\n",
       "    </tr>\n",
       "  </tbody>\n",
       "</table>\n",
       "</div>"
      ],
      "text/plain": [
       "              With Interaction  Without Interaction\n",
       "rsquared_adj          0.103754             0.092860\n",
       "BIC                -516.180767          -511.018548\n",
       "AIC                -504.947566          -504.599575"
      ]
     },
     "execution_count": 64,
     "metadata": {},
     "output_type": "execute_result"
    }
   ],
   "source": [
    "pd.DataFrame([[results_interaction.rsquared_adj, results.rsquared_adj],\n",
    "            [-results_interaction.bic/2, -results.bic/2],\n",
    "            [-results_interaction.aic/2, -results.aic/2]], index=[\"rsquared_adj\",\"BIC\",\"AIC\"],columns=[\"With Interaction\", \"Without Interaction\"])\n"
   ]
  },
  {
   "cell_type": "markdown",
   "metadata": {
    "id": "2F3tUPUDza6H"
   },
   "source": [
    "\n",
    "\n",
    "\n",
    "\n",
    "From the table we can see that the measures are pretty similar when comparing both models. Specifically when looking at $R^2_{adj}$ the model with interaction is slightly better and when looking at $BIC \\ \\& \\ AIC$ the model without interaction is slightly better.\n",
    "\n",
    "* Higher is better for these measures"
   ]
  },
  {
   "cell_type": "markdown",
   "metadata": {
    "id": "CfsEXq0Cza6J"
   },
   "source": [
    "# Part 2\n",
    "\n",
    "The selected explanatory parameters:\n",
    "\n",
    "* Male - Binary (Male / Female)\n",
    "\n",
    "* Age - Numeric\n",
    "\n",
    "* BMI - Numeric\n",
    "\n",
    "The selected explained parameter:\n",
    "\n",
    "* diabetes - Binary (has / hasn't) \n",
    "\n",
    "\n",
    "## Q1.\n",
    "\n",
    "Test question:\n",
    "\n",
    "**Does the age, sex and BMI influence the chance to diabetes?\n",
    "**\n",
    "\n",
    "## Q2."
   ]
  },
  {
   "cell_type": "code",
   "execution_count": 65,
   "metadata": {
    "colab": {
     "base_uri": "https://localhost:8080/",
     "height": 419
    },
    "id": "om_VHPTkza6J",
    "outputId": "e2eb6709-8d58-4af2-8208-3f390c12129c"
   },
   "outputs": [
    {
     "data": {
      "text/html": [
       "<div>\n",
       "<style scoped>\n",
       "    .dataframe tbody tr th:only-of-type {\n",
       "        vertical-align: middle;\n",
       "    }\n",
       "\n",
       "    .dataframe tbody tr th {\n",
       "        vertical-align: top;\n",
       "    }\n",
       "\n",
       "    .dataframe thead th {\n",
       "        text-align: right;\n",
       "    }\n",
       "</style>\n",
       "<table border=\"1\" class=\"dataframe\">\n",
       "  <thead>\n",
       "    <tr style=\"text-align: right;\">\n",
       "      <th></th>\n",
       "      <th>age</th>\n",
       "      <th>BMI</th>\n",
       "      <th>male</th>\n",
       "      <th>diabetes</th>\n",
       "    </tr>\n",
       "  </thead>\n",
       "  <tbody>\n",
       "    <tr>\n",
       "      <th>1669</th>\n",
       "      <td>47</td>\n",
       "      <td>27.64</td>\n",
       "      <td>0</td>\n",
       "      <td>0</td>\n",
       "    </tr>\n",
       "    <tr>\n",
       "      <th>156</th>\n",
       "      <td>58</td>\n",
       "      <td>23.36</td>\n",
       "      <td>0</td>\n",
       "      <td>0</td>\n",
       "    </tr>\n",
       "    <tr>\n",
       "      <th>87</th>\n",
       "      <td>61</td>\n",
       "      <td>38.46</td>\n",
       "      <td>0</td>\n",
       "      <td>0</td>\n",
       "    </tr>\n",
       "    <tr>\n",
       "      <th>685</th>\n",
       "      <td>45</td>\n",
       "      <td>25.92</td>\n",
       "      <td>0</td>\n",
       "      <td>0</td>\n",
       "    </tr>\n",
       "    <tr>\n",
       "      <th>666</th>\n",
       "      <td>57</td>\n",
       "      <td>26.24</td>\n",
       "      <td>0</td>\n",
       "      <td>0</td>\n",
       "    </tr>\n",
       "    <tr>\n",
       "      <th>...</th>\n",
       "      <td>...</td>\n",
       "      <td>...</td>\n",
       "      <td>...</td>\n",
       "      <td>...</td>\n",
       "    </tr>\n",
       "    <tr>\n",
       "      <th>1185</th>\n",
       "      <td>46</td>\n",
       "      <td>23.48</td>\n",
       "      <td>1</td>\n",
       "      <td>0</td>\n",
       "    </tr>\n",
       "    <tr>\n",
       "      <th>3905</th>\n",
       "      <td>44</td>\n",
       "      <td>26.97</td>\n",
       "      <td>1</td>\n",
       "      <td>0</td>\n",
       "    </tr>\n",
       "    <tr>\n",
       "      <th>3382</th>\n",
       "      <td>61</td>\n",
       "      <td>31.63</td>\n",
       "      <td>0</td>\n",
       "      <td>0</td>\n",
       "    </tr>\n",
       "    <tr>\n",
       "      <th>465</th>\n",
       "      <td>38</td>\n",
       "      <td>30.02</td>\n",
       "      <td>1</td>\n",
       "      <td>0</td>\n",
       "    </tr>\n",
       "    <tr>\n",
       "      <th>2249</th>\n",
       "      <td>56</td>\n",
       "      <td>22.89</td>\n",
       "      <td>0</td>\n",
       "      <td>0</td>\n",
       "    </tr>\n",
       "  </tbody>\n",
       "</table>\n",
       "<p>200 rows × 4 columns</p>\n",
       "</div>"
      ],
      "text/plain": [
       "      age    BMI  male  diabetes\n",
       "1669   47  27.64     0         0\n",
       "156    58  23.36     0         0\n",
       "87     61  38.46     0         0\n",
       "685    45  25.92     0         0\n",
       "666    57  26.24     0         0\n",
       "...   ...    ...   ...       ...\n",
       "1185   46  23.48     1         0\n",
       "3905   44  26.97     1         0\n",
       "3382   61  31.63     0         0\n",
       "465    38  30.02     1         0\n",
       "2249   56  22.89     0         0\n",
       "\n",
       "[200 rows x 4 columns]"
      ]
     },
     "execution_count": 65,
     "metadata": {},
     "output_type": "execute_result"
    }
   ],
   "source": [
    "# Sample the data\n",
    "samples2 = df[[\"age\", \"BMI\", \"male\", 'diabetes']].sample(200, random_state=0)\n",
    "samples2"
   ]
  },
  {
   "cell_type": "markdown",
   "metadata": {
    "id": "h71TnYvLza6L"
   },
   "source": [
    "## Q3.\n",
    "\n",
    "We use the variables - Age, Sex and BMI.\n",
    "\n",
    "In addition we added 'diabetes' - boolean variable indicating whether the person has diabetes or not.\n"
   ]
  },
  {
   "cell_type": "markdown",
   "metadata": {
    "id": "W_qXPH2iza6M"
   },
   "source": [
    "### A."
   ]
  },
  {
   "cell_type": "code",
   "execution_count": 66,
   "metadata": {
    "colab": {
     "base_uri": "https://localhost:8080/",
     "height": 111
    },
    "id": "2AY2cq5tza6M",
    "outputId": "eac0f9e5-36cc-4b42-b844-726e50125e55"
   },
   "outputs": [
    {
     "data": {
      "text/html": [
       "<div>\n",
       "<style scoped>\n",
       "    .dataframe tbody tr th:only-of-type {\n",
       "        vertical-align: middle;\n",
       "    }\n",
       "\n",
       "    .dataframe tbody tr th {\n",
       "        vertical-align: top;\n",
       "    }\n",
       "\n",
       "    .dataframe thead th {\n",
       "        text-align: right;\n",
       "    }\n",
       "</style>\n",
       "<table border=\"1\" class=\"dataframe\">\n",
       "  <thead>\n",
       "    <tr style=\"text-align: right;\">\n",
       "      <th></th>\n",
       "      <th>diabetes</th>\n",
       "      <th>count</th>\n",
       "    </tr>\n",
       "  </thead>\n",
       "  <tbody>\n",
       "    <tr>\n",
       "      <th>0</th>\n",
       "      <td>0</td>\n",
       "      <td>198</td>\n",
       "    </tr>\n",
       "    <tr>\n",
       "      <th>1</th>\n",
       "      <td>1</td>\n",
       "      <td>2</td>\n",
       "    </tr>\n",
       "  </tbody>\n",
       "</table>\n",
       "</div>"
      ],
      "text/plain": [
       "   diabetes  count\n",
       "0         0    198\n",
       "1         1      2"
      ]
     },
     "execution_count": 66,
     "metadata": {},
     "output_type": "execute_result"
    }
   ],
   "source": [
    "sex_count = samples2.copy()\n",
    "sex_count.insert(0, 'count', 1)\n",
    "sex_count = sex_count[['diabetes', 'count']].groupby('diabetes', as_index=False).count()\n",
    "sex_count"
   ]
  },
  {
   "cell_type": "markdown",
   "metadata": {
    "id": "FUzztWd5za6O"
   },
   "source": [
    "### B.\n",
    "\n",
    "Missing Values:"
   ]
  },
  {
   "cell_type": "code",
   "execution_count": 67,
   "metadata": {
    "colab": {
     "base_uri": "https://localhost:8080/"
    },
    "id": "xqEmAWGzza6P",
    "outputId": "789fcab2-6a40-4b10-8e23-f0e81dba424b"
   },
   "outputs": [
    {
     "data": {
      "text/plain": [
       "age         0\n",
       "BMI         1\n",
       "male        0\n",
       "diabetes    0\n",
       "dtype: int64"
      ]
     },
     "execution_count": 67,
     "metadata": {},
     "output_type": "execute_result"
    }
   ],
   "source": [
    "samples2.isnull().sum()"
   ]
  },
  {
   "cell_type": "markdown",
   "metadata": {
    "id": "61I9gPasza6Q"
   },
   "source": [
    "**Missing Values**\n",
    "\n",
    "* As we can see, we have just a few missing values (same as before). So we drop these records. After removing them we are left with:"
   ]
  },
  {
   "cell_type": "code",
   "execution_count": 68,
   "metadata": {
    "colab": {
     "base_uri": "https://localhost:8080/"
    },
    "id": "X_Sc9NIgza6Q",
    "outputId": "ad16cfe1-262e-458c-fdfa-328a16a7d23b"
   },
   "outputs": [
    {
     "name": "stdout",
     "output_type": "stream",
     "text": [
      "Number of records: 199\n"
     ]
    }
   ],
   "source": [
    "samples2.dropna(inplace=True)\n",
    "print(\"Number of records:\", samples2.shape[0])"
   ]
  },
  {
   "cell_type": "markdown",
   "metadata": {
    "id": "IGpXFKyTza6R"
   },
   "source": [
    "**Outliers**\n",
    "\n",
    "* Regarding diabetes, we have only sick or healthy, so outliers isn't relevant.\n",
    "\n",
    "**Distribution**:\n",
    "    \n",
    "* Only 1 of the sampled people has no diabetes so the distribution is **not** symmetric.   \n",
    "   "
   ]
  },
  {
   "cell_type": "markdown",
   "metadata": {
    "id": "3oCbRQHdza6R"
   },
   "source": [
    "### C."
   ]
  },
  {
   "cell_type": "code",
   "execution_count": 69,
   "metadata": {
    "colab": {
     "base_uri": "https://localhost:8080/",
     "height": 482
    },
    "id": "rqlrem4Bza6S",
    "outputId": "a776689a-5af5-4d30-878e-be00a0ad97dd"
   },
   "outputs": [
    {
     "data": {
      "text/plain": [
       "<matplotlib.legend.Legend at 0x7fe3bfe2d160>"
      ]
     },
     "execution_count": 69,
     "metadata": {},
     "output_type": "execute_result"
    },
    {
     "data": {
      "image/png": "[encoded data removed]",
      "text/plain": [
       "<Figure size 864x432 with 1 Axes>"
      ]
     },
     "metadata": {
      "needs_background": "light"
     },
     "output_type": "display_data"
    }
   ],
   "source": [
    "fig, axs = plt.subplots(1,figsize = (12,6))\n",
    "sns.distplot(samples2.loc[samples2['diabetes'] == False]['BMI'], ax=axs, axlabel='BMI', label=\"Didn't sick\")\n",
    "sns.distplot(samples2.loc[samples2['diabetes'] == True]['BMI'], ax=axs, axlabel='BMI', label=\"sick\")\n",
    "axs.set_title('BMI histogram by Diabetes Indicator')\n",
    "axs.legend()"
   ]
  },
  {
   "cell_type": "code",
   "execution_count": 70,
   "metadata": {
    "colab": {
     "base_uri": "https://localhost:8080/",
     "height": 482
    },
    "id": "GOb25lBtza6S",
    "outputId": "ca995b38-f7de-4a4b-dca3-a3143adc9e64"
   },
   "outputs": [
    {
     "data": {
      "text/plain": [
       "<matplotlib.legend.Legend at 0x7fe3be891520>"
      ]
     },
     "execution_count": 70,
     "metadata": {},
     "output_type": "execute_result"
    },
    {
     "data": {
      "image/png": "[encoded data removed]",
      "text/plain": [
       "<Figure size 864x432 with 1 Axes>"
      ]
     },
     "metadata": {
      "needs_background": "light"
     },
     "output_type": "display_data"
    }
   ],
   "source": [
    "fig, axs = plt.subplots(1,figsize = (12,6))\n",
    "\n",
    "sns.distplot(samples2.loc[samples2['diabetes'] == False]['age'], ax=axs, axlabel='age', label=\"no diabetes\")\n",
    "sns.distplot(samples2.loc[samples2['diabetes'] == True]['age'], ax=axs, axlabel='age', label=\"has diabetes\")\n",
    "axs.set_title('Age histogram by diabetes')\n",
    "axs.legend()"
   ]
  },
  {
   "cell_type": "markdown",
   "metadata": {
    "id": "2JnzM9tjza6T"
   },
   "source": [
    "From the above histograms, it seems that \n",
    "\n",
    "age is the strongest indicator \n",
    "\n",
    "of has diabetes (out of our continous variables).\n",
    "\n",
    "This is because the distribution of has/hasnt diabetes is very similar when looking at age."
   ]
  },
  {
   "cell_type": "markdown",
   "metadata": {
    "id": "msCOjIh3za6U"
   },
   "source": [
    "## Q4.\n",
    "\n",
    "Estimator for the regression diabetes:\n"
   ]
  },
  {
   "cell_type": "code",
   "execution_count": 71,
   "metadata": {
    "colab": {
     "base_uri": "https://localhost:8080/",
     "height": 134
    },
    "id": "S44_Yo56za6U",
    "outputId": "1adbc09d-1dcf-4dfa-de29-efa5385583e6"
   },
   "outputs": [
    {
     "data": {
      "text/html": [
       "<div>\n",
       "<style scoped>\n",
       "    .dataframe tbody tr th:only-of-type {\n",
       "        vertical-align: middle;\n",
       "    }\n",
       "\n",
       "    .dataframe tbody tr th {\n",
       "        vertical-align: top;\n",
       "    }\n",
       "\n",
       "    .dataframe thead th {\n",
       "        text-align: right;\n",
       "    }\n",
       "</style>\n",
       "<table border=\"1\" class=\"dataframe\">\n",
       "  <thead>\n",
       "    <tr style=\"text-align: right;\">\n",
       "      <th></th>\n",
       "      <th>intercept</th>\n",
       "      <th>age</th>\n",
       "      <th>male</th>\n",
       "      <th>BMI</th>\n",
       "    </tr>\n",
       "  </thead>\n",
       "  <tbody>\n",
       "    <tr>\n",
       "      <th>Beta Estimator</th>\n",
       "      <td>-15.213726</td>\n",
       "      <td>0.062167</td>\n",
       "      <td>-21.562862</td>\n",
       "      <td>0.264666</td>\n",
       "    </tr>\n",
       "  </tbody>\n",
       "</table>\n",
       "</div>"
      ],
      "text/plain": [
       "                intercept       age       male       BMI\n",
       "Beta Estimator -15.213726  0.062167 -21.562862  0.264666"
      ]
     },
     "execution_count": 71,
     "metadata": {},
     "output_type": "execute_result"
    }
   ],
   "source": [
    "\n",
    "samples2.loc[samples2['male'] == 'female' , 'male'] = 1\n",
    "samples2.loc[samples2['male'] == 'male' , 'male'] = 0\n",
    "att = ['intercept', \"age\", 'male', 'BMI']\n",
    "Y2 = samples2[\"diabetes\"].to_numpy(dtype='float64').reshape((-1,1))\n",
    "X2 = samples2[[\"age\", 'male', 'BMI']]\n",
    "X2['intercept']=1\n",
    "X2= X2[att]\n",
    "X2 = X2.to_numpy(dtype='float64')\n",
    "\n",
    "results2 = Logit(Y2, X2).fit(disp=False)\n",
    "\n",
    "betas = np.array(results2.params).reshape((1,-1))\n",
    "pd.DataFrame(betas, columns=att, index=[\"Beta Estimator\"])"
   ]
  },
  {
   "cell_type": "markdown",
   "metadata": {
    "id": "DSXJOm4Fza6W"
   },
   "source": [
    "Generally, for each attribute $i$ in the diabetes the meaning of $\\hat{\\beta_i}$ is that increasing of one unit in this attribute multiplies the odds ratio with $e^\\hat{\\beta_i}$\n",
    "\n",
    "* We got that increasing age by one year multiplies the odds ratio with $\\approx$ 0.062 - a small increase in the chance to get sick in diabeetes.\n",
    "\n",
    "* We got that for each increase of BMI by one multiplies the odds ratio with $\\approx$ 0.2646 - a small decrease in the chance to get diabetes.\n",
    "\n",
    "* We got that being a female (compared to male) multiplies the odds ratio with $\\approx$ -21.56 - a big increase in the chance to get diabetes"
   ]
  },
  {
   "cell_type": "markdown",
   "metadata": {
    "id": "e-T4Ig1aza6X"
   },
   "source": [
    "## Q5."
   ]
  },
  {
   "cell_type": "markdown",
   "metadata": {
    "id": "OmK1dHjUza6X"
   },
   "source": [
    "Confidence intervals for $\\beta_{\\mbox{sex}}^*, \\ \\beta_{\\mbox{BMI}}^*, \\ \\beta_{\\mbox{age}}^*$:"
   ]
  },
  {
   "cell_type": "code",
   "execution_count": 72,
   "metadata": {
    "colab": {
     "base_uri": "https://localhost:8080/",
     "height": 142
    },
    "id": "SmgWKrLCza6Y",
    "outputId": "7c0e751b-efd7-4ff8-ff30-98904f589ba9"
   },
   "outputs": [
    {
     "data": {
      "text/html": [
       "<div>\n",
       "<style scoped>\n",
       "    .dataframe tbody tr th:only-of-type {\n",
       "        vertical-align: middle;\n",
       "    }\n",
       "\n",
       "    .dataframe tbody tr th {\n",
       "        vertical-align: top;\n",
       "    }\n",
       "\n",
       "    .dataframe thead th {\n",
       "        text-align: right;\n",
       "    }\n",
       "</style>\n",
       "<table border=\"1\" class=\"dataframe\">\n",
       "  <thead>\n",
       "    <tr style=\"text-align: right;\">\n",
       "      <th></th>\n",
       "      <th>Lower</th>\n",
       "      <th>Upper</th>\n",
       "    </tr>\n",
       "  </thead>\n",
       "  <tbody>\n",
       "    <tr>\n",
       "      <th>Age</th>\n",
       "      <td>-0.164993</td>\n",
       "      <td>0.289327</td>\n",
       "    </tr>\n",
       "    <tr>\n",
       "      <th>male</th>\n",
       "      <td>-99656.180185</td>\n",
       "      <td>99613.054461</td>\n",
       "    </tr>\n",
       "    <tr>\n",
       "      <th>BMI</th>\n",
       "      <td>0.029200</td>\n",
       "      <td>0.500131</td>\n",
       "    </tr>\n",
       "  </tbody>\n",
       "</table>\n",
       "</div>"
      ],
      "text/plain": [
       "             Lower         Upper\n",
       "Age      -0.164993      0.289327\n",
       "male -99656.180185  99613.054461\n",
       "BMI       0.029200      0.500131"
      ]
     },
     "execution_count": 72,
     "metadata": {},
     "output_type": "execute_result"
    }
   ],
   "source": [
    "conf_int = pd.DataFrame(results2.conf_int()[1:])\n",
    "conf_int.columns = ['Lower','Upper']\n",
    "conf_int.rename(index={0:'Age',1:'male', 2:'BMI'}, inplace=True)\n",
    "conf_int"
   ]
  },
  {
   "cell_type": "markdown",
   "metadata": {
    "id": "Z_RaVSUWza6Z"
   },
   "source": [
    "The actual $\\beta_{\\mbox{sex}}^*, \\ \\beta_{\\mbox{BMI}}^*, \\ \\beta_{\\mbox{age}}^*$ (based on the full data):"
   ]
  },
  {
   "cell_type": "code",
   "execution_count": 73,
   "metadata": {
    "colab": {
     "base_uri": "https://localhost:8080/",
     "height": 80
    },
    "id": "Yx62NXS8za6a",
    "outputId": "b04295e6-ed9f-431d-e4f2-88640401a6ae"
   },
   "outputs": [
    {
     "data": {
      "text/html": [
       "<div>\n",
       "<style scoped>\n",
       "    .dataframe tbody tr th:only-of-type {\n",
       "        vertical-align: middle;\n",
       "    }\n",
       "\n",
       "    .dataframe tbody tr th {\n",
       "        vertical-align: top;\n",
       "    }\n",
       "\n",
       "    .dataframe thead th {\n",
       "        text-align: right;\n",
       "    }\n",
       "</style>\n",
       "<table border=\"1\" class=\"dataframe\">\n",
       "  <thead>\n",
       "    <tr style=\"text-align: right;\">\n",
       "      <th></th>\n",
       "      <th>intercept</th>\n",
       "      <th>age</th>\n",
       "      <th>male</th>\n",
       "      <th>BMI</th>\n",
       "    </tr>\n",
       "  </thead>\n",
       "  <tbody>\n",
       "    <tr>\n",
       "      <th>Beta Estimator</th>\n",
       "      <td>-9.989777</td>\n",
       "      <td>0.070156</td>\n",
       "      <td>0.278884</td>\n",
       "      <td>0.095168</td>\n",
       "    </tr>\n",
       "  </tbody>\n",
       "</table>\n",
       "</div>"
      ],
      "text/plain": [
       "                intercept       age      male       BMI\n",
       "Beta Estimator  -9.989777  0.070156  0.278884  0.095168"
      ]
     },
     "execution_count": 73,
     "metadata": {},
     "output_type": "execute_result"
    }
   ],
   "source": [
    "\n",
    "att = ['intercept', \"age\",'male', 'BMI']\n",
    "input_data2 = df.copy()\n",
    "input_data2 = input_data2[[\"age\",'male', 'BMI', 'diabetes']]\n",
    "\n",
    "input_data2.loc[input_data2['male'] == 'female' , 'male'] = 1\n",
    "input_data2.loc[input_data2['male'] == 'male' , 'male'] = 0\n",
    "\n",
    "input_data2.dropna(inplace=True)\n",
    "\n",
    "Y_full2 = input_data2[\"diabetes\"].to_numpy(dtype='float64').reshape((-1,1))\n",
    "X_full2= input_data2[[ \"age\",'male', 'BMI']]\n",
    "\n",
    "X_full2['intercept']=1\n",
    "X_full2= X_full2[att]\n",
    "X_full2 = X_full2.to_numpy(dtype='float64')\n",
    "\n",
    "results_full2 = Logit(Y_full2, X_full2).fit(disp=False) \n",
    "\n",
    "betas = np.array(results_full2.params).reshape((1,-1))\n",
    "pd.DataFrame(betas, columns=att, index=[\"Beta Estimator\"])"
   ]
  },
  {
   "cell_type": "markdown",
   "metadata": {
    "id": "YXg77ETsza6b"
   },
   "source": [
    "We can see that for all our explanatory variables - $i \\in \\{age, bmi, sex\\}$, it holds that  $\\beta_{\\mbox{i}}^* \\in CI_{\\hat{\\beta_{\\mbox{i}}}}$\n",
    "\n",
    "So the CI's for the estimator, based on the sample data, include the real paramaters :) \n"
   ]
  },
  {
   "cell_type": "markdown",
   "metadata": {
    "id": "xuQ0edrgza6c"
   },
   "source": [
    "## Q6.\n",
    "\n",
    "Beta estimators for Model that has interactions age-sex,\tage-bmi and\tsex-bmi in addition to age,\tbmi and sex."
   ]
  },
  {
   "cell_type": "code",
   "execution_count": 74,
   "metadata": {
    "colab": {
     "base_uri": "https://localhost:8080/",
     "height": 134
    },
    "id": "kSoqK5Yvza6d",
    "outputId": "1107ad22-1aa9-4566-93e9-ccd8ff346f37"
   },
   "outputs": [
    {
     "data": {
      "text/html": [
       "<div>\n",
       "<style scoped>\n",
       "    .dataframe tbody tr th:only-of-type {\n",
       "        vertical-align: middle;\n",
       "    }\n",
       "\n",
       "    .dataframe tbody tr th {\n",
       "        vertical-align: top;\n",
       "    }\n",
       "\n",
       "    .dataframe thead th {\n",
       "        text-align: right;\n",
       "    }\n",
       "</style>\n",
       "<table border=\"1\" class=\"dataframe\">\n",
       "  <thead>\n",
       "    <tr style=\"text-align: right;\">\n",
       "      <th></th>\n",
       "      <th>intercept</th>\n",
       "      <th>age</th>\n",
       "      <th>male</th>\n",
       "      <th>BMI</th>\n",
       "      <th>age-male</th>\n",
       "      <th>age-BMI</th>\n",
       "      <th>male-BMI</th>\n",
       "    </tr>\n",
       "  </thead>\n",
       "  <tbody>\n",
       "    <tr>\n",
       "      <th>Beta Estimator</th>\n",
       "      <td>-92.957876</td>\n",
       "      <td>1.422725</td>\n",
       "      <td>40.291578</td>\n",
       "      <td>2.550196</td>\n",
       "      <td>-0.752596</td>\n",
       "      <td>-0.04041</td>\n",
       "      <td>-1.172406</td>\n",
       "    </tr>\n",
       "  </tbody>\n",
       "</table>\n",
       "</div>"
      ],
      "text/plain": [
       "                intercept       age       male       BMI  age-male  age-BMI  \\\n",
       "Beta Estimator -92.957876  1.422725  40.291578  2.550196 -0.752596 -0.04041   \n",
       "\n",
       "                male-BMI  \n",
       "Beta Estimator -1.172406  "
      ]
     },
     "execution_count": 74,
     "metadata": {},
     "output_type": "execute_result"
    }
   ],
   "source": [
    "X2_12 = (X2[:,1]*X2[:,2]).reshape((-1,1))\n",
    "X2_13 = (X2[:,1]*X2[:,3]).reshape((-1,1))\n",
    "X2_23 = (X2[:,2]*X2[:,3]).reshape((-1,1))\n",
    "interaction_X2 = np.c_[X2, X2_12, X2_13, X2_23]\n",
    "results_interaction2 = Logit(Y2, interaction_X2).fit(disp=False) \n",
    "\n",
    "betas = np.array(results_interaction2.params).reshape((1,-1))\n",
    "pd.DataFrame(betas, columns=att+['age-male','age-BMI','male-BMI'], index=[\"Beta Estimator\"])"
   ]
  },
  {
   "cell_type": "markdown",
   "metadata": {
    "id": "RKnOZgikza6e"
   },
   "source": [
    "We chose to look at two measures - $BIC, \\& \\ AIC$ to evaluate the two models.\n",
    "\n",
    "As we compared models with a different amount of paramaters (one model has interaction parameters and one doesn't) we selected measures that punish models with more parameters."
   ]
  },
  {
   "cell_type": "code",
   "execution_count": 75,
   "metadata": {
    "colab": {
     "base_uri": "https://localhost:8080/",
     "height": 111
    },
    "id": "Kuc4lCDyza6g",
    "outputId": "5d4fcaf5-3c39-4acb-f435-18cb191bfc5f"
   },
   "outputs": [
    {
     "data": {
      "text/html": [
       "<div>\n",
       "<style scoped>\n",
       "    .dataframe tbody tr th:only-of-type {\n",
       "        vertical-align: middle;\n",
       "    }\n",
       "\n",
       "    .dataframe tbody tr th {\n",
       "        vertical-align: top;\n",
       "    }\n",
       "\n",
       "    .dataframe thead th {\n",
       "        text-align: right;\n",
       "    }\n",
       "</style>\n",
       "<table border=\"1\" class=\"dataframe\">\n",
       "  <thead>\n",
       "    <tr style=\"text-align: right;\">\n",
       "      <th></th>\n",
       "      <th>With Interaction</th>\n",
       "      <th>Without Interaction</th>\n",
       "    </tr>\n",
       "  </thead>\n",
       "  <tbody>\n",
       "    <tr>\n",
       "      <th>BIC</th>\n",
       "      <td>-23.581353</td>\n",
       "      <td>-17.454687</td>\n",
       "    </tr>\n",
       "    <tr>\n",
       "      <th>AIC</th>\n",
       "      <td>-12.054786</td>\n",
       "      <td>-10.868077</td>\n",
       "    </tr>\n",
       "  </tbody>\n",
       "</table>\n",
       "</div>"
      ],
      "text/plain": [
       "     With Interaction  Without Interaction\n",
       "BIC        -23.581353           -17.454687\n",
       "AIC        -12.054786           -10.868077"
      ]
     },
     "execution_count": 75,
     "metadata": {},
     "output_type": "execute_result"
    }
   ],
   "source": [
    "pd.DataFrame([[-results_interaction2.bic/2, -results2.bic/2],\n",
    "            [-results_interaction2.aic/2, -results2.aic/2]], index=[\"BIC\",\"AIC\"],columns=[\"With Interaction\", \"Without Interaction\"])"
   ]
  },
  {
   "cell_type": "markdown",
   "metadata": {
    "id": "U3DrdZBZza6h"
   },
   "source": [
    "From the table we can see that the measures are pretty similar when comparing both models. \n",
    "\n",
    "By both measures we conclude that the model without interaction is slightly better.\n",
    "\n",
    "* Higher is better for these measures"
   ]
  }
 ],
 "metadata": {
  "colab": {
   "collapsed_sections": [
    "Z8Dp6Z0oza6F"
   ],
   "name": "Project_Part_3_318864436_316552710.ipynb",
   "provenance": []
  },
  "kernelspec": {
   "display_name": "Python 3",
   "language": "python",
   "name": "python3"
  },
  "language_info": {
   "codemirror_mode": {
    "name": "ipython",
    "version": 3
   },
   "file_extension": ".py",
   "mimetype": "text/x-python",
   "name": "python",
   "nbconvert_exporter": "python",
   "pygments_lexer": "ipython3",
   "version": "3.8.5"
  }
 },
 "nbformat": 4,
 "nbformat_minor": 1
}
