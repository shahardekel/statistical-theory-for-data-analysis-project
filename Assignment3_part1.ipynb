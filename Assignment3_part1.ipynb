{
 "cells": [
  {
   "cell_type": "markdown",
   "metadata": {},
   "source": [
    "<h1 style=\"color:violet; text-align:center;\">Assignment #3</h1>\n",
    "<h3 style=\"color:violet; text-align:center;\">Shahar Dekel 318864436</h3>\n",
    "<h3 style=\"color:violet; text-align:center;\">Amit Feiner 316552710</h3>"
   ]
  },
  {
   "cell_type": "markdown",
   "metadata": {},
   "source": [
    "<h2>Loading the dataset</h2>"
   ]
  },
  {
   "cell_type": "code",
   "execution_count": 88,
   "metadata": {},
   "outputs": [
    {
     "data": {
      "text/html": [
       "<div>\n",
       "<style scoped>\n",
       "    .dataframe tbody tr th:only-of-type {\n",
       "        vertical-align: middle;\n",
       "    }\n",
       "\n",
       "    .dataframe tbody tr th {\n",
       "        vertical-align: top;\n",
       "    }\n",
       "\n",
       "    .dataframe thead th {\n",
       "        text-align: right;\n",
       "    }\n",
       "</style>\n",
       "<table border=\"1\" class=\"dataframe\">\n",
       "  <thead>\n",
       "    <tr style=\"text-align: right;\">\n",
       "      <th></th>\n",
       "      <th>male</th>\n",
       "      <th>age</th>\n",
       "      <th>education</th>\n",
       "      <th>currentSmoker</th>\n",
       "      <th>cigsPerDay</th>\n",
       "      <th>BPMeds</th>\n",
       "      <th>diabetes</th>\n",
       "      <th>BMI</th>\n",
       "      <th>heartRate</th>\n",
       "      <th>glucose</th>\n",
       "    </tr>\n",
       "  </thead>\n",
       "  <tbody>\n",
       "    <tr>\n",
       "      <th>0</th>\n",
       "      <td>1</td>\n",
       "      <td>39</td>\n",
       "      <td>4.0</td>\n",
       "      <td>0</td>\n",
       "      <td>0.0</td>\n",
       "      <td>0.0</td>\n",
       "      <td>0</td>\n",
       "      <td>26.97</td>\n",
       "      <td>80.0</td>\n",
       "      <td>77.0</td>\n",
       "    </tr>\n",
       "    <tr>\n",
       "      <th>1</th>\n",
       "      <td>0</td>\n",
       "      <td>46</td>\n",
       "      <td>2.0</td>\n",
       "      <td>0</td>\n",
       "      <td>0.0</td>\n",
       "      <td>0.0</td>\n",
       "      <td>0</td>\n",
       "      <td>28.73</td>\n",
       "      <td>95.0</td>\n",
       "      <td>76.0</td>\n",
       "    </tr>\n",
       "    <tr>\n",
       "      <th>2</th>\n",
       "      <td>1</td>\n",
       "      <td>48</td>\n",
       "      <td>1.0</td>\n",
       "      <td>1</td>\n",
       "      <td>20.0</td>\n",
       "      <td>0.0</td>\n",
       "      <td>0</td>\n",
       "      <td>25.34</td>\n",
       "      <td>75.0</td>\n",
       "      <td>70.0</td>\n",
       "    </tr>\n",
       "    <tr>\n",
       "      <th>3</th>\n",
       "      <td>0</td>\n",
       "      <td>61</td>\n",
       "      <td>3.0</td>\n",
       "      <td>1</td>\n",
       "      <td>30.0</td>\n",
       "      <td>0.0</td>\n",
       "      <td>0</td>\n",
       "      <td>28.58</td>\n",
       "      <td>65.0</td>\n",
       "      <td>103.0</td>\n",
       "    </tr>\n",
       "    <tr>\n",
       "      <th>4</th>\n",
       "      <td>0</td>\n",
       "      <td>46</td>\n",
       "      <td>3.0</td>\n",
       "      <td>1</td>\n",
       "      <td>23.0</td>\n",
       "      <td>0.0</td>\n",
       "      <td>0</td>\n",
       "      <td>23.10</td>\n",
       "      <td>85.0</td>\n",
       "      <td>85.0</td>\n",
       "    </tr>\n",
       "    <tr>\n",
       "      <th>...</th>\n",
       "      <td>...</td>\n",
       "      <td>...</td>\n",
       "      <td>...</td>\n",
       "      <td>...</td>\n",
       "      <td>...</td>\n",
       "      <td>...</td>\n",
       "      <td>...</td>\n",
       "      <td>...</td>\n",
       "      <td>...</td>\n",
       "      <td>...</td>\n",
       "    </tr>\n",
       "    <tr>\n",
       "      <th>4233</th>\n",
       "      <td>1</td>\n",
       "      <td>50</td>\n",
       "      <td>1.0</td>\n",
       "      <td>1</td>\n",
       "      <td>1.0</td>\n",
       "      <td>0.0</td>\n",
       "      <td>0</td>\n",
       "      <td>25.97</td>\n",
       "      <td>66.0</td>\n",
       "      <td>86.0</td>\n",
       "    </tr>\n",
       "    <tr>\n",
       "      <th>4234</th>\n",
       "      <td>1</td>\n",
       "      <td>51</td>\n",
       "      <td>3.0</td>\n",
       "      <td>1</td>\n",
       "      <td>43.0</td>\n",
       "      <td>0.0</td>\n",
       "      <td>0</td>\n",
       "      <td>19.71</td>\n",
       "      <td>65.0</td>\n",
       "      <td>68.0</td>\n",
       "    </tr>\n",
       "    <tr>\n",
       "      <th>4235</th>\n",
       "      <td>0</td>\n",
       "      <td>48</td>\n",
       "      <td>2.0</td>\n",
       "      <td>1</td>\n",
       "      <td>20.0</td>\n",
       "      <td>NaN</td>\n",
       "      <td>0</td>\n",
       "      <td>22.00</td>\n",
       "      <td>84.0</td>\n",
       "      <td>86.0</td>\n",
       "    </tr>\n",
       "    <tr>\n",
       "      <th>4236</th>\n",
       "      <td>0</td>\n",
       "      <td>44</td>\n",
       "      <td>1.0</td>\n",
       "      <td>1</td>\n",
       "      <td>15.0</td>\n",
       "      <td>0.0</td>\n",
       "      <td>0</td>\n",
       "      <td>19.16</td>\n",
       "      <td>86.0</td>\n",
       "      <td>NaN</td>\n",
       "    </tr>\n",
       "    <tr>\n",
       "      <th>4237</th>\n",
       "      <td>0</td>\n",
       "      <td>52</td>\n",
       "      <td>2.0</td>\n",
       "      <td>0</td>\n",
       "      <td>0.0</td>\n",
       "      <td>0.0</td>\n",
       "      <td>0</td>\n",
       "      <td>21.47</td>\n",
       "      <td>80.0</td>\n",
       "      <td>107.0</td>\n",
       "    </tr>\n",
       "  </tbody>\n",
       "</table>\n",
       "<p>4238 rows × 10 columns</p>\n",
       "</div>"
      ],
      "text/plain": [
       "      male  age  education  currentSmoker  cigsPerDay  BPMeds  diabetes  \\\n",
       "0        1   39        4.0              0         0.0     0.0         0   \n",
       "1        0   46        2.0              0         0.0     0.0         0   \n",
       "2        1   48        1.0              1        20.0     0.0         0   \n",
       "3        0   61        3.0              1        30.0     0.0         0   \n",
       "4        0   46        3.0              1        23.0     0.0         0   \n",
       "...    ...  ...        ...            ...         ...     ...       ...   \n",
       "4233     1   50        1.0              1         1.0     0.0         0   \n",
       "4234     1   51        3.0              1        43.0     0.0         0   \n",
       "4235     0   48        2.0              1        20.0     NaN         0   \n",
       "4236     0   44        1.0              1        15.0     0.0         0   \n",
       "4237     0   52        2.0              0         0.0     0.0         0   \n",
       "\n",
       "        BMI  heartRate  glucose  \n",
       "0     26.97       80.0     77.0  \n",
       "1     28.73       95.0     76.0  \n",
       "2     25.34       75.0     70.0  \n",
       "3     28.58       65.0    103.0  \n",
       "4     23.10       85.0     85.0  \n",
       "...     ...        ...      ...  \n",
       "4233  25.97       66.0     86.0  \n",
       "4234  19.71       65.0     68.0  \n",
       "4235  22.00       84.0     86.0  \n",
       "4236  19.16       86.0      NaN  \n",
       "4237  21.47       80.0    107.0  \n",
       "\n",
       "[4238 rows x 10 columns]"
      ]
     },
     "execution_count": 88,
     "metadata": {},
     "output_type": "execute_result"
    }
   ],
   "source": [
    "# install packages at first run\n",
    "#!pip install pandas\n",
    "#!pip install seaborn\n",
    "#!pip install tabulate\n",
    "\n",
    "import pandas as pd\n",
    "import numpy as np\n",
    "import matplotlib.pyplot as plt\n",
    "import seaborn as sns \n",
    "import scipy\n",
    "import warnings\n",
    "warnings.filterwarnings('ignore')\n",
    "from statsmodels.regression.linear_model import OLS, RegressionResults\n",
    "from tabulate import tabulate\n",
    "import statsmodels.api as sm\n",
    "\n",
    "dataset='framingham_heart_disease.csv'\n",
    "df=pd.read_csv(dataset, sep=',')\n",
    "df.columns.values\n",
    "# removing unwanted columns\n",
    "df.drop(['prevalentStroke', 'prevalentHyp','totChol','sysBP','diaBP','TenYearCHD'], axis='columns', inplace=True)\n",
    "for val in ['age', 'heartRate']:\n",
    "    df[val].fillna(df[val].mean(), inplace=True)\n",
    "for val in ['currentSmoker', 'male']:\n",
    "    df[val].dropna()\n",
    "df"
   ]
  },
  {
   "cell_type": "markdown",
   "metadata": {},
   "source": [
    "<h2>Part 1- Linear Regression</h2>\n",
    "<h3>In this part, we chose to focus on 'male' (binary), 'age' (continuos) and 'currentSmoker' (binary) as explanatory variables (X$_1$, X$_2$, X$_3$) and 'heartRate' (continuos) as explained variable (Y)\n",
    "<br><br>\n",
    "1. <br> Our research question is- How does the sex, age and the fact that the person is a smoker or not affects the heart rate of the same person?\n",
    "<br><br>\n",
    "2.</h3>"
   ]
  },
  {
   "cell_type": "code",
   "execution_count": 89,
   "metadata": {},
   "outputs": [
    {
     "data": {
      "text/html": [
       "<div>\n",
       "<style scoped>\n",
       "    .dataframe tbody tr th:only-of-type {\n",
       "        vertical-align: middle;\n",
       "    }\n",
       "\n",
       "    .dataframe tbody tr th {\n",
       "        vertical-align: top;\n",
       "    }\n",
       "\n",
       "    .dataframe thead th {\n",
       "        text-align: right;\n",
       "    }\n",
       "</style>\n",
       "<table border=\"1\" class=\"dataframe\">\n",
       "  <thead>\n",
       "    <tr style=\"text-align: right;\">\n",
       "      <th></th>\n",
       "      <th>male</th>\n",
       "      <th>age</th>\n",
       "      <th>education</th>\n",
       "      <th>currentSmoker</th>\n",
       "      <th>cigsPerDay</th>\n",
       "      <th>BPMeds</th>\n",
       "      <th>diabetes</th>\n",
       "      <th>BMI</th>\n",
       "      <th>heartRate</th>\n",
       "      <th>glucose</th>\n",
       "    </tr>\n",
       "  </thead>\n",
       "  <tbody>\n",
       "    <tr>\n",
       "      <th>1617</th>\n",
       "      <td>0</td>\n",
       "      <td>50</td>\n",
       "      <td>4.0</td>\n",
       "      <td>0</td>\n",
       "      <td>0.0</td>\n",
       "      <td>0.0</td>\n",
       "      <td>0</td>\n",
       "      <td>23.24</td>\n",
       "      <td>110.0</td>\n",
       "      <td>NaN</td>\n",
       "    </tr>\n",
       "    <tr>\n",
       "      <th>1236</th>\n",
       "      <td>1</td>\n",
       "      <td>68</td>\n",
       "      <td>1.0</td>\n",
       "      <td>0</td>\n",
       "      <td>0.0</td>\n",
       "      <td>0.0</td>\n",
       "      <td>0</td>\n",
       "      <td>22.85</td>\n",
       "      <td>70.0</td>\n",
       "      <td>60.0</td>\n",
       "    </tr>\n",
       "    <tr>\n",
       "      <th>3495</th>\n",
       "      <td>0</td>\n",
       "      <td>49</td>\n",
       "      <td>1.0</td>\n",
       "      <td>1</td>\n",
       "      <td>1.0</td>\n",
       "      <td>0.0</td>\n",
       "      <td>0</td>\n",
       "      <td>20.13</td>\n",
       "      <td>107.0</td>\n",
       "      <td>58.0</td>\n",
       "    </tr>\n",
       "    <tr>\n",
       "      <th>2052</th>\n",
       "      <td>1</td>\n",
       "      <td>44</td>\n",
       "      <td>1.0</td>\n",
       "      <td>0</td>\n",
       "      <td>0.0</td>\n",
       "      <td>0.0</td>\n",
       "      <td>0</td>\n",
       "      <td>29.89</td>\n",
       "      <td>76.0</td>\n",
       "      <td>87.0</td>\n",
       "    </tr>\n",
       "    <tr>\n",
       "      <th>1818</th>\n",
       "      <td>1</td>\n",
       "      <td>67</td>\n",
       "      <td>1.0</td>\n",
       "      <td>0</td>\n",
       "      <td>0.0</td>\n",
       "      <td>0.0</td>\n",
       "      <td>0</td>\n",
       "      <td>27.78</td>\n",
       "      <td>75.0</td>\n",
       "      <td>74.0</td>\n",
       "    </tr>\n",
       "    <tr>\n",
       "      <th>...</th>\n",
       "      <td>...</td>\n",
       "      <td>...</td>\n",
       "      <td>...</td>\n",
       "      <td>...</td>\n",
       "      <td>...</td>\n",
       "      <td>...</td>\n",
       "      <td>...</td>\n",
       "      <td>...</td>\n",
       "      <td>...</td>\n",
       "      <td>...</td>\n",
       "    </tr>\n",
       "    <tr>\n",
       "      <th>574</th>\n",
       "      <td>0</td>\n",
       "      <td>39</td>\n",
       "      <td>3.0</td>\n",
       "      <td>1</td>\n",
       "      <td>30.0</td>\n",
       "      <td>0.0</td>\n",
       "      <td>0</td>\n",
       "      <td>24.12</td>\n",
       "      <td>85.0</td>\n",
       "      <td>72.0</td>\n",
       "    </tr>\n",
       "    <tr>\n",
       "      <th>271</th>\n",
       "      <td>0</td>\n",
       "      <td>57</td>\n",
       "      <td>2.0</td>\n",
       "      <td>1</td>\n",
       "      <td>1.0</td>\n",
       "      <td>0.0</td>\n",
       "      <td>0</td>\n",
       "      <td>24.22</td>\n",
       "      <td>90.0</td>\n",
       "      <td>76.0</td>\n",
       "    </tr>\n",
       "    <tr>\n",
       "      <th>1475</th>\n",
       "      <td>0</td>\n",
       "      <td>46</td>\n",
       "      <td>2.0</td>\n",
       "      <td>1</td>\n",
       "      <td>3.0</td>\n",
       "      <td>0.0</td>\n",
       "      <td>0</td>\n",
       "      <td>21.82</td>\n",
       "      <td>63.0</td>\n",
       "      <td>66.0</td>\n",
       "    </tr>\n",
       "    <tr>\n",
       "      <th>494</th>\n",
       "      <td>1</td>\n",
       "      <td>56</td>\n",
       "      <td>3.0</td>\n",
       "      <td>1</td>\n",
       "      <td>20.0</td>\n",
       "      <td>0.0</td>\n",
       "      <td>0</td>\n",
       "      <td>21.91</td>\n",
       "      <td>50.0</td>\n",
       "      <td>72.0</td>\n",
       "    </tr>\n",
       "    <tr>\n",
       "      <th>1737</th>\n",
       "      <td>0</td>\n",
       "      <td>38</td>\n",
       "      <td>1.0</td>\n",
       "      <td>0</td>\n",
       "      <td>0.0</td>\n",
       "      <td>0.0</td>\n",
       "      <td>0</td>\n",
       "      <td>23.66</td>\n",
       "      <td>78.0</td>\n",
       "      <td>76.0</td>\n",
       "    </tr>\n",
       "  </tbody>\n",
       "</table>\n",
       "<p>200 rows × 10 columns</p>\n",
       "</div>"
      ],
      "text/plain": [
       "      male  age  education  currentSmoker  cigsPerDay  BPMeds  diabetes  \\\n",
       "1617     0   50        4.0              0         0.0     0.0         0   \n",
       "1236     1   68        1.0              0         0.0     0.0         0   \n",
       "3495     0   49        1.0              1         1.0     0.0         0   \n",
       "2052     1   44        1.0              0         0.0     0.0         0   \n",
       "1818     1   67        1.0              0         0.0     0.0         0   \n",
       "...    ...  ...        ...            ...         ...     ...       ...   \n",
       "574      0   39        3.0              1        30.0     0.0         0   \n",
       "271      0   57        2.0              1         1.0     0.0         0   \n",
       "1475     0   46        2.0              1         3.0     0.0         0   \n",
       "494      1   56        3.0              1        20.0     0.0         0   \n",
       "1737     0   38        1.0              0         0.0     0.0         0   \n",
       "\n",
       "        BMI  heartRate  glucose  \n",
       "1617  23.24      110.0      NaN  \n",
       "1236  22.85       70.0     60.0  \n",
       "3495  20.13      107.0     58.0  \n",
       "2052  29.89       76.0     87.0  \n",
       "1818  27.78       75.0     74.0  \n",
       "...     ...        ...      ...  \n",
       "574   24.12       85.0     72.0  \n",
       "271   24.22       90.0     76.0  \n",
       "1475  21.82       63.0     66.0  \n",
       "494   21.91       50.0     72.0  \n",
       "1737  23.66       78.0     76.0  \n",
       "\n",
       "[200 rows x 10 columns]"
      ]
     },
     "execution_count": 89,
     "metadata": {},
     "output_type": "execute_result"
    }
   ],
   "source": [
    "subset=df.sample(200)\n",
    "subset"
   ]
  },
  {
   "cell_type": "markdown",
   "metadata": {},
   "source": [
    "<h3>3.</h3>"
   ]
  },
  {
   "cell_type": "code",
   "execution_count": 90,
   "metadata": {},
   "outputs": [
    {
     "name": "stdout",
     "output_type": "stream",
     "text": [
      "A\n",
      "Gender Count\n",
      "-----------\n",
      " 0    112\n",
      "1     88\n",
      "Name: male, dtype: int64\n"
     ]
    },
    {
     "data": {
      "text/plain": [
       "<function matplotlib.pyplot.show(close=None, block=None)>"
      ]
     },
     "execution_count": 90,
     "metadata": {},
     "output_type": "execute_result"
    },
    {
     "data": {
      "image/png": "[encoded data removed]",
      "text/plain": [
       "<Figure size 432x288 with 1 Axes>"
      ]
     },
     "metadata": {
      "needs_background": "light"
     },
     "output_type": "display_data"
    }
   ],
   "source": [
    "print(\"A\")\n",
    "#'male'\n",
    "gender = subset['male'].value_counts() # 0 is female, 1 is male\n",
    "#print(labels)\n",
    "print('Gender Count\\n-----------\\n', gender)\n",
    "\n",
    "ax1 = sns.barplot(x=gender.index , y=gender)\n",
    "plt.title('The patient gender- X$_1$')\n",
    "plt.ylabel('Number of patients')\n",
    "plt.xlabel('0-female, 1-male')\n",
    "plt.show"
   ]
  },
  {
   "cell_type": "code",
   "execution_count": 91,
   "metadata": {},
   "outputs": [
    {
     "data": {
      "image/png": "[encoded data removed]",
      "text/plain": [
       "<Figure size 432x288 with 1 Axes>"
      ]
     },
     "metadata": {
      "needs_background": "light"
     },
     "output_type": "display_data"
    }
   ],
   "source": [
    "#'age'\n",
    "age = subset['age']\n",
    "ax = age.plot.hist(bins=12, alpha=0.5, title = \"Histogram of the Patient's Age- X$_2$\")\n",
    "plt.ylabel('Number of patients')\n",
    "plt.xlabel('Age')\n",
    "plt.show()\n"
   ]
  },
  {
   "cell_type": "code",
   "execution_count": 92,
   "metadata": {},
   "outputs": [
    {
     "name": "stdout",
     "output_type": "stream",
     "text": [
      "CS   Count\n",
      "-----------\n",
      " 0    104\n",
      "1     96\n",
      "Name: currentSmoker, dtype: int64\n"
     ]
    },
    {
     "data": {
      "image/png": "[encoded data removed]",
      "text/plain": [
       "<Figure size 432x288 with 1 Axes>"
      ]
     },
     "metadata": {
      "needs_background": "light"
     },
     "output_type": "display_data"
    }
   ],
   "source": [
    "#'currentSmoker'\n",
    "cs=subset['currentSmoker'].value_counts() # 0 is a nonsmoker, 1 is a smoker\n",
    "print('CS   Count\\n-----------\\n', cs)\n",
    "\n",
    "ax2 = sns.barplot(x=cs.index , y=cs)\n",
    "plt.title('Is the patient a current smokers?- X$_3$')\n",
    "plt.ylabel('Number of patients')\n",
    "plt.xlabel('0-nonsmoker, 1-smoker')\n",
    "plt.show()"
   ]
  },
  {
   "cell_type": "code",
   "execution_count": 93,
   "metadata": {},
   "outputs": [
    {
     "data": {
      "image/png": "[encoded data removed]",
      "text/plain": [
       "<Figure size 432x288 with 1 Axes>"
      ]
     },
     "metadata": {
      "needs_background": "light"
     },
     "output_type": "display_data"
    }
   ],
   "source": [
    "#'heartRate'\n",
    "hr = subset['heartRate']\n",
    "ax = age.plot.hist(bins=12, alpha=0.5, title = 'Histogram of the Heart Rate- Y')\n",
    "plt.ylabel('Number of patients')\n",
    "plt.xlabel('Heart rate')\n",
    "plt.show()"
   ]
  },
  {
   "cell_type": "code",
   "execution_count": 94,
   "metadata": {},
   "outputs": [
    {
     "name": "stdout",
     "output_type": "stream",
     "text": [
      "B\n",
      "Missing values for 'gender': 0\n",
      "Missing values for 'age': 0\n",
      "Missing values for 'currentSmoker': 0\n",
      "Missing values for 'heartRate': 0\n",
      "As we see from every run on section 3A- the distributions change. Sometimes they are symmetrical and sometimes not.\n",
      "Therefore, we can not rely on the symmetries of the distribution.\n"
     ]
    }
   ],
   "source": [
    "print(\"B\")\n",
    "# missing values\n",
    "gender_cnt = len(gender)\n",
    "age_cnt = len(age)\n",
    "cs_cnt = len(cs)\n",
    "heart_cnt = len(hr)\n",
    "num_nan_gender = gender_cnt-len(gender)\n",
    "num_nan_age = age_cnt-len(age)\n",
    "num_nan_cs = cs_cnt-len(cs)\n",
    "num_nan_hr = heart_cnt-len(hr)\n",
    "print(\"Missing values for 'gender':\", num_nan_gender)\n",
    "print(\"Missing values for 'age':\", num_nan_age)\n",
    "print(\"Missing values for 'currentSmoker':\", num_nan_cs)\n",
    "print(\"Missing values for 'heartRate':\", num_nan_hr)\n",
    "\n",
    "# symetric distributions\n",
    "print(\"As we see from every run on section 3A- the distributions change. Sometimes they are symmetrical and sometimes not.\\nTherefore, we can not rely on the symmetries of the distribution.\")"
   ]
  },
  {
   "cell_type": "code",
   "execution_count": 95,
   "metadata": {},
   "outputs": [
    {
     "name": "stdout",
     "output_type": "stream",
     "text": [
      "C\n",
      "Our continuos variable is 'age'- X2\n"
     ]
    },
    {
     "data": {
      "image/png": "[encoded data removed]",
      "text/plain": [
       "<Figure size 432x288 with 1 Axes>"
      ]
     },
     "metadata": {
      "needs_background": "light"
     },
     "output_type": "display_data"
    },
    {
     "name": "stdout",
     "output_type": "stream",
     "text": [
      "We can see that the heart-rate does not change drastically between the ages of 35-55 and 60-70,\n",
      "and between the ages of 55-60 and over 70 it gets a jump\n"
     ]
    }
   ],
   "source": [
    "print(\"C\")\n",
    "print(\"Our continuos variable is 'age'- X2\")\n",
    "plt.scatter(data=subset, x='age',y='heartRate', c='red')\n",
    "sns.lineplot(data=subset,x='age',y='heartRate')\n",
    "plt.title('heartRate as a function of age')\n",
    "plt.show()\n",
    "print(\"We can see that the heart-rate does not change drastically between the ages of 35-55 and 60-70,\\nand between the ages of 55-60 and over 70 it gets a jump\")"
   ]
  },
  {
   "cell_type": "code",
   "execution_count": 96,
   "metadata": {},
   "outputs": [
    {
     "name": "stdout",
     "output_type": "stream",
     "text": [
      "D\n",
      "Our binary variables are 'male'-X1 and 'currentSmoker'-X3\n"
     ]
    },
    {
     "data": {
      "image/png": "[encoded data removed]",
      "text/plain": [
       "<Figure size 432x288 with 1 Axes>"
      ]
     },
     "metadata": {
      "needs_background": "light"
     },
     "output_type": "display_data"
    },
    {
     "data": {
      "image/png": "[encoded data removed]",
      "text/plain": [
       "<Figure size 432x288 with 1 Axes>"
      ]
     },
     "metadata": {
      "needs_background": "light"
     },
     "output_type": "display_data"
    }
   ],
   "source": [
    "print(\"D\")\n",
    "print(\"Our binary variables are 'male'-X1 and 'currentSmoker'-X3\")\n",
    "\n",
    "# male (gender)\n",
    "labels_gender=[\"0-female\",\"1-male\"]\n",
    "sns.boxplot(data=subset,x='male',y='heartRate')\n",
    "plt.title(\"heart-rate (Y) as a function of gender (X1)\")\n",
    "plt.legend(labels_gender)\n",
    "plt.show()\n",
    "\n",
    "# currentSmoker\n",
    "labels_smoker=['0-nonsmoker', '1-smoker']\n",
    "sns.boxplot(data=subset,x='currentSmoker',y='heartRate')\n",
    "plt.title(\"heart-rate (Y) as a function of current-smoker (X3)\")\n",
    "plt.legend(labels_smoker, loc='lower center')\n",
    "plt.show()"
   ]
  },
  {
   "cell_type": "markdown",
   "metadata": {},
   "source": [
    "<h3>4.</h3>"
   ]
  },
  {
   "cell_type": "code",
   "execution_count": 97,
   "metadata": {},
   "outputs": [
    {
     "name": "stdout",
     "output_type": "stream",
     "text": [
      "𝛽̂ = [74.03549 -6.3982   0.07943  3.70307]\n",
      "It can be seen from the calculation that if we increase 𝛽̂ in 1 unit:\n",
      "1. The effect of sex will be changed by about -6.398201324173422 units\n",
      "2. The effect of the age will be changed by 0.07943028215397346 units\n",
      "3. The effect of smoking will be changed by 3.7030671083253015 units\n"
     ]
    }
   ],
   "source": [
    "# find beta-hat\n",
    "subset.loc[:,\"ones\"] = 1\n",
    "Y = subset[\"heartRate\"]\n",
    "X = subset[[\"ones\",\"male\",\"age\",\"currentSmoker\"]]\n",
    "X = X.to_numpy()\n",
    "Y = (Y.to_numpy()).reshape((-1,1))\n",
    "\n",
    "beta_hat = np.dot(np.matmul(np.linalg.inv(np.matmul(X.T,X)),X.T),Y)\n",
    "np.set_printoptions(precision=5,suppress=True)\n",
    "\n",
    "curr = OLS(Y, X).fit()\n",
    "Rsquared_adj=curr.rsquared_adj\n",
    "Rsquared=curr.rsquared\n",
    "\n",
    "print(f\"𝛽̂ = {beta_hat.T[0]}\")\n",
    "print(f\"It can be seen from the calculation that if we increase 𝛽̂ in 1 unit:\\n1. The effect of sex will be changed by about {beta_hat[1][0]} units\\n2. The effect of the age will be changed by {beta_hat[2][0]} units\\n3. The effect of smoking will be changed by {beta_hat[3][0]} units\")"
   ]
  },
  {
   "cell_type": "markdown",
   "metadata": {},
   "source": [
    "<h3>5.</h3>"
   ]
  },
  {
   "cell_type": "code",
   "execution_count": 98,
   "metadata": {},
   "outputs": [
    {
     "name": "stdout",
     "output_type": "stream",
     "text": [
      "╒════════════╤══════════╤══════╤═════════╤═══════════╤═════════════╕\n",
      "│ Source     │       SS │   df │      MS │   F-ratio │     P-value │\n",
      "╞════════════╪══════════╪══════╪═════════╪═══════════╪═════════════╡\n",
      "│ Regression │  2365.69 │    3 │ 788.565 │   6.29436 │ 0.000424759 │\n",
      "├────────────┼──────────┼──────┼─────────┼───────────┼─────────────┤\n",
      "│ Residuals  │ 24555.1  │  196 │ 125.281 │           │             │\n",
      "├────────────┼──────────┼──────┼─────────┼───────────┼─────────────┤\n",
      "│ Total      │ 26920.8  │  199 │ 135.28  │           │             │\n",
      "╘════════════╧══════════╧══════╧═════════╧═══════════╧═════════════╛\n",
      "\n",
      "R_adj^2 = 0.07391500414063634, R^2= 0.9121239155197753\n"
     ]
    }
   ],
   "source": [
    "Y_avg = np.mean(Y)\n",
    "e = Y - np.dot(X, beta_hat)\n",
    "e_norm = (np.linalg.norm(e)**2)\n",
    "n, p = X.shape\n",
    "Y_hat = np.matmul(X,beta_hat)\n",
    "\n",
    "# SS\n",
    "SS_T = np.sum((Y-Y_avg)**2)\n",
    "SS_Res = np.sum((Y-Y_hat)**2)\n",
    "SS_Reg=SS_T-SS_Res\n",
    "\n",
    "# df\n",
    "df_T=n-1\n",
    "df_Res=n-p\n",
    "df_Reg=df_T-df_Res #k\n",
    "\n",
    "# MS\n",
    "MS_Reg=SS_Reg/df_Reg\n",
    "MS_Res = SS_Res / df_Res\n",
    "MS_T=SS_T/df_T\n",
    "\n",
    "# F-ratio\n",
    "F_ratio=MS_Reg/MS_Res\n",
    "\n",
    "# P-value\n",
    "p = 1-scipy.stats.f.cdf(F_ratio, df_Reg, df_Res)\n",
    "\n",
    "anova=[[\"Source\", \"SS\", \"df\", \"MS\", \"F-ratio\", \"P-value\"],[\"Regression\", SS_Reg, df_Reg, MS_Reg, F_ratio, p],[\"Residuals\", SS_Res, df_Res, MS_Res],[\"Total\", SS_T,df_T,MS_T]]\n",
    "print(tabulate(anova, headers='firstrow', tablefmt='fancy_grid'))\n",
    "\n",
    "R_adj_2 = 1- MS_Res/MS_T\n",
    "R_2 = SS_Res/SS_T\n",
    "print(f\"\\nR_adj^2 = {R_adj_2}, R^2= {R_2}\")\n",
    "\n"
   ]
  },
  {
   "cell_type": "markdown",
   "metadata": {},
   "source": [
    "<h3>6.</h3>"
   ]
  },
  {
   "cell_type": "code",
   "execution_count": 99,
   "metadata": {},
   "outputs": [
    {
     "name": "stdout",
     "output_type": "stream",
     "text": [
      "The confidence interval for beta*0 is [64.08169309630988, 83.98928605720154]\n",
      "𝛽̂0 is in the interval\n",
      "The confidence interval for beta*1 is [-9.548978440881697, -3.2474242074651456]\n",
      "𝛽̂1 is in the interval\n",
      "The confidence interval for beta*2 is [-0.10958208198623567, 0.2684426462941826]\n",
      "𝛽̂2 is in the interval\n",
      "The confidence interval for beta*3 is [0.4440024967924301, 6.9621317198581725]\n",
      "𝛽̂3 is in the interval\n",
      "\n",
      "𝛽̂ for the original dataset [76.04935 -3.25983  0.00336  2.14942]\n"
     ]
    }
   ],
   "source": [
    "# confidence intervals\n",
    "C=np.linalg.inv(np.matmul(X.T,X))\n",
    "se_hat=np.sqrt(MS_Res*C) # we need only the diagonal\n",
    "z=1.96 # the precent for the normal distribution\n",
    "\n",
    "for i in range(len(beta_hat)):\n",
    "    lower=float(beta_hat[i]-z*se_hat[i][i])\n",
    "    upper=float(beta_hat[i]+z*se_hat[i][i])\n",
    "    print(f\"The confidence interval for beta*{i} is\", [lower,upper])\n",
    "    if beta_hat[i]>=lower and beta_hat[i]<=upper:\n",
    "        print(f\"𝛽̂{i} is in the interval\")\n",
    "\n",
    "# find beta-hat for the original dataset\n",
    "df.loc[:,\"ones\"] = 1\n",
    "Y_og = df[\"heartRate\"]\n",
    "X_og = df[[\"ones\",\"male\",\"age\",\"currentSmoker\"]]\n",
    "X_og = X_og.to_numpy()\n",
    "Y_og = (Y_og.to_numpy()).reshape((-1,1))\n",
    "\n",
    "beta_hat_og = np.dot(np.matmul(np.linalg.inv(np.matmul(X_og.T,X_og)),X_og.T),Y_og)\n",
    "np.set_printoptions(precision=5,suppress=True)\n",
    "\n",
    "print(f\"\\n𝛽̂ for the original dataset {beta_hat_og.T[0]}\")"
   ]
  },
  {
   "cell_type": "markdown",
   "metadata": {},
   "source": [
    "<h3>7.</h3>\n",
    "<h3>H$_0$: $\\beta^*_1$ = ... = $\\beta^*_k$ = 0 <br>\n",
    "H$_1$: $\\beta^*_j$ ≠ 0 for at least one j > 0 <br>\n",
    "T.S. : F = $\\frac{MS_{Reg}}{MS_{Res}}$ <br>\n",
    "R.R. $F>F_{\\alpha,k, n-p}$"
   ]
  },
  {
   "cell_type": "code",
   "execution_count": 100,
   "metadata": {},
   "outputs": [
    {
     "name": "stdout",
     "output_type": "stream",
     "text": [
      "Reject H0\n"
     ]
    }
   ],
   "source": [
    "F_test= scipy.stats.f.ppf(q=1-0.05, dfn=df_Reg, dfd=df_Res) # alpha=0.05\n",
    "if F_ratio>F_test:\n",
    "    print(\"Reject H0\")\n",
    "else:\n",
    "    print(\"Accept H0\")"
   ]
  },
  {
   "cell_type": "markdown",
   "metadata": {},
   "source": [
    "<h3>8.</h3>"
   ]
  },
  {
   "cell_type": "code",
   "execution_count": 101,
   "metadata": {},
   "outputs": [
    {
     "data": {
      "image/png": "[encoded data removed]",
      "text/plain": [
       "<Figure size 432x288 with 1 Axes>"
      ]
     },
     "metadata": {
      "needs_background": "light"
     },
     "output_type": "display_data"
    },
    {
     "name": "stdout",
     "output_type": "stream",
     "text": [
      "1. The points are around the line e=0\n",
      "2. Varience is over all constant\n",
      "The assumptions are reasonable\n"
     ]
    }
   ],
   "source": [
    "results_sub = OLS(Y, X).fit()\n",
    "prediction = results_sub.get_prediction(X)\n",
    "prediction = prediction.predicted_mean.reshape((-1,1))\n",
    "plt.scatter(prediction,prediction-Y)\n",
    "plt.title(\"e as function of Y-hat\")\n",
    "plt.xlabel(\"Predicted (Y-hat)\")\n",
    "plt.ylabel(\"Residual (e)\")\n",
    "plt.axhline(color='r')\n",
    "plt.show()\n",
    "\n",
    "print(\"1. The points are around the line e=0\\n2. Varience is over all constant\\nThe assumptions are reasonable\")"
   ]
  },
  {
   "cell_type": "markdown",
   "metadata": {},
   "source": [
    "<h3>9.</h3>"
   ]
  },
  {
   "cell_type": "code",
   "execution_count": 102,
   "metadata": {},
   "outputs": [
    {
     "name": "stdout",
     "output_type": "stream",
     "text": [
      "#A\n",
      "2077    78.721876\n",
      "268     70.893930\n",
      "3817    75.073579\n",
      "3360    79.119028\n",
      "3112    75.073579\n",
      "          ...    \n",
      "3102    75.629591\n",
      "1183    78.563016\n",
      "3505    72.244245\n",
      "3234    81.471780\n",
      "362     77.848143\n",
      "Length: 1000, dtype: float64\n",
      "#B\n",
      "          lower       upper\n",
      "2077  26.690060  130.753692\n",
      "268   18.636770  123.151089\n",
      "3817  23.088559  127.058598\n",
      "3360  26.888613  131.349442\n",
      "3112  23.088559  127.058598\n",
      "...         ...         ...\n",
      "3102  23.552176  127.707005\n",
      "1183  26.584243  130.541788\n",
      "3505  20.141352  124.347137\n",
      "3234  29.485368  133.458192\n",
      "362   25.920103  129.776183\n",
      "\n",
      "[1000 rows x 2 columns]\n",
      "#C\n",
      "Close to 95%\n",
      "We can conclude that the subset we used in order to fit the model were representative enough\n",
      "and came from the same distribution as the whole data\n"
     ]
    }
   ],
   "source": [
    "subset1000 = df[~(df.index.isin(subset.index.values))].sample(n=1000)\n",
    "subset1000 = subset1000[['male','age','currentSmoker','heartRate']]\n",
    "#A\n",
    "print(\"#A\")\n",
    "X_new = subset1000[['male','age','currentSmoker']]\n",
    "X_new = sm.add_constant(X_new)\n",
    "Y_new = subset1000['heartRate']\n",
    "Y_pred = curr.predict(X_new)\n",
    "print(Y_pred)\n",
    "\n",
    "#B\n",
    "print(\"#B\")\n",
    "SS_Res = sum((Y_pred - Y_new)**2)\n",
    "MS_Res = SS_Res/(n-p)\n",
    "\n",
    "subset1000['Y_pred'] = Y_pred\n",
    "subset1000['add'] = X_new.apply(lambda interval : 1.96*np.sqrt(MS_Res*(np.array(interval).T.dot(C.dot(np.array(interval)))+1)), axis=1)\n",
    "subset1000['lower'] = subset1000['Y_pred'] - subset1000['add']\n",
    "subset1000['upper'] = subset1000['Y_pred'] + subset1000['add']\n",
    "print(subset1000[['lower','upper']])\n",
    "\n",
    "#C\n",
    "print(\"#C\")\n",
    "cnt=0\n",
    "for i in range(1000):\n",
    "    if subset1000[['lower']].to_numpy()[i]<Y_pred.to_numpy()[i] and subset1000[['upper']].to_numpy()[i]>Y_pred.to_numpy()[i]:\n",
    "        cnt+=1\n",
    "if cnt/1000>=0.95:\n",
    "    print(\"Close to 95%\")\n",
    "    print(\"We can conclude that the subset we used in order to fit the model were representative enough\\nand came from the same distribution as the whole data\")\n"
   ]
  },
  {
   "cell_type": "markdown",
   "metadata": {},
   "source": [
    "<h3>10.</h3>"
   ]
  },
  {
   "cell_type": "code",
   "execution_count": 103,
   "metadata": {},
   "outputs": [
    {
     "name": "stdout",
     "output_type": "stream",
     "text": [
      "𝛽̂ old = [74.03549 -6.3982   0.07943  3.70307]\n",
      "𝛽̂ new = [76.45738 -0.0798   1.45922  0.03092]\n",
      "For the old model: \n",
      " R_adj^2 : 0.07391500414063623,          R^2: 0.08787608448022466\n",
      "\n",
      "For the new model: \n",
      " R_adj^2 : 0.022076473468654156,          R^2: 0.022768890409790354\n",
      "\n",
      "We will choose the model that maximises R^2 adj ---> The new model\n"
     ]
    }
   ],
   "source": [
    "df['z12']= df['male']*df['age']\n",
    "df['z13']= df['male']*df['currentSmoker']\n",
    "df['z23']= df['age']*df['currentSmoker']\n",
    "Y = df[\"heartRate\"]\n",
    "X = df[[\"ones\",\"z12\",\"z13\",\"z23\"]]\n",
    "X = X.to_numpy()\n",
    "Y = (Y.to_numpy()).reshape((-1,1))\n",
    "\n",
    "beta_hat_10 = np.dot(np.matmul(np.linalg.inv(np.matmul(X.T,X)),X.T),Y)\n",
    "np.set_printoptions(precision=5,suppress=True)\n",
    "print(f\"𝛽̂ old = {beta_hat.T[0]}\")\n",
    "print(f\"𝛽̂ new = {beta_hat_10.T[0]}\")\n",
    "\n",
    "results_curr = OLS(Y, X).fit()\n",
    "print(f\"For the old model: \\n R_adj^2 : {Rsquared_adj},\\\n",
    "          R^2: {Rsquared}\\n\")\n",
    "print(f\"For the new model: \\n R_adj^2 : {results_curr.rsquared_adj},\\\n",
    "          R^2: {results_curr.rsquared}\\n\")\n",
    "\n",
    "print(\"We will choose the model that maximises R^2 adj ---> The new model\")"
   ]
  }
 ],
 "metadata": {
  "kernelspec": {
   "display_name": "Python 3",
   "language": "python",
   "name": "python3"
  },
  "language_info": {
   "codemirror_mode": {
    "name": "ipython",
    "version": 3
   },
   "file_extension": ".py",
   "mimetype": "text/x-python",
   "name": "python",
   "nbconvert_exporter": "python",
   "pygments_lexer": "ipython3",
   "version": "3.8.5"
  }
 },
 "nbformat": 4,
 "nbformat_minor": 4
}
